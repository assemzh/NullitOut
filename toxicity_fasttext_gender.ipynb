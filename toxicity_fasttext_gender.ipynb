{
  "nbformat": 4,
  "nbformat_minor": 0,
  "metadata": {
    "kernelspec": {
      "display_name": "Python 3",
      "language": "python",
      "name": "python3"
    },
    "language_info": {
      "codemirror_mode": {
        "name": "ipython",
        "version": 3
      },
      "file_extension": ".py",
      "mimetype": "text/x-python",
      "name": "python",
      "nbconvert_exporter": "python",
      "pygments_lexer": "ipython3",
      "version": "3.7.6"
    },
    "colab": {
      "name": "toxicity_fasttext_gender.ipynb",
      "provenance": [],
      "collapsed_sections": [
        "1t4yxtt7D2Jg",
        "d36bCagdE92P"
      ],
      "toc_visible": true
    },
    "accelerator": "GPU",
    "widgets": {
      "application/vnd.jupyter.widget-state+json": {
        "f641c4907b4b4a53aa3cb410f30e81eb": {
          "model_module": "@jupyter-widgets/controls",
          "model_name": "HBoxModel",
          "state": {
            "_view_name": "HBoxView",
            "_dom_classes": [],
            "_model_name": "HBoxModel",
            "_view_module": "@jupyter-widgets/controls",
            "_model_module_version": "1.5.0",
            "_view_count": null,
            "_view_module_version": "1.5.0",
            "box_style": "",
            "layout": "IPY_MODEL_ec6351b68a3f42eb899cadb6681628d8",
            "_model_module": "@jupyter-widgets/controls",
            "children": [
              "IPY_MODEL_3883c8e24e5b43e59b899436fcdef55e",
              "IPY_MODEL_6d0be2e172b2408eb71017cc394fe93c"
            ]
          }
        },
        "ec6351b68a3f42eb899cadb6681628d8": {
          "model_module": "@jupyter-widgets/base",
          "model_name": "LayoutModel",
          "state": {
            "_view_name": "LayoutView",
            "grid_template_rows": null,
            "right": null,
            "justify_content": null,
            "_view_module": "@jupyter-widgets/base",
            "overflow": null,
            "_model_module_version": "1.2.0",
            "_view_count": null,
            "flex_flow": null,
            "width": null,
            "min_width": null,
            "border": null,
            "align_items": null,
            "bottom": null,
            "_model_module": "@jupyter-widgets/base",
            "top": null,
            "grid_column": null,
            "overflow_y": null,
            "overflow_x": null,
            "grid_auto_flow": null,
            "grid_area": null,
            "grid_template_columns": null,
            "flex": null,
            "_model_name": "LayoutModel",
            "justify_items": null,
            "grid_row": null,
            "max_height": null,
            "align_content": null,
            "visibility": null,
            "align_self": null,
            "height": null,
            "min_height": null,
            "padding": null,
            "grid_auto_rows": null,
            "grid_gap": null,
            "max_width": null,
            "order": null,
            "_view_module_version": "1.2.0",
            "grid_template_areas": null,
            "object_position": null,
            "object_fit": null,
            "grid_auto_columns": null,
            "margin": null,
            "display": null,
            "left": null
          }
        },
        "3883c8e24e5b43e59b899436fcdef55e": {
          "model_module": "@jupyter-widgets/controls",
          "model_name": "FloatProgressModel",
          "state": {
            "_view_name": "ProgressView",
            "style": "IPY_MODEL_fae3aa6117fc476bbe20aab427e09535",
            "_dom_classes": [],
            "description": "100%",
            "_model_name": "FloatProgressModel",
            "bar_style": "success",
            "max": 33782,
            "_view_module": "@jupyter-widgets/controls",
            "_model_module_version": "1.5.0",
            "value": 33782,
            "_view_count": null,
            "_view_module_version": "1.5.0",
            "orientation": "horizontal",
            "min": 0,
            "description_tooltip": null,
            "_model_module": "@jupyter-widgets/controls",
            "layout": "IPY_MODEL_1503be4dfb47452b975fe7b4c2487bb8"
          }
        },
        "6d0be2e172b2408eb71017cc394fe93c": {
          "model_module": "@jupyter-widgets/controls",
          "model_name": "HTMLModel",
          "state": {
            "_view_name": "HTMLView",
            "style": "IPY_MODEL_d551c375512e4c90856cf59af2f355bc",
            "_dom_classes": [],
            "description": "",
            "_model_name": "HTMLModel",
            "placeholder": "​",
            "_view_module": "@jupyter-widgets/controls",
            "_model_module_version": "1.5.0",
            "value": " 33782/33782 [17:49&lt;00:00, 31.58it/s]",
            "_view_count": null,
            "_view_module_version": "1.5.0",
            "description_tooltip": null,
            "_model_module": "@jupyter-widgets/controls",
            "layout": "IPY_MODEL_4c6c2f980a70473dac6858768a302311"
          }
        },
        "fae3aa6117fc476bbe20aab427e09535": {
          "model_module": "@jupyter-widgets/controls",
          "model_name": "ProgressStyleModel",
          "state": {
            "_view_name": "StyleView",
            "_model_name": "ProgressStyleModel",
            "description_width": "initial",
            "_view_module": "@jupyter-widgets/base",
            "_model_module_version": "1.5.0",
            "_view_count": null,
            "_view_module_version": "1.2.0",
            "bar_color": null,
            "_model_module": "@jupyter-widgets/controls"
          }
        },
        "1503be4dfb47452b975fe7b4c2487bb8": {
          "model_module": "@jupyter-widgets/base",
          "model_name": "LayoutModel",
          "state": {
            "_view_name": "LayoutView",
            "grid_template_rows": null,
            "right": null,
            "justify_content": null,
            "_view_module": "@jupyter-widgets/base",
            "overflow": null,
            "_model_module_version": "1.2.0",
            "_view_count": null,
            "flex_flow": null,
            "width": null,
            "min_width": null,
            "border": null,
            "align_items": null,
            "bottom": null,
            "_model_module": "@jupyter-widgets/base",
            "top": null,
            "grid_column": null,
            "overflow_y": null,
            "overflow_x": null,
            "grid_auto_flow": null,
            "grid_area": null,
            "grid_template_columns": null,
            "flex": null,
            "_model_name": "LayoutModel",
            "justify_items": null,
            "grid_row": null,
            "max_height": null,
            "align_content": null,
            "visibility": null,
            "align_self": null,
            "height": null,
            "min_height": null,
            "padding": null,
            "grid_auto_rows": null,
            "grid_gap": null,
            "max_width": null,
            "order": null,
            "_view_module_version": "1.2.0",
            "grid_template_areas": null,
            "object_position": null,
            "object_fit": null,
            "grid_auto_columns": null,
            "margin": null,
            "display": null,
            "left": null
          }
        },
        "d551c375512e4c90856cf59af2f355bc": {
          "model_module": "@jupyter-widgets/controls",
          "model_name": "DescriptionStyleModel",
          "state": {
            "_view_name": "StyleView",
            "_model_name": "DescriptionStyleModel",
            "description_width": "",
            "_view_module": "@jupyter-widgets/base",
            "_model_module_version": "1.5.0",
            "_view_count": null,
            "_view_module_version": "1.2.0",
            "_model_module": "@jupyter-widgets/controls"
          }
        },
        "4c6c2f980a70473dac6858768a302311": {
          "model_module": "@jupyter-widgets/base",
          "model_name": "LayoutModel",
          "state": {
            "_view_name": "LayoutView",
            "grid_template_rows": null,
            "right": null,
            "justify_content": null,
            "_view_module": "@jupyter-widgets/base",
            "overflow": null,
            "_model_module_version": "1.2.0",
            "_view_count": null,
            "flex_flow": null,
            "width": null,
            "min_width": null,
            "border": null,
            "align_items": null,
            "bottom": null,
            "_model_module": "@jupyter-widgets/base",
            "top": null,
            "grid_column": null,
            "overflow_y": null,
            "overflow_x": null,
            "grid_auto_flow": null,
            "grid_area": null,
            "grid_template_columns": null,
            "flex": null,
            "_model_name": "LayoutModel",
            "justify_items": null,
            "grid_row": null,
            "max_height": null,
            "align_content": null,
            "visibility": null,
            "align_self": null,
            "height": null,
            "min_height": null,
            "padding": null,
            "grid_auto_rows": null,
            "grid_gap": null,
            "max_width": null,
            "order": null,
            "_view_module_version": "1.2.0",
            "grid_template_areas": null,
            "object_position": null,
            "object_fit": null,
            "grid_auto_columns": null,
            "margin": null,
            "display": null,
            "left": null
          }
        },
        "fffe1270bd5841e6a99da7f32f670a8c": {
          "model_module": "@jupyter-widgets/controls",
          "model_name": "HBoxModel",
          "state": {
            "_view_name": "HBoxView",
            "_dom_classes": [],
            "_model_name": "HBoxModel",
            "_view_module": "@jupyter-widgets/controls",
            "_model_module_version": "1.5.0",
            "_view_count": null,
            "_view_module_version": "1.5.0",
            "box_style": "",
            "layout": "IPY_MODEL_7c489afff33a4e099d0df2879c5211cb",
            "_model_module": "@jupyter-widgets/controls",
            "children": [
              "IPY_MODEL_95b2fb6bb0c54cc9a038f617d115f9a9",
              "IPY_MODEL_648a6bdad4664923a40d0e4d7007621a"
            ]
          }
        },
        "7c489afff33a4e099d0df2879c5211cb": {
          "model_module": "@jupyter-widgets/base",
          "model_name": "LayoutModel",
          "state": {
            "_view_name": "LayoutView",
            "grid_template_rows": null,
            "right": null,
            "justify_content": null,
            "_view_module": "@jupyter-widgets/base",
            "overflow": null,
            "_model_module_version": "1.2.0",
            "_view_count": null,
            "flex_flow": null,
            "width": null,
            "min_width": null,
            "border": null,
            "align_items": null,
            "bottom": null,
            "_model_module": "@jupyter-widgets/base",
            "top": null,
            "grid_column": null,
            "overflow_y": null,
            "overflow_x": null,
            "grid_auto_flow": null,
            "grid_area": null,
            "grid_template_columns": null,
            "flex": null,
            "_model_name": "LayoutModel",
            "justify_items": null,
            "grid_row": null,
            "max_height": null,
            "align_content": null,
            "visibility": null,
            "align_self": null,
            "height": null,
            "min_height": null,
            "padding": null,
            "grid_auto_rows": null,
            "grid_gap": null,
            "max_width": null,
            "order": null,
            "_view_module_version": "1.2.0",
            "grid_template_areas": null,
            "object_position": null,
            "object_fit": null,
            "grid_auto_columns": null,
            "margin": null,
            "display": null,
            "left": null
          }
        },
        "95b2fb6bb0c54cc9a038f617d115f9a9": {
          "model_module": "@jupyter-widgets/controls",
          "model_name": "FloatProgressModel",
          "state": {
            "_view_name": "ProgressView",
            "style": "IPY_MODEL_3742b40394a944c798204db98b149076",
            "_dom_classes": [],
            "description": "100%",
            "_model_name": "FloatProgressModel",
            "bar_style": "success",
            "max": 4223,
            "_view_module": "@jupyter-widgets/controls",
            "_model_module_version": "1.5.0",
            "value": 4223,
            "_view_count": null,
            "_view_module_version": "1.5.0",
            "orientation": "horizontal",
            "min": 0,
            "description_tooltip": null,
            "_model_module": "@jupyter-widgets/controls",
            "layout": "IPY_MODEL_60ddde125df244e1ab64980b7e143721"
          }
        },
        "648a6bdad4664923a40d0e4d7007621a": {
          "model_module": "@jupyter-widgets/controls",
          "model_name": "HTMLModel",
          "state": {
            "_view_name": "HTMLView",
            "style": "IPY_MODEL_cf5b28a0a48c4ff388d7b6e1ddfc8541",
            "_dom_classes": [],
            "description": "",
            "_model_name": "HTMLModel",
            "placeholder": "​",
            "_view_module": "@jupyter-widgets/controls",
            "_model_module_version": "1.5.0",
            "value": " 4223/4223 [00:17&lt;00:00, 241.88it/s]",
            "_view_count": null,
            "_view_module_version": "1.5.0",
            "description_tooltip": null,
            "_model_module": "@jupyter-widgets/controls",
            "layout": "IPY_MODEL_d22ae5a48ab44ba9b3c46c00bd6d3139"
          }
        },
        "3742b40394a944c798204db98b149076": {
          "model_module": "@jupyter-widgets/controls",
          "model_name": "ProgressStyleModel",
          "state": {
            "_view_name": "StyleView",
            "_model_name": "ProgressStyleModel",
            "description_width": "initial",
            "_view_module": "@jupyter-widgets/base",
            "_model_module_version": "1.5.0",
            "_view_count": null,
            "_view_module_version": "1.2.0",
            "bar_color": null,
            "_model_module": "@jupyter-widgets/controls"
          }
        },
        "60ddde125df244e1ab64980b7e143721": {
          "model_module": "@jupyter-widgets/base",
          "model_name": "LayoutModel",
          "state": {
            "_view_name": "LayoutView",
            "grid_template_rows": null,
            "right": null,
            "justify_content": null,
            "_view_module": "@jupyter-widgets/base",
            "overflow": null,
            "_model_module_version": "1.2.0",
            "_view_count": null,
            "flex_flow": null,
            "width": null,
            "min_width": null,
            "border": null,
            "align_items": null,
            "bottom": null,
            "_model_module": "@jupyter-widgets/base",
            "top": null,
            "grid_column": null,
            "overflow_y": null,
            "overflow_x": null,
            "grid_auto_flow": null,
            "grid_area": null,
            "grid_template_columns": null,
            "flex": null,
            "_model_name": "LayoutModel",
            "justify_items": null,
            "grid_row": null,
            "max_height": null,
            "align_content": null,
            "visibility": null,
            "align_self": null,
            "height": null,
            "min_height": null,
            "padding": null,
            "grid_auto_rows": null,
            "grid_gap": null,
            "max_width": null,
            "order": null,
            "_view_module_version": "1.2.0",
            "grid_template_areas": null,
            "object_position": null,
            "object_fit": null,
            "grid_auto_columns": null,
            "margin": null,
            "display": null,
            "left": null
          }
        },
        "cf5b28a0a48c4ff388d7b6e1ddfc8541": {
          "model_module": "@jupyter-widgets/controls",
          "model_name": "DescriptionStyleModel",
          "state": {
            "_view_name": "StyleView",
            "_model_name": "DescriptionStyleModel",
            "description_width": "",
            "_view_module": "@jupyter-widgets/base",
            "_model_module_version": "1.5.0",
            "_view_count": null,
            "_view_module_version": "1.2.0",
            "_model_module": "@jupyter-widgets/controls"
          }
        },
        "d22ae5a48ab44ba9b3c46c00bd6d3139": {
          "model_module": "@jupyter-widgets/base",
          "model_name": "LayoutModel",
          "state": {
            "_view_name": "LayoutView",
            "grid_template_rows": null,
            "right": null,
            "justify_content": null,
            "_view_module": "@jupyter-widgets/base",
            "overflow": null,
            "_model_module_version": "1.2.0",
            "_view_count": null,
            "flex_flow": null,
            "width": null,
            "min_width": null,
            "border": null,
            "align_items": null,
            "bottom": null,
            "_model_module": "@jupyter-widgets/base",
            "top": null,
            "grid_column": null,
            "overflow_y": null,
            "overflow_x": null,
            "grid_auto_flow": null,
            "grid_area": null,
            "grid_template_columns": null,
            "flex": null,
            "_model_name": "LayoutModel",
            "justify_items": null,
            "grid_row": null,
            "max_height": null,
            "align_content": null,
            "visibility": null,
            "align_self": null,
            "height": null,
            "min_height": null,
            "padding": null,
            "grid_auto_rows": null,
            "grid_gap": null,
            "max_width": null,
            "order": null,
            "_view_module_version": "1.2.0",
            "grid_template_areas": null,
            "object_position": null,
            "object_fit": null,
            "grid_auto_columns": null,
            "margin": null,
            "display": null,
            "left": null
          }
        },
        "0b366d3fef1f4a9fa233c3dc4a8c862c": {
          "model_module": "@jupyter-widgets/controls",
          "model_name": "HBoxModel",
          "state": {
            "_view_name": "HBoxView",
            "_dom_classes": [],
            "_model_name": "HBoxModel",
            "_view_module": "@jupyter-widgets/controls",
            "_model_module_version": "1.5.0",
            "_view_count": null,
            "_view_module_version": "1.5.0",
            "box_style": "",
            "layout": "IPY_MODEL_1fb0b83f852d448db0b0d0e825733f21",
            "_model_module": "@jupyter-widgets/controls",
            "children": [
              "IPY_MODEL_daf3fc151da1417690da0127df12e212",
              "IPY_MODEL_dd4323ee13bf46a692addf6dc4f7eb8c"
            ]
          }
        },
        "1fb0b83f852d448db0b0d0e825733f21": {
          "model_module": "@jupyter-widgets/base",
          "model_name": "LayoutModel",
          "state": {
            "_view_name": "LayoutView",
            "grid_template_rows": null,
            "right": null,
            "justify_content": null,
            "_view_module": "@jupyter-widgets/base",
            "overflow": null,
            "_model_module_version": "1.2.0",
            "_view_count": null,
            "flex_flow": null,
            "width": null,
            "min_width": null,
            "border": null,
            "align_items": null,
            "bottom": null,
            "_model_module": "@jupyter-widgets/base",
            "top": null,
            "grid_column": null,
            "overflow_y": null,
            "overflow_x": null,
            "grid_auto_flow": null,
            "grid_area": null,
            "grid_template_columns": null,
            "flex": null,
            "_model_name": "LayoutModel",
            "justify_items": null,
            "grid_row": null,
            "max_height": null,
            "align_content": null,
            "visibility": null,
            "align_self": null,
            "height": null,
            "min_height": null,
            "padding": null,
            "grid_auto_rows": null,
            "grid_gap": null,
            "max_width": null,
            "order": null,
            "_view_module_version": "1.2.0",
            "grid_template_areas": null,
            "object_position": null,
            "object_fit": null,
            "grid_auto_columns": null,
            "margin": null,
            "display": null,
            "left": null
          }
        },
        "daf3fc151da1417690da0127df12e212": {
          "model_module": "@jupyter-widgets/controls",
          "model_name": "FloatProgressModel",
          "state": {
            "_view_name": "ProgressView",
            "style": "IPY_MODEL_eacdf3d55a72499e8eba4e4607d97825",
            "_dom_classes": [],
            "description": "100%",
            "_model_name": "FloatProgressModel",
            "bar_style": "success",
            "max": 4222,
            "_view_module": "@jupyter-widgets/controls",
            "_model_module_version": "1.5.0",
            "value": 4222,
            "_view_count": null,
            "_view_module_version": "1.5.0",
            "orientation": "horizontal",
            "min": 0,
            "description_tooltip": null,
            "_model_module": "@jupyter-widgets/controls",
            "layout": "IPY_MODEL_48d1e3d3a28247eab59dfd8753df162a"
          }
        },
        "dd4323ee13bf46a692addf6dc4f7eb8c": {
          "model_module": "@jupyter-widgets/controls",
          "model_name": "HTMLModel",
          "state": {
            "_view_name": "HTMLView",
            "style": "IPY_MODEL_09b19d37a627425980c237aaa4cc153f",
            "_dom_classes": [],
            "description": "",
            "_model_name": "HTMLModel",
            "placeholder": "​",
            "_view_module": "@jupyter-widgets/controls",
            "_model_module_version": "1.5.0",
            "value": " 4222/4222 [00:16&lt;00:00, 261.27it/s]",
            "_view_count": null,
            "_view_module_version": "1.5.0",
            "description_tooltip": null,
            "_model_module": "@jupyter-widgets/controls",
            "layout": "IPY_MODEL_447135bd4df54761a1d6a09818c20845"
          }
        },
        "eacdf3d55a72499e8eba4e4607d97825": {
          "model_module": "@jupyter-widgets/controls",
          "model_name": "ProgressStyleModel",
          "state": {
            "_view_name": "StyleView",
            "_model_name": "ProgressStyleModel",
            "description_width": "initial",
            "_view_module": "@jupyter-widgets/base",
            "_model_module_version": "1.5.0",
            "_view_count": null,
            "_view_module_version": "1.2.0",
            "bar_color": null,
            "_model_module": "@jupyter-widgets/controls"
          }
        },
        "48d1e3d3a28247eab59dfd8753df162a": {
          "model_module": "@jupyter-widgets/base",
          "model_name": "LayoutModel",
          "state": {
            "_view_name": "LayoutView",
            "grid_template_rows": null,
            "right": null,
            "justify_content": null,
            "_view_module": "@jupyter-widgets/base",
            "overflow": null,
            "_model_module_version": "1.2.0",
            "_view_count": null,
            "flex_flow": null,
            "width": null,
            "min_width": null,
            "border": null,
            "align_items": null,
            "bottom": null,
            "_model_module": "@jupyter-widgets/base",
            "top": null,
            "grid_column": null,
            "overflow_y": null,
            "overflow_x": null,
            "grid_auto_flow": null,
            "grid_area": null,
            "grid_template_columns": null,
            "flex": null,
            "_model_name": "LayoutModel",
            "justify_items": null,
            "grid_row": null,
            "max_height": null,
            "align_content": null,
            "visibility": null,
            "align_self": null,
            "height": null,
            "min_height": null,
            "padding": null,
            "grid_auto_rows": null,
            "grid_gap": null,
            "max_width": null,
            "order": null,
            "_view_module_version": "1.2.0",
            "grid_template_areas": null,
            "object_position": null,
            "object_fit": null,
            "grid_auto_columns": null,
            "margin": null,
            "display": null,
            "left": null
          }
        },
        "09b19d37a627425980c237aaa4cc153f": {
          "model_module": "@jupyter-widgets/controls",
          "model_name": "DescriptionStyleModel",
          "state": {
            "_view_name": "StyleView",
            "_model_name": "DescriptionStyleModel",
            "description_width": "",
            "_view_module": "@jupyter-widgets/base",
            "_model_module_version": "1.5.0",
            "_view_count": null,
            "_view_module_version": "1.2.0",
            "_model_module": "@jupyter-widgets/controls"
          }
        },
        "447135bd4df54761a1d6a09818c20845": {
          "model_module": "@jupyter-widgets/base",
          "model_name": "LayoutModel",
          "state": {
            "_view_name": "LayoutView",
            "grid_template_rows": null,
            "right": null,
            "justify_content": null,
            "_view_module": "@jupyter-widgets/base",
            "overflow": null,
            "_model_module_version": "1.2.0",
            "_view_count": null,
            "flex_flow": null,
            "width": null,
            "min_width": null,
            "border": null,
            "align_items": null,
            "bottom": null,
            "_model_module": "@jupyter-widgets/base",
            "top": null,
            "grid_column": null,
            "overflow_y": null,
            "overflow_x": null,
            "grid_auto_flow": null,
            "grid_area": null,
            "grid_template_columns": null,
            "flex": null,
            "_model_name": "LayoutModel",
            "justify_items": null,
            "grid_row": null,
            "max_height": null,
            "align_content": null,
            "visibility": null,
            "align_self": null,
            "height": null,
            "min_height": null,
            "padding": null,
            "grid_auto_rows": null,
            "grid_gap": null,
            "max_width": null,
            "order": null,
            "_view_module_version": "1.2.0",
            "grid_template_areas": null,
            "object_position": null,
            "object_fit": null,
            "grid_auto_columns": null,
            "margin": null,
            "display": null,
            "left": null
          }
        },
        "47a4db1784b7452eadfc54fad4159f79": {
          "model_module": "@jupyter-widgets/controls",
          "model_name": "HBoxModel",
          "state": {
            "_view_name": "HBoxView",
            "_dom_classes": [],
            "_model_name": "HBoxModel",
            "_view_module": "@jupyter-widgets/controls",
            "_model_module_version": "1.5.0",
            "_view_count": null,
            "_view_module_version": "1.5.0",
            "box_style": "",
            "layout": "IPY_MODEL_30532e3265384618b12af96d60eb45e7",
            "_model_module": "@jupyter-widgets/controls",
            "children": [
              "IPY_MODEL_8e3328b7187c4e1ca3dc777b31ce4802",
              "IPY_MODEL_5e4e6c1f06a14fa5a204a760f40c685d"
            ]
          }
        },
        "30532e3265384618b12af96d60eb45e7": {
          "model_module": "@jupyter-widgets/base",
          "model_name": "LayoutModel",
          "state": {
            "_view_name": "LayoutView",
            "grid_template_rows": null,
            "right": null,
            "justify_content": null,
            "_view_module": "@jupyter-widgets/base",
            "overflow": null,
            "_model_module_version": "1.2.0",
            "_view_count": null,
            "flex_flow": null,
            "width": null,
            "min_width": null,
            "border": null,
            "align_items": null,
            "bottom": null,
            "_model_module": "@jupyter-widgets/base",
            "top": null,
            "grid_column": null,
            "overflow_y": null,
            "overflow_x": null,
            "grid_auto_flow": null,
            "grid_area": null,
            "grid_template_columns": null,
            "flex": null,
            "_model_name": "LayoutModel",
            "justify_items": null,
            "grid_row": null,
            "max_height": null,
            "align_content": null,
            "visibility": null,
            "align_self": null,
            "height": null,
            "min_height": null,
            "padding": null,
            "grid_auto_rows": null,
            "grid_gap": null,
            "max_width": null,
            "order": null,
            "_view_module_version": "1.2.0",
            "grid_template_areas": null,
            "object_position": null,
            "object_fit": null,
            "grid_auto_columns": null,
            "margin": null,
            "display": null,
            "left": null
          }
        },
        "8e3328b7187c4e1ca3dc777b31ce4802": {
          "model_module": "@jupyter-widgets/controls",
          "model_name": "FloatProgressModel",
          "state": {
            "_view_name": "ProgressView",
            "style": "IPY_MODEL_b062785855524eeaa043a260abc4f28c",
            "_dom_classes": [],
            "description": "100%",
            "_model_name": "FloatProgressModel",
            "bar_style": "success",
            "max": 120000,
            "_view_module": "@jupyter-widgets/controls",
            "_model_module_version": "1.5.0",
            "value": 120000,
            "_view_count": null,
            "_view_module_version": "1.5.0",
            "orientation": "horizontal",
            "min": 0,
            "description_tooltip": null,
            "_model_module": "@jupyter-widgets/controls",
            "layout": "IPY_MODEL_2e7cd41943ce4b949ea7c468d34a351f"
          }
        },
        "5e4e6c1f06a14fa5a204a760f40c685d": {
          "model_module": "@jupyter-widgets/controls",
          "model_name": "HTMLModel",
          "state": {
            "_view_name": "HTMLView",
            "style": "IPY_MODEL_d9e38252f74b4b2d9d5c2c894bd7e04e",
            "_dom_classes": [],
            "description": "",
            "_model_name": "HTMLModel",
            "placeholder": "​",
            "_view_module": "@jupyter-widgets/controls",
            "_model_module_version": "1.5.0",
            "value": " 120000/120000 [00:10&lt;00:00, 11343.16it/s]",
            "_view_count": null,
            "_view_module_version": "1.5.0",
            "description_tooltip": null,
            "_model_module": "@jupyter-widgets/controls",
            "layout": "IPY_MODEL_8a377b3114274ec0b688b5dcbd963252"
          }
        },
        "b062785855524eeaa043a260abc4f28c": {
          "model_module": "@jupyter-widgets/controls",
          "model_name": "ProgressStyleModel",
          "state": {
            "_view_name": "StyleView",
            "_model_name": "ProgressStyleModel",
            "description_width": "initial",
            "_view_module": "@jupyter-widgets/base",
            "_model_module_version": "1.5.0",
            "_view_count": null,
            "_view_module_version": "1.2.0",
            "bar_color": null,
            "_model_module": "@jupyter-widgets/controls"
          }
        },
        "2e7cd41943ce4b949ea7c468d34a351f": {
          "model_module": "@jupyter-widgets/base",
          "model_name": "LayoutModel",
          "state": {
            "_view_name": "LayoutView",
            "grid_template_rows": null,
            "right": null,
            "justify_content": null,
            "_view_module": "@jupyter-widgets/base",
            "overflow": null,
            "_model_module_version": "1.2.0",
            "_view_count": null,
            "flex_flow": null,
            "width": null,
            "min_width": null,
            "border": null,
            "align_items": null,
            "bottom": null,
            "_model_module": "@jupyter-widgets/base",
            "top": null,
            "grid_column": null,
            "overflow_y": null,
            "overflow_x": null,
            "grid_auto_flow": null,
            "grid_area": null,
            "grid_template_columns": null,
            "flex": null,
            "_model_name": "LayoutModel",
            "justify_items": null,
            "grid_row": null,
            "max_height": null,
            "align_content": null,
            "visibility": null,
            "align_self": null,
            "height": null,
            "min_height": null,
            "padding": null,
            "grid_auto_rows": null,
            "grid_gap": null,
            "max_width": null,
            "order": null,
            "_view_module_version": "1.2.0",
            "grid_template_areas": null,
            "object_position": null,
            "object_fit": null,
            "grid_auto_columns": null,
            "margin": null,
            "display": null,
            "left": null
          }
        },
        "d9e38252f74b4b2d9d5c2c894bd7e04e": {
          "model_module": "@jupyter-widgets/controls",
          "model_name": "DescriptionStyleModel",
          "state": {
            "_view_name": "StyleView",
            "_model_name": "DescriptionStyleModel",
            "description_width": "",
            "_view_module": "@jupyter-widgets/base",
            "_model_module_version": "1.5.0",
            "_view_count": null,
            "_view_module_version": "1.2.0",
            "_model_module": "@jupyter-widgets/controls"
          }
        },
        "8a377b3114274ec0b688b5dcbd963252": {
          "model_module": "@jupyter-widgets/base",
          "model_name": "LayoutModel",
          "state": {
            "_view_name": "LayoutView",
            "grid_template_rows": null,
            "right": null,
            "justify_content": null,
            "_view_module": "@jupyter-widgets/base",
            "overflow": null,
            "_model_module_version": "1.2.0",
            "_view_count": null,
            "flex_flow": null,
            "width": null,
            "min_width": null,
            "border": null,
            "align_items": null,
            "bottom": null,
            "_model_module": "@jupyter-widgets/base",
            "top": null,
            "grid_column": null,
            "overflow_y": null,
            "overflow_x": null,
            "grid_auto_flow": null,
            "grid_area": null,
            "grid_template_columns": null,
            "flex": null,
            "_model_name": "LayoutModel",
            "justify_items": null,
            "grid_row": null,
            "max_height": null,
            "align_content": null,
            "visibility": null,
            "align_self": null,
            "height": null,
            "min_height": null,
            "padding": null,
            "grid_auto_rows": null,
            "grid_gap": null,
            "max_width": null,
            "order": null,
            "_view_module_version": "1.2.0",
            "grid_template_areas": null,
            "object_position": null,
            "object_fit": null,
            "grid_auto_columns": null,
            "margin": null,
            "display": null,
            "left": null
          }
        },
        "596da64f47fd40018c4dd963eff92152": {
          "model_module": "@jupyter-widgets/controls",
          "model_name": "HBoxModel",
          "state": {
            "_view_name": "HBoxView",
            "_dom_classes": [],
            "_model_name": "HBoxModel",
            "_view_module": "@jupyter-widgets/controls",
            "_model_module_version": "1.5.0",
            "_view_count": null,
            "_view_module_version": "1.5.0",
            "box_style": "",
            "layout": "IPY_MODEL_871c164c54334398a28d39244613c9e0",
            "_model_module": "@jupyter-widgets/controls",
            "children": [
              "IPY_MODEL_1d5b09a98b514dc2ba3d256a5c7f82f8",
              "IPY_MODEL_777fbca01bc74611b984861c4ccae8ec"
            ]
          }
        },
        "871c164c54334398a28d39244613c9e0": {
          "model_module": "@jupyter-widgets/base",
          "model_name": "LayoutModel",
          "state": {
            "_view_name": "LayoutView",
            "grid_template_rows": null,
            "right": null,
            "justify_content": null,
            "_view_module": "@jupyter-widgets/base",
            "overflow": null,
            "_model_module_version": "1.2.0",
            "_view_count": null,
            "flex_flow": null,
            "width": null,
            "min_width": null,
            "border": null,
            "align_items": null,
            "bottom": null,
            "_model_module": "@jupyter-widgets/base",
            "top": null,
            "grid_column": null,
            "overflow_y": null,
            "overflow_x": null,
            "grid_auto_flow": null,
            "grid_area": null,
            "grid_template_columns": null,
            "flex": null,
            "_model_name": "LayoutModel",
            "justify_items": null,
            "grid_row": null,
            "max_height": null,
            "align_content": null,
            "visibility": null,
            "align_self": null,
            "height": null,
            "min_height": null,
            "padding": null,
            "grid_auto_rows": null,
            "grid_gap": null,
            "max_width": null,
            "order": null,
            "_view_module_version": "1.2.0",
            "grid_template_areas": null,
            "object_position": null,
            "object_fit": null,
            "grid_auto_columns": null,
            "margin": null,
            "display": null,
            "left": null
          }
        },
        "1d5b09a98b514dc2ba3d256a5c7f82f8": {
          "model_module": "@jupyter-widgets/controls",
          "model_name": "FloatProgressModel",
          "state": {
            "_view_name": "ProgressView",
            "style": "IPY_MODEL_301ffc9c3ea941bc8b33623d06fbdf55",
            "_dom_classes": [],
            "description": "100%",
            "_model_name": "FloatProgressModel",
            "bar_style": "success",
            "max": 50208,
            "_view_module": "@jupyter-widgets/controls",
            "_model_module_version": "1.5.0",
            "value": 50208,
            "_view_count": null,
            "_view_module_version": "1.5.0",
            "orientation": "horizontal",
            "min": 0,
            "description_tooltip": null,
            "_model_module": "@jupyter-widgets/controls",
            "layout": "IPY_MODEL_18d7f29095f6406a9210a4fedecbbf20"
          }
        },
        "777fbca01bc74611b984861c4ccae8ec": {
          "model_module": "@jupyter-widgets/controls",
          "model_name": "HTMLModel",
          "state": {
            "_view_name": "HTMLView",
            "style": "IPY_MODEL_9511c0943c224c48908d00de6d736c2f",
            "_dom_classes": [],
            "description": "",
            "_model_name": "HTMLModel",
            "placeholder": "​",
            "_view_module": "@jupyter-widgets/controls",
            "_model_module_version": "1.5.0",
            "value": " 50208/50208 [00:10&lt;00:00, 4820.99it/s]",
            "_view_count": null,
            "_view_module_version": "1.5.0",
            "description_tooltip": null,
            "_model_module": "@jupyter-widgets/controls",
            "layout": "IPY_MODEL_9f2349421c0846e59ce995a73963fbd0"
          }
        },
        "301ffc9c3ea941bc8b33623d06fbdf55": {
          "model_module": "@jupyter-widgets/controls",
          "model_name": "ProgressStyleModel",
          "state": {
            "_view_name": "StyleView",
            "_model_name": "ProgressStyleModel",
            "description_width": "initial",
            "_view_module": "@jupyter-widgets/base",
            "_model_module_version": "1.5.0",
            "_view_count": null,
            "_view_module_version": "1.2.0",
            "bar_color": null,
            "_model_module": "@jupyter-widgets/controls"
          }
        },
        "18d7f29095f6406a9210a4fedecbbf20": {
          "model_module": "@jupyter-widgets/base",
          "model_name": "LayoutModel",
          "state": {
            "_view_name": "LayoutView",
            "grid_template_rows": null,
            "right": null,
            "justify_content": null,
            "_view_module": "@jupyter-widgets/base",
            "overflow": null,
            "_model_module_version": "1.2.0",
            "_view_count": null,
            "flex_flow": null,
            "width": null,
            "min_width": null,
            "border": null,
            "align_items": null,
            "bottom": null,
            "_model_module": "@jupyter-widgets/base",
            "top": null,
            "grid_column": null,
            "overflow_y": null,
            "overflow_x": null,
            "grid_auto_flow": null,
            "grid_area": null,
            "grid_template_columns": null,
            "flex": null,
            "_model_name": "LayoutModel",
            "justify_items": null,
            "grid_row": null,
            "max_height": null,
            "align_content": null,
            "visibility": null,
            "align_self": null,
            "height": null,
            "min_height": null,
            "padding": null,
            "grid_auto_rows": null,
            "grid_gap": null,
            "max_width": null,
            "order": null,
            "_view_module_version": "1.2.0",
            "grid_template_areas": null,
            "object_position": null,
            "object_fit": null,
            "grid_auto_columns": null,
            "margin": null,
            "display": null,
            "left": null
          }
        },
        "9511c0943c224c48908d00de6d736c2f": {
          "model_module": "@jupyter-widgets/controls",
          "model_name": "DescriptionStyleModel",
          "state": {
            "_view_name": "StyleView",
            "_model_name": "DescriptionStyleModel",
            "description_width": "",
            "_view_module": "@jupyter-widgets/base",
            "_model_module_version": "1.5.0",
            "_view_count": null,
            "_view_module_version": "1.2.0",
            "_model_module": "@jupyter-widgets/controls"
          }
        },
        "9f2349421c0846e59ce995a73963fbd0": {
          "model_module": "@jupyter-widgets/base",
          "model_name": "LayoutModel",
          "state": {
            "_view_name": "LayoutView",
            "grid_template_rows": null,
            "right": null,
            "justify_content": null,
            "_view_module": "@jupyter-widgets/base",
            "overflow": null,
            "_model_module_version": "1.2.0",
            "_view_count": null,
            "flex_flow": null,
            "width": null,
            "min_width": null,
            "border": null,
            "align_items": null,
            "bottom": null,
            "_model_module": "@jupyter-widgets/base",
            "top": null,
            "grid_column": null,
            "overflow_y": null,
            "overflow_x": null,
            "grid_auto_flow": null,
            "grid_area": null,
            "grid_template_columns": null,
            "flex": null,
            "_model_name": "LayoutModel",
            "justify_items": null,
            "grid_row": null,
            "max_height": null,
            "align_content": null,
            "visibility": null,
            "align_self": null,
            "height": null,
            "min_height": null,
            "padding": null,
            "grid_auto_rows": null,
            "grid_gap": null,
            "max_width": null,
            "order": null,
            "_view_module_version": "1.2.0",
            "grid_template_areas": null,
            "object_position": null,
            "object_fit": null,
            "grid_auto_columns": null,
            "margin": null,
            "display": null,
            "left": null
          }
        },
        "cb866a9ecb0c4cfe91d62c474e10ff97": {
          "model_module": "@jupyter-widgets/controls",
          "model_name": "HBoxModel",
          "state": {
            "_view_name": "HBoxView",
            "_dom_classes": [],
            "_model_name": "HBoxModel",
            "_view_module": "@jupyter-widgets/controls",
            "_model_module_version": "1.5.0",
            "_view_count": null,
            "_view_module_version": "1.5.0",
            "box_style": "",
            "layout": "IPY_MODEL_6020d1a6bfef489d8b4d56aa8f53ea25",
            "_model_module": "@jupyter-widgets/controls",
            "children": [
              "IPY_MODEL_6e7ad6b57074496fbce48ccce960014f",
              "IPY_MODEL_877a14675d114fb194d9d3535464296f"
            ]
          }
        },
        "6020d1a6bfef489d8b4d56aa8f53ea25": {
          "model_module": "@jupyter-widgets/base",
          "model_name": "LayoutModel",
          "state": {
            "_view_name": "LayoutView",
            "grid_template_rows": null,
            "right": null,
            "justify_content": null,
            "_view_module": "@jupyter-widgets/base",
            "overflow": null,
            "_model_module_version": "1.2.0",
            "_view_count": null,
            "flex_flow": null,
            "width": null,
            "min_width": null,
            "border": null,
            "align_items": null,
            "bottom": null,
            "_model_module": "@jupyter-widgets/base",
            "top": null,
            "grid_column": null,
            "overflow_y": null,
            "overflow_x": null,
            "grid_auto_flow": null,
            "grid_area": null,
            "grid_template_columns": null,
            "flex": null,
            "_model_name": "LayoutModel",
            "justify_items": null,
            "grid_row": null,
            "max_height": null,
            "align_content": null,
            "visibility": null,
            "align_self": null,
            "height": null,
            "min_height": null,
            "padding": null,
            "grid_auto_rows": null,
            "grid_gap": null,
            "max_width": null,
            "order": null,
            "_view_module_version": "1.2.0",
            "grid_template_areas": null,
            "object_position": null,
            "object_fit": null,
            "grid_auto_columns": null,
            "margin": null,
            "display": null,
            "left": null
          }
        },
        "6e7ad6b57074496fbce48ccce960014f": {
          "model_module": "@jupyter-widgets/controls",
          "model_name": "FloatProgressModel",
          "state": {
            "_view_name": "ProgressView",
            "style": "IPY_MODEL_f459c04dbf3a4a9fac1b247136bb3df3",
            "_dom_classes": [],
            "description": "",
            "_model_name": "FloatProgressModel",
            "bar_style": "success",
            "max": 1,
            "_view_module": "@jupyter-widgets/controls",
            "_model_module_version": "1.5.0",
            "value": 1,
            "_view_count": null,
            "_view_module_version": "1.5.0",
            "orientation": "horizontal",
            "min": 0,
            "description_tooltip": null,
            "_model_module": "@jupyter-widgets/controls",
            "layout": "IPY_MODEL_99eb693e9404451590f081cad85ae024"
          }
        },
        "877a14675d114fb194d9d3535464296f": {
          "model_module": "@jupyter-widgets/controls",
          "model_name": "HTMLModel",
          "state": {
            "_view_name": "HTMLView",
            "style": "IPY_MODEL_6548f9cfbb6d4faabca58841cf8e5f26",
            "_dom_classes": [],
            "description": "",
            "_model_name": "HTMLModel",
            "placeholder": "​",
            "_view_module": "@jupyter-widgets/controls",
            "_model_module_version": "1.5.0",
            "value": " 50208/? [00:10&lt;00:00, 4967.18it/s]",
            "_view_count": null,
            "_view_module_version": "1.5.0",
            "description_tooltip": null,
            "_model_module": "@jupyter-widgets/controls",
            "layout": "IPY_MODEL_d1d96e3cd5e142b5b5cf6f496012100d"
          }
        },
        "f459c04dbf3a4a9fac1b247136bb3df3": {
          "model_module": "@jupyter-widgets/controls",
          "model_name": "ProgressStyleModel",
          "state": {
            "_view_name": "StyleView",
            "_model_name": "ProgressStyleModel",
            "description_width": "initial",
            "_view_module": "@jupyter-widgets/base",
            "_model_module_version": "1.5.0",
            "_view_count": null,
            "_view_module_version": "1.2.0",
            "bar_color": null,
            "_model_module": "@jupyter-widgets/controls"
          }
        },
        "99eb693e9404451590f081cad85ae024": {
          "model_module": "@jupyter-widgets/base",
          "model_name": "LayoutModel",
          "state": {
            "_view_name": "LayoutView",
            "grid_template_rows": null,
            "right": null,
            "justify_content": null,
            "_view_module": "@jupyter-widgets/base",
            "overflow": null,
            "_model_module_version": "1.2.0",
            "_view_count": null,
            "flex_flow": null,
            "width": null,
            "min_width": null,
            "border": null,
            "align_items": null,
            "bottom": null,
            "_model_module": "@jupyter-widgets/base",
            "top": null,
            "grid_column": null,
            "overflow_y": null,
            "overflow_x": null,
            "grid_auto_flow": null,
            "grid_area": null,
            "grid_template_columns": null,
            "flex": null,
            "_model_name": "LayoutModel",
            "justify_items": null,
            "grid_row": null,
            "max_height": null,
            "align_content": null,
            "visibility": null,
            "align_self": null,
            "height": null,
            "min_height": null,
            "padding": null,
            "grid_auto_rows": null,
            "grid_gap": null,
            "max_width": null,
            "order": null,
            "_view_module_version": "1.2.0",
            "grid_template_areas": null,
            "object_position": null,
            "object_fit": null,
            "grid_auto_columns": null,
            "margin": null,
            "display": null,
            "left": null
          }
        },
        "6548f9cfbb6d4faabca58841cf8e5f26": {
          "model_module": "@jupyter-widgets/controls",
          "model_name": "DescriptionStyleModel",
          "state": {
            "_view_name": "StyleView",
            "_model_name": "DescriptionStyleModel",
            "description_width": "",
            "_view_module": "@jupyter-widgets/base",
            "_model_module_version": "1.5.0",
            "_view_count": null,
            "_view_module_version": "1.2.0",
            "_model_module": "@jupyter-widgets/controls"
          }
        },
        "d1d96e3cd5e142b5b5cf6f496012100d": {
          "model_module": "@jupyter-widgets/base",
          "model_name": "LayoutModel",
          "state": {
            "_view_name": "LayoutView",
            "grid_template_rows": null,
            "right": null,
            "justify_content": null,
            "_view_module": "@jupyter-widgets/base",
            "overflow": null,
            "_model_module_version": "1.2.0",
            "_view_count": null,
            "flex_flow": null,
            "width": null,
            "min_width": null,
            "border": null,
            "align_items": null,
            "bottom": null,
            "_model_module": "@jupyter-widgets/base",
            "top": null,
            "grid_column": null,
            "overflow_y": null,
            "overflow_x": null,
            "grid_auto_flow": null,
            "grid_area": null,
            "grid_template_columns": null,
            "flex": null,
            "_model_name": "LayoutModel",
            "justify_items": null,
            "grid_row": null,
            "max_height": null,
            "align_content": null,
            "visibility": null,
            "align_self": null,
            "height": null,
            "min_height": null,
            "padding": null,
            "grid_auto_rows": null,
            "grid_gap": null,
            "max_width": null,
            "order": null,
            "_view_module_version": "1.2.0",
            "grid_template_areas": null,
            "object_position": null,
            "object_fit": null,
            "grid_auto_columns": null,
            "margin": null,
            "display": null,
            "left": null
          }
        }
      }
    }
  },
  "cells": [
    {
      "cell_type": "code",
      "metadata": {
        "id": "juR8oTrjFkRJ"
      },
      "source": [
        "!pip install pytorch-transformers\n",
        "!pip install pytorch_lightning"
      ],
      "execution_count": null,
      "outputs": []
    },
    {
      "cell_type": "code",
      "metadata": {
        "id": "HciKEta5FICW"
      },
      "source": [
        "!git clone https://github.com/shauli-ravfogel/nullspace_projection.git"
      ],
      "execution_count": null,
      "outputs": []
    },
    {
      "cell_type": "code",
      "metadata": {
        "id": "aaXGkVjgFOki"
      },
      "source": [
        "cd nullspace_projection/notebooks/"
      ],
      "execution_count": null,
      "outputs": []
    },
    {
      "cell_type": "code",
      "metadata": {
        "id": "SHhO-IHGFlo0"
      },
      "source": [
        "cd /content/nullspace_projection"
      ],
      "execution_count": null,
      "outputs": []
    },
    {
      "cell_type": "code",
      "metadata": {
        "id": "Z7q94K9WKUBP"
      },
      "source": [
        "!git clone https://github.com/assemzh/NullitOut.git"
      ],
      "execution_count": null,
      "outputs": []
    },
    {
      "cell_type": "code",
      "metadata": {
        "id": "QvqYh4U2s-Cr"
      },
      "source": [
        "mkdir data/toxicity"
      ],
      "execution_count": null,
      "outputs": []
    },
    {
      "cell_type": "code",
      "metadata": {
        "id": "S2FfMR6qE910",
        "colab": {
          "base_uri": "https://localhost:8080/"
        },
        "outputId": "f7720601-b8a7-4bc1-ca4b-2a94da0cb147"
      },
      "source": [
        "%load_ext autoreload\n",
        "%autoreload 2\n",
        "# sys.path.append(\"../src\")\n",
        "# sys.path.append(\"../data/embeddings\")\n",
        "# sys.path.append(\"../data/biasbios\")\n",
        "# sys.path.append(\"../data/embeddings/biasbios\")\n",
        "import sys\n",
        "import src.classifier\n",
        "import NullitOut.debias\n",
        "import gensim\n",
        "import codecs\n",
        "import json\n",
        "from gensim.models.keyedvectors import Word2VecKeyedVectors\n",
        "from gensim.models import KeyedVectors\n",
        "import numpy as np\n",
        "import random\n",
        "import sklearn\n",
        "from sklearn import model_selection\n",
        "from sklearn import cluster\n",
        "from sklearn import metrics\n",
        "from sklearn.manifold import TSNE\n",
        "from sklearn.svm import LinearSVC, SVC\n",
        "from sklearn.neural_network import MLPClassifier\n",
        "from sklearn.metrics.pairwise import cosine_similarity\n",
        "from sklearn.feature_extraction import DictVectorizer\n",
        "from pytorch_transformers import BertTokenizer, BertModel, BertForMaskedLM\n",
        "\n",
        "import scipy\n",
        "from scipy import linalg\n",
        "from scipy import sparse\n",
        "from scipy.stats.stats import pearsonr\n",
        "import tqdm\n",
        "import matplotlib\n",
        "import matplotlib.pyplot as plt\n",
        "from sklearn.linear_model import SGDClassifier, SGDRegressor, Perceptron, LogisticRegression\n",
        "from sklearn.utils import shuffle\n",
        "\n",
        "%matplotlib inline\n",
        "matplotlib.rcParams['agg.path.chunksize'] = 10000\n",
        "\n",
        "import warnings\n",
        "warnings.filterwarnings(\"ignore\")\n",
        "\n",
        "import csv\n",
        "from collections import defaultdict, Counter\n",
        "from typing import List, Dict\n",
        "\n",
        "import torch\n",
        "from torch import utils\n",
        "\n",
        "import pytorch_lightning as pl\n",
        "from pytorch_lightning import Trainer\n",
        "import copy\n",
        "import pandas as pd\n",
        "from gensim.models import FastText\n",
        "import time\n",
        "from gensim.scripts.glove2word2vec import glove2word2vec\n",
        "\n",
        "STOPWORDS = set([\"i\", \"me\", \"my\", \"myself\", \"we\", \"our\", \"ours\", \"ourselves\", \"you\", \"your\", \"yours\", \"yourself\", \"yourselves\", \"he\", \"him\", \"his\", \"himself\", \"she\", \"her\", \"hers\", \"herself\", \"it\", \"its\", \"itself\", \"they\", \"them\", \"their\", \"theirs\", \"themselves\", \"what\", \"which\", \"who\", \"whom\", \"this\", \"that\", \"these\", \"those\", \"am\", \"is\", \"are\", \"was\", \"were\", \"be\", \"been\", \"being\", \"have\", \"has\", \"had\", \"having\", \"do\", \"does\", \"did\", \"doing\", \"a\", \"an\", \"the\", \"and\", \"but\", \"if\", \"or\", \"because\", \"as\", \"until\", \"while\", \"of\", \"at\", \"by\", \"for\", \"with\", \"about\", \"against\", \"between\", \"into\", \"through\", \"during\", \"before\", \"after\", \"above\", \"below\", \"to\", \"from\", \"up\", \"down\", \"in\", \"out\", \"on\", \"off\", \"over\", \"under\", \"again\", \"further\", \"then\", \"once\", \"here\", \"there\", \"when\", \"where\", \"why\", \"how\", \"all\", \"any\", \"both\", \"each\", \"few\", \"more\", \"most\", \"other\", \"some\", \"such\", \"no\", \"nor\", \"not\", \"only\", \"own\", \"same\", \"so\", \"than\", \"too\", \"very\", \"s\", \"t\", \"can\", \"will\", \"just\", \"don\", \"should\", \"now\"])"
      ],
      "execution_count": 57,
      "outputs": [
        {
          "output_type": "stream",
          "text": [
            "The autoreload extension is already loaded. To reload it, use:\n",
            "  %reload_ext autoreload\n"
          ],
          "name": "stdout"
        }
      ]
    },
    {
      "cell_type": "code",
      "metadata": {
        "id": "7RbFPe8UG5_O",
        "colab": {
          "base_uri": "https://localhost:8080/"
        },
        "outputId": "9e2ed989-ba7c-46d7-db3e-5df92c37d6e3"
      },
      "source": [
        "! wget https://dl.fbaipublicfiles.com/fasttext/vectors-english/crawl-300d-2M.vec.zip -P data/embeddings/\n",
        "# ! wget http://nlp.stanford.edu/data/glove.42B.300d.zip -P data/embeddings/                \n",
        "# ! unzip data/embeddings/glove.42B.300d.zip -d data/embeddings/ "
      ],
      "execution_count": 58,
      "outputs": [
        {
          "output_type": "stream",
          "text": [
            "--2021-06-05 13:07:32--  https://dl.fbaipublicfiles.com/fasttext/vectors-english/crawl-300d-2M.vec.zip\n",
            "Resolving dl.fbaipublicfiles.com (dl.fbaipublicfiles.com)... 104.22.75.142, 104.22.74.142, 172.67.9.4, ...\n",
            "Connecting to dl.fbaipublicfiles.com (dl.fbaipublicfiles.com)|104.22.75.142|:443... connected.\n",
            "HTTP request sent, awaiting response... 200 OK\n",
            "Length: 1523785255 (1.4G) [application/zip]\n",
            "Saving to: ‘data/embeddings/crawl-300d-2M.vec.zip’\n",
            "\n",
            "crawl-300d-2M.vec.z 100%[===================>]   1.42G  12.4MB/s    in 1m 58s  \n",
            "\n",
            "2021-06-05 13:09:32 (12.3 MB/s) - ‘data/embeddings/crawl-300d-2M.vec.zip’ saved [1523785255/1523785255]\n",
            "\n"
          ],
          "name": "stdout"
        }
      ]
    },
    {
      "cell_type": "code",
      "metadata": {
        "id": "E_EOG1p4Pbij"
      },
      "source": [
        "!unzip data/embeddings/crawl-300d-2M.vec.zip -d data/embeddings/"
      ],
      "execution_count": null,
      "outputs": []
    },
    {
      "cell_type": "code",
      "metadata": {
        "id": "pAwfpuZlE91_"
      },
      "source": [
        "\n",
        "\n",
        "def load_dataset(path):\n",
        "    \n",
        "    with open(path, \"r\") as f:\n",
        "        reader = csv.DictReader(f)\n",
        "        data = list(reader)\n",
        "    return data\n",
        "\n",
        "def load_dictionary(path):\n",
        "    \n",
        "    with open(path, \"r\", encoding = \"utf-8\") as f:\n",
        "        \n",
        "        lines = f.readlines()\n",
        "        \n",
        "    k2v, v2k = {}, {}\n",
        "    for line in lines:\n",
        "        \n",
        "        k,v = line.strip().split(\"\\t\")\n",
        "        v = int(v)\n",
        "        k2v[k] = v\n",
        "        v2k[v] = k\n",
        "    \n",
        "    return k2v, v2k\n",
        "    \n",
        "def count_profs_and_gender(data: List[dict]):\n",
        "    \n",
        "    counter = defaultdict(Counter)\n",
        "    for entry in data:\n",
        "        gender, prof = entry[\"label_gender\"], entry[\"toxicity\"]\n",
        "        counter[prof][gender] += 1\n",
        "        \n",
        "    return counter\n"
      ],
      "execution_count": null,
      "outputs": []
    },
    {
      "cell_type": "markdown",
      "metadata": {
        "id": "Gkaq5hBvnL2J"
      },
      "source": [
        "# Train embeddings"
      ]
    },
    {
      "cell_type": "code",
      "metadata": {
        "id": "GFLZmAs7E92B"
      },
      "source": [
        "all_train = load_dataset(\"/content/NullitOut/gender/train_gender.csv\")"
      ],
      "execution_count": 62,
      "outputs": []
    },
    {
      "cell_type": "code",
      "metadata": {
        "colab": {
          "base_uri": "https://localhost:8080/"
        },
        "id": "tZgPF5nrfrUw",
        "outputId": "3d5c4b7d-cc6b-4f5a-bd0a-5a69c1564395"
      },
      "source": [
        "import math\n",
        "random.shuffle(all_train)\n",
        "train_len = math.ceil(len(all_train)*0.8)\n",
        "dev_len = math.ceil(len(all_train)*0.1)\n",
        "test_len = len(all_train) - train_len - dev_len\n",
        "print (train_len,dev_len,test_len)\n",
        "\n",
        "train = all_train[:train_len]\n",
        "dev = all_train[train_len:train_len+dev_len]\n",
        "test = all_train[train_len+dev_len:]\n",
        "print (len(train),len(dev),len(test))"
      ],
      "execution_count": 63,
      "outputs": [
        {
          "output_type": "stream",
          "text": [
            "33782 4223 4222\n",
            "33782 4223 4222\n"
          ],
          "name": "stdout"
        }
      ]
    },
    {
      "cell_type": "code",
      "metadata": {
        "colab": {
          "base_uri": "https://localhost:8080/"
        },
        "id": "z81lheBufp_4",
        "outputId": "f8a16a68-f074-4335-9081-20dd674ff5b5"
      },
      "source": [
        "# p2i, i2p = load_dictionary(\"/content/nullspace_projection/data/biasbios/profession2index.txt\")\n",
        "# g2i, i2g = load_dictionary(\"/content/nullspace_projection/data/biasbios/gender2index.txt\")\n",
        "\n",
        "g2i = dict()\n",
        "g2i['male'] = 0\n",
        "g2i['female'] = 1\n",
        "g2i['transgender'] = 2\n",
        "i2g = dict()\n",
        "i2g[0] = 'male'\n",
        "i2g[1] = 'female'\n",
        "i2g[2] = 'transgender'\n",
        "print(g2i,i2g)\n",
        "\n",
        "t2i = dict()\n",
        "t2i['toxic'] = 1\n",
        "t2i['non-toxic'] = 0\n",
        "i2t = dict()\n",
        "i2t[0] = 'non-toxic'\n",
        "i2t[1] = 'toxic'\n",
        "print(t2i,i2t)\n"
      ],
      "execution_count": 64,
      "outputs": [
        {
          "output_type": "stream",
          "text": [
            "{'male': 0, 'female': 1, 'transgender': 2} {0: 'male', 1: 'female', 2: 'transgender'}\n",
            "{'toxic': 1, 'non-toxic': 0} {0: 'non-toxic', 1: 'toxic'}\n"
          ],
          "name": "stdout"
        }
      ]
    },
    {
      "cell_type": "code",
      "metadata": {
        "colab": {
          "base_uri": "https://localhost:8080/"
        },
        "id": "7I4G_jdPhbOz",
        "outputId": "b3dbbfbb-dd85-43c3-bd6b-397cd43cf768"
      },
      "source": [
        "counter = count_profs_and_gender(train+dev+test)\n",
        "print(counter)"
      ],
      "execution_count": 65,
      "outputs": [
        {
          "output_type": "stream",
          "text": [
            "defaultdict(<class 'collections.Counter'>, {'non-toxic': Counter({'female': 15224, 'male': 5580, 'transgender': 260}), 'toxic': Counter({'female': 14965, 'male': 5606, 'transgender': 592})})\n"
          ],
          "name": "stdout"
        }
      ]
    },
    {
      "cell_type": "code",
      "metadata": {
        "colab": {
          "base_uri": "https://localhost:8080/"
        },
        "id": "49IYgCakE92F",
        "outputId": "a6e9f4d4-b310-4f18-bfe8-4ce20a9c3785"
      },
      "source": [
        "counter = count_profs_and_gender(train+dev+test)\n",
        "f,m,t = 0., 0., 0.\n",
        "tox2fem = dict()\n",
        "\n",
        "for k, values in counter.items():\n",
        "    print(k, values)\n",
        "    f += values['female']\n",
        "    m += values['male']\n",
        "    t += values['transgender']\n",
        "    divisor = (values['female'] + values['male'] + values['transgender'])\n",
        "    if divisor != 0:\n",
        "      tox2fem[k] = values['female']/divisor\n",
        "    else:\n",
        "      tox2fem[k] = 0\n",
        "print(f / (f + m + t))\n",
        "print(tox2fem)"
      ],
      "execution_count": 67,
      "outputs": [
        {
          "output_type": "stream",
          "text": [
            "non-toxic Counter({'female': 15224, 'male': 5580, 'transgender': 260})\n",
            "toxic Counter({'female': 14965, 'male': 5606, 'transgender': 592})\n",
            "0.7149217325407914\n",
            "{'non-toxic': 0.7227497151538169, 'toxic': 0.7071303690403062}\n"
          ],
          "name": "stdout"
        }
      ]
    },
    {
      "cell_type": "markdown",
      "metadata": {
        "id": "hfZal5K9E92G"
      },
      "source": [
        "### Get input representatons "
      ]
    },
    {
      "cell_type": "code",
      "metadata": {
        "id": "lUNWgIcKE92H"
      },
      "source": [
        "\n",
        "def load_word_vectors(fname):\n",
        "    \n",
        "    model = KeyedVectors.load_word2vec_format(fname, binary=False)\n",
        "    vecs = model.vectors\n",
        "    words = list(model.vocab.keys())\n",
        "    return model, vecs, words\n",
        "\n",
        "\n",
        "def get_embeddings_based_dataset(data: List[dict], word2vec_model, t2i, filter_stopwords = False):\n",
        "    \n",
        "    X, Y = [], []\n",
        "    unk, total = 0., 0.\n",
        "    unknown = []\n",
        "    vocab_counter = Counter()\n",
        "    \n",
        "    for entry in tqdm.tqdm_notebook(data, total = len(data)):\n",
        "        \n",
        "        y = t2i[entry[\"toxicity\"]]\n",
        "        words = entry[\"comment_text\"].split(\" \")\n",
        "        if filter_stopwords:\n",
        "            words = [w for w in words if w.lower() not in STOPWORDS]\n",
        "            \n",
        "        vocab_counter.update(words) \n",
        "        bagofwords = np.sum([word2vec_model[w] if w in word2vec_model else word2vec_model[\"unk\"] for w in words], axis = 0)\n",
        "        #print(bagofwords.shape)\n",
        "        X.append(bagofwords)\n",
        "        Y.append(y)\n",
        "        total += len(words)\n",
        "        \n",
        "        unknown_entry = [w for w in words if w not in word2vec_model]\n",
        "        unknown.extend(unknown_entry)\n",
        "        unk += len(unknown_entry)\n",
        "    \n",
        "    X = np.array(X)\n",
        "    Y = np.array(Y)\n",
        "    print(\"% unknown: {}\".format(unk/total))\n",
        "    return X,Y,unknown,vocab_counter\n",
        "\n"
      ],
      "execution_count": 68,
      "outputs": []
    },
    {
      "cell_type": "code",
      "metadata": {
        "id": "fUB9pOEYE92H"
      },
      "source": [
        "word2vec, vecs, words = load_word_vectors(\"/content/nullspace_projection/data/embeddings/crawl-300d-2M.vec\")"
      ],
      "execution_count": 69,
      "outputs": []
    },
    {
      "cell_type": "code",
      "metadata": {
        "colab": {
          "base_uri": "https://localhost:8080/"
        },
        "id": "-MFWRDbtNdKB",
        "outputId": "f8cc47d6-03d8-48ee-971b-3c715297e6dc"
      },
      "source": [
        "train[0]"
      ],
      "execution_count": 71,
      "outputs": [
        {
          "output_type": "execute_result",
          "data": {
            "text/plain": [
              "OrderedDict([('id', '5359083'),\n",
              "             ('comment_text',\n",
              "              \"Hardly.\\n\\nAfrica's population will more than double within those 2 lifetimes you mention.\\n\\nThere is absolutely no reason to believe that Africa will pull itself from this spiral, every reason to believe that Africa will continue, indefinitely, on its tortuous path\\n\\nMeasures to control population, or even diseases such as AIDS, are viewed widely as white man's conspiracies. Ignorance, superstition and tribalism are not on the wane, rather the opposite.\\n\\nThe people's only hope is to leave: the waves of Africans trying to get to Europe is only the thin edge of what could become a massive wedge.\\n\\nEurope's past is not Africa' future. But Africa's present may well become Europe's, and the west's, future.\"),\n",
              "             ('toxicity', 'non-toxic'),\n",
              "             ('label_gender', 'male')])"
            ]
          },
          "metadata": {
            "tags": []
          },
          "execution_count": 71
        }
      ]
    },
    {
      "cell_type": "code",
      "metadata": {
        "colab": {
          "base_uri": "https://localhost:8080/",
          "height": 215,
          "referenced_widgets": [
            "f641c4907b4b4a53aa3cb410f30e81eb",
            "ec6351b68a3f42eb899cadb6681628d8",
            "3883c8e24e5b43e59b899436fcdef55e",
            "6d0be2e172b2408eb71017cc394fe93c",
            "fae3aa6117fc476bbe20aab427e09535",
            "1503be4dfb47452b975fe7b4c2487bb8",
            "d551c375512e4c90856cf59af2f355bc",
            "4c6c2f980a70473dac6858768a302311",
            "fffe1270bd5841e6a99da7f32f670a8c",
            "7c489afff33a4e099d0df2879c5211cb",
            "95b2fb6bb0c54cc9a038f617d115f9a9",
            "648a6bdad4664923a40d0e4d7007621a",
            "3742b40394a944c798204db98b149076",
            "60ddde125df244e1ab64980b7e143721",
            "cf5b28a0a48c4ff388d7b6e1ddfc8541",
            "d22ae5a48ab44ba9b3c46c00bd6d3139",
            "0b366d3fef1f4a9fa233c3dc4a8c862c",
            "1fb0b83f852d448db0b0d0e825733f21",
            "daf3fc151da1417690da0127df12e212",
            "dd4323ee13bf46a692addf6dc4f7eb8c",
            "eacdf3d55a72499e8eba4e4607d97825",
            "48d1e3d3a28247eab59dfd8753df162a",
            "09b19d37a627425980c237aaa4cc153f",
            "447135bd4df54761a1d6a09818c20845"
          ]
        },
        "id": "usWGyzeQE92H",
        "outputId": "e8e59519-146f-4a55-82dd-40fdcef7a39d"
      },
      "source": [
        "X_train, Y_train, unknown_train, vocab_counter_train = get_embeddings_based_dataset(train, word2vec, t2i)\n",
        "X_dev, Y_dev, unknown_dev, vocab_counter_dev =  get_embeddings_based_dataset(dev, word2vec, t2i)\n",
        "X_test, Y_test, unknown_test, vocab_counter_test =  get_embeddings_based_dataset(test, word2vec, t2i)\n"
      ],
      "execution_count": 72,
      "outputs": [
        {
          "output_type": "display_data",
          "data": {
            "application/vnd.jupyter.widget-view+json": {
              "model_id": "f641c4907b4b4a53aa3cb410f30e81eb",
              "version_minor": 0,
              "version_major": 2
            },
            "text/plain": [
              "HBox(children=(FloatProgress(value=0.0, max=33782.0), HTML(value='')))"
            ]
          },
          "metadata": {
            "tags": []
          }
        },
        {
          "output_type": "stream",
          "text": [
            "\n",
            "% unknown: 0.1154805323340607\n"
          ],
          "name": "stdout"
        },
        {
          "output_type": "display_data",
          "data": {
            "application/vnd.jupyter.widget-view+json": {
              "model_id": "fffe1270bd5841e6a99da7f32f670a8c",
              "version_minor": 0,
              "version_major": 2
            },
            "text/plain": [
              "HBox(children=(FloatProgress(value=0.0, max=4223.0), HTML(value='')))"
            ]
          },
          "metadata": {
            "tags": []
          }
        },
        {
          "output_type": "stream",
          "text": [
            "\n",
            "% unknown: 0.11641856135805925\n"
          ],
          "name": "stdout"
        },
        {
          "output_type": "display_data",
          "data": {
            "application/vnd.jupyter.widget-view+json": {
              "model_id": "0b366d3fef1f4a9fa233c3dc4a8c862c",
              "version_minor": 0,
              "version_major": 2
            },
            "text/plain": [
              "HBox(children=(FloatProgress(value=0.0, max=4222.0), HTML(value='')))"
            ]
          },
          "metadata": {
            "tags": []
          }
        },
        {
          "output_type": "stream",
          "text": [
            "\n",
            "% unknown: 0.11575952522951477\n"
          ],
          "name": "stdout"
        }
      ]
    },
    {
      "cell_type": "code",
      "metadata": {
        "id": "k2D63FlrW1x1"
      },
      "source": [
        "train_embeddings = np.array([X_train, Y_train, unknown_train, vocab_counter_train])\n",
        "np.save('/content/NullitOut/gender/gender_train_embeddings.npy', train_embeddings)\n",
        "dev_embeddings = np.array([X_dev, Y_dev, unknown_dev, vocab_counter_dev])\n",
        "np.save('/content/NullitOut/gender/gender_dev_embeddings.npy', dev_embeddings)\n",
        "test_embeddings = np.array([X_test, Y_test, unknown_test, vocab_counter_test])\n",
        "np.save('/content/NullitOut/gender/gender_test_embeddings.npy', test_embeddings)"
      ],
      "execution_count": 74,
      "outputs": []
    },
    {
      "cell_type": "markdown",
      "metadata": {
        "id": "H-3hNXyOX8AG"
      },
      "source": [
        "# Run with pre-trained Embeddings"
      ]
    },
    {
      "cell_type": "code",
      "metadata": {
        "id": "DqFCPqS4XSaj"
      },
      "source": [
        "train_arr = np.load('/content/NullitOut/gender/gender_train_embeddings.npy', allow_pickle=True)\n",
        "X_train, Y_train, unknown_train, vocab_counter_train = train_arr[0], train_arr[1], train_arr[2], train_arr[3]\n",
        "dev_arr = np.load('/content/NullitOut/gender/gender_dev_embeddings.npy',allow_pickle=True)\n",
        "X_dev, Y_dev, unknown_dev, vocab_counter_dev = dev_arr[0], dev_arr[1], dev_arr[2], dev_arr[3]\n",
        "test_arr = np.load('/content/NullitOut/gender/gender_test_embeddings.npy',allow_pickle=True)\n",
        "X_test, Y_test, unknown_test, vocab_counter_test = test_arr[0], test_arr[1], test_arr[2], test_arr[3]"
      ],
      "execution_count": 77,
      "outputs": []
    },
    {
      "cell_type": "code",
      "metadata": {
        "colab": {
          "base_uri": "https://localhost:8080/",
          "height": 181,
          "referenced_widgets": [
            "47a4db1784b7452eadfc54fad4159f79",
            "30532e3265384618b12af96d60eb45e7",
            "8e3328b7187c4e1ca3dc777b31ce4802",
            "5e4e6c1f06a14fa5a204a760f40c685d",
            "b062785855524eeaa043a260abc4f28c",
            "2e7cd41943ce4b949ea7c468d34a351f",
            "d9e38252f74b4b2d9d5c2c894bd7e04e",
            "8a377b3114274ec0b688b5dcbd963252",
            "596da64f47fd40018c4dd963eff92152",
            "871c164c54334398a28d39244613c9e0",
            "1d5b09a98b514dc2ba3d256a5c7f82f8",
            "777fbca01bc74611b984861c4ccae8ec",
            "301ffc9c3ea941bc8b33623d06fbdf55",
            "18d7f29095f6406a9210a4fedecbbf20",
            "9511c0943c224c48908d00de6d736c2f",
            "9f2349421c0846e59ce995a73963fbd0",
            "cb866a9ecb0c4cfe91d62c474e10ff97",
            "6020d1a6bfef489d8b4d56aa8f53ea25",
            "6e7ad6b57074496fbce48ccce960014f",
            "877a14675d114fb194d9d3535464296f",
            "f459c04dbf3a4a9fac1b247136bb3df3",
            "99eb693e9404451590f081cad85ae024",
            "6548f9cfbb6d4faabca58841cf8e5f26",
            "d1d96e3cd5e142b5b5cf6f496012100d"
          ]
        },
        "id": "tpUV5iDWE92I",
        "outputId": "c613e514-7dbd-42f3-8c67-eea2f2837da9"
      },
      "source": [
        "def save_in_word2vec_format(vecs: np.ndarray, words: np.ndarray, fname: str):\n",
        "\n",
        "\n",
        "    with open(fname, \"w\", encoding = \"utf-8\") as f:\n",
        "\n",
        "        f.write(str(len(vecs)) + \" \" + \"300\" + \"\\n\")\n",
        "        for i, (v,w) in tqdm.tqdm_notebook(enumerate(zip(vecs, words))):\n",
        "\n",
        "            vec_as_str = \" \".join([str(x) for x in v])\n",
        "            f.write(w + \" \" + vec_as_str + \"\\n\")\n",
        "\n",
        "\n",
        "vocab_bios, _ = list(zip(*vocab_counter_train.most_common(120000)))\n",
        "words_set = set(words)\n",
        "vocab_bios = [w for w in tqdm.tqdm_notebook(vocab_bios) if w in words_set]\n",
        "vecs_for_vocab = np.array([word2vec[w] for w in tqdm.tqdm_notebook(vocab_bios)])\n",
        "print(\"here\")\n",
        "save_in_word2vec_format(vecs_for_vocab, vocab_bios, \"vecs.vocab.bios.txt\")\n",
        "word2vec_bios, _, _ = load_word_vectors(\"vecs.vocab.bios.txt\")"
      ],
      "execution_count": 80,
      "outputs": [
        {
          "output_type": "display_data",
          "data": {
            "application/vnd.jupyter.widget-view+json": {
              "model_id": "47a4db1784b7452eadfc54fad4159f79",
              "version_minor": 0,
              "version_major": 2
            },
            "text/plain": [
              "HBox(children=(FloatProgress(value=0.0, max=120000.0), HTML(value='')))"
            ]
          },
          "metadata": {
            "tags": []
          }
        },
        {
          "output_type": "stream",
          "text": [
            "\n"
          ],
          "name": "stdout"
        },
        {
          "output_type": "display_data",
          "data": {
            "application/vnd.jupyter.widget-view+json": {
              "model_id": "596da64f47fd40018c4dd963eff92152",
              "version_minor": 0,
              "version_major": 2
            },
            "text/plain": [
              "HBox(children=(FloatProgress(value=0.0, max=50208.0), HTML(value='')))"
            ]
          },
          "metadata": {
            "tags": []
          }
        },
        {
          "output_type": "stream",
          "text": [
            "\n",
            "here\n"
          ],
          "name": "stdout"
        },
        {
          "output_type": "display_data",
          "data": {
            "application/vnd.jupyter.widget-view+json": {
              "model_id": "cb866a9ecb0c4cfe91d62c474e10ff97",
              "version_minor": 0,
              "version_major": 2
            },
            "text/plain": [
              "HBox(children=(FloatProgress(value=1.0, bar_style='info', max=1.0), HTML(value='')))"
            ]
          },
          "metadata": {
            "tags": []
          }
        },
        {
          "output_type": "stream",
          "text": [
            "\n"
          ],
          "name": "stdout"
        }
      ]
    },
    {
      "cell_type": "code",
      "metadata": {
        "colab": {
          "base_uri": "https://localhost:8080/"
        },
        "id": "NHUhS5DqE92J",
        "outputId": "1886bf8e-6a06-4f53-c158-d0c4190d156c"
      },
      "source": [
        "\n",
        "print(\"len train: {}; len dev: {}; len test: {}\".format(len(train), len(dev), len(test)))\n",
        "mean_train = np.mean(X_train, axis = 0, keepdims = True)\n",
        "mean_dev = np.mean(X_dev, axis = 0, keepdims = True)\n",
        "mean_test = np.mean(X_test, axis = 0, keepdims = True)\n",
        "\n",
        "#X_train -= mean_train\n",
        "#X_dev -= mean_dev\n",
        "#X_test -= mean_test"
      ],
      "execution_count": 81,
      "outputs": [
        {
          "output_type": "stream",
          "text": [
            "len train: 33782; len dev: 4223; len test: 4222\n"
          ],
          "name": "stdout"
        }
      ]
    },
    {
      "cell_type": "markdown",
      "metadata": {
        "id": "rjwU_prNE92J"
      },
      "source": [
        "## Classify by toxicity\n"
      ]
    },
    {
      "cell_type": "code",
      "metadata": {
        "scrolled": false,
        "colab": {
          "base_uri": "https://localhost:8080/"
        },
        "id": "Vkjqi0s6E92K",
        "outputId": "169f1c7d-e92e-4ce8-f4c7-708f149ce491"
      },
      "source": [
        "#clf = LinearSVC(max_iter = 10) #LogisticRegression()\n",
        "#clf = SGDClassifier(warm_start = True, loss = 'log', n_jobs = 64, max_iter = 250, random_state = 0)\n",
        "\n",
        "clf = LogisticRegression(warm_start = True, penalty = 'l2',\n",
        "                         solver = \"sag\", fit_intercept = True,\n",
        "                         verbose = 10, max_iter = 5, n_jobs = 64, random_state = 1)\n",
        "# clf = SGDClassifier(loss= 'log', max_iter= 3000, fit_intercept= True, class_weight= None, n_jobs= 100)\n",
        "# clf = LinearSVC(max_iter = 50) #LogisticRegression()\n",
        "\n",
        "start = time.time()\n",
        "idx = np.random.rand(X_train.shape[0]) < 1.0\n",
        "clf.fit(X_train[idx], Y_train[idx])\n",
        "print(\"time: {}\".format(time.time() - start))\n",
        "print(clf.score(X_dev, Y_dev))\n",
        "print(clf.score(X_test, Y_test))\n",
        "clf_original = copy.deepcopy(clf)"
      ],
      "execution_count": 240,
      "outputs": [
        {
          "output_type": "stream",
          "text": [
            "[Parallel(n_jobs=64)]: Using backend ThreadingBackend with 64 concurrent workers.\n"
          ],
          "name": "stderr"
        },
        {
          "output_type": "stream",
          "text": [
            "max_iter reached after 1 seconds\n",
            "time: 0.5712482929229736\n",
            "0.6762964717025811\n",
            "0.6636665087636191\n"
          ],
          "name": "stdout"
        },
        {
          "output_type": "stream",
          "text": [
            "[Parallel(n_jobs=64)]: Done   1 tasks      | elapsed:    0.4s\n",
            "[Parallel(n_jobs=64)]: Done   1 out of   1 | elapsed:    0.4s finished\n"
          ],
          "name": "stderr"
        }
      ]
    },
    {
      "cell_type": "code",
      "metadata": {
        "colab": {
          "base_uri": "https://localhost:8080/"
        },
        "id": "StJvhqNXE92K",
        "outputId": "d76c81f2-9b7c-4fe0-ab3c-51202f032c0e"
      },
      "source": [
        "print(clf.score(X_test, Y_test))\n"
      ],
      "execution_count": 89,
      "outputs": [
        {
          "output_type": "stream",
          "text": [
            "0.6636665087636191\n"
          ],
          "name": "stdout"
        }
      ]
    },
    {
      "cell_type": "markdown",
      "metadata": {
        "id": "Ph8OyOKVE92L"
      },
      "source": [
        "### Perform debiasing"
      ]
    },
    {
      "cell_type": "code",
      "metadata": {
        "colab": {
          "base_uri": "https://localhost:8080/",
          "height": 35
        },
        "id": "omZmkz7bdUds",
        "outputId": "ebdd6eca-9fef-4397-cfe2-7b5778f5e2d9"
      },
      "source": [
        "pwd"
      ],
      "execution_count": 111,
      "outputs": [
        {
          "output_type": "execute_result",
          "data": {
            "application/vnd.google.colaboratory.intrinsic+json": {
              "type": "string"
            },
            "text/plain": [
              "'/content/nullspace_projection'"
            ]
          },
          "metadata": {
            "tags": []
          },
          "execution_count": 111
        }
      ]
    },
    {
      "cell_type": "code",
      "metadata": {
        "id": "Olc-1HajO459"
      },
      "source": [
        "import NullitOut.debias  as debias"
      ],
      "execution_count": 112,
      "outputs": []
    },
    {
      "cell_type": "code",
      "metadata": {
        "scrolled": true,
        "id": "4PALEgqKE92L"
      },
      "source": [
        "def get_projection_matrix(num_clfs, X_train, Y_train, X_dev, Y_dev, Y_train_task, Y_dev_task, dim, all_data_prob, by_class = False):\n",
        "\n",
        "    is_autoregressive = True\n",
        "    min_acc = 0.\n",
        "    dim = 300\n",
        "    n = num_clfs\n",
        "    random_subset = 1\n",
        "    start = time.time()\n",
        "    TYPE= \"logistic\"\n",
        "    penalty = \"l2\"\n",
        "    MLP = False\n",
        "    \n",
        "    if MLP:\n",
        "        x_train_gender = np.matmul(X_train, clf.coefs_[0]) + clf.intercepts_[0]\n",
        "        x_dev_gender = np.matmul(X_dev, clf.coefs_[0]) + clf.intercepts_[0]\n",
        "    else:\n",
        "        x_train_gender = X_train.copy()\n",
        "        x_dev_gender = X_dev.copy()\n",
        "        \n",
        "    \n",
        "    if TYPE == \"sgd\":\n",
        "        print(\"using sgd\")\n",
        "        gender_clf = SGDClassifier\n",
        "        params = {'alpha': 0.01, 'penalty': penalty, 'loss': 'hinge', 'fit_intercept': True, 'class_weight': \"balanced\", 'n_jobs': 16}\n",
        "    elif TYPE == \"svm\":\n",
        "        gender_clf = LinearSVC\n",
        "        params = {'fit_intercept': True, 'C': 0.3, 'class_weight': None, \"dual\": False}\n",
        "    elif TYPE == \"perceptron\":\n",
        "        gender_clf = Perceptron\n",
        "        params = {'max_iter': 1000, 'fit_intercept': True, 'class_weight': None}\n",
        "    elif TYPE == \"logistic\":\n",
        "        gender_clf = LogisticRegression\n",
        "        params = {}\n",
        "        \n",
        "    result = debias.get_debiasing_projection(gender_clf, params, n, dim, is_autoregressive, min_acc,\n",
        "                                              x_train_gender, Y_train, x_dev_gender, Y_dev,\n",
        "                                       Y_train_main=Y_train_task, Y_dev_main=Y_dev_task, \n",
        "                                        by_class = by_class, X_test=X_test, Y_test=Y_test)\n",
        "    print(\"time: {}\".format(time.time() - start))\n",
        "    return result\n",
        "\n",
        "# was c=0.15, num_clfs=130\n",
        "num_clfs = 15\n",
        "Y_dev_gender = np.array([g2i[d[\"label_gender\"]] for d in dev])\n",
        "Y_test_gender = np.array([g2i[d[\"label_gender\"]] for d in test])\n",
        "Y_train_gender = np.array([g2i[d[\"label_gender\"]] for d in train])\n",
        "P, rowspace_projs, Ws, accuracies, toxicity_accuracies, predictions = get_projection_matrix(num_clfs, X_train, Y_train_gender, X_dev, Y_dev_gender, Y_train, Y_dev, 300, 0.0, by_class= True)\n",
        "\n"
      ],
      "execution_count": null,
      "outputs": []
    },
    {
      "cell_type": "markdown",
      "metadata": {
        "id": "lNi6OhOAEBrl"
      },
      "source": [
        "# Plot results"
      ]
    },
    {
      "cell_type": "code",
      "metadata": {
        "id": "mon5JEVid8IX"
      },
      "source": [
        "male_ind = np.where(Y_test_gender == 0)\n",
        "female_ind = np.where(Y_test_gender == 1)\n",
        "transgender_ind = np.where(Y_test_gender == 2)\n"
      ],
      "execution_count": 122,
      "outputs": []
    },
    {
      "cell_type": "code",
      "metadata": {
        "colab": {
          "base_uri": "https://localhost:8080/",
          "height": 1000
        },
        "id": "6n9xXzDHxsiG",
        "outputId": "dec9130b-058f-43ad-ffa1-526b410365d7"
      },
      "source": [
        "import itertools\n",
        "from mpl_toolkits.axes_grid1 import ImageGrid\n",
        "import matplotlib.gridspec as gridspec\n",
        "\n",
        "classes = [\"Non-toxic\", \"Toxic\"]\n",
        "for num in range(num_clfs):\n",
        "  fig = plt.figure(figsize=(12, 5))\n",
        "  grid = ImageGrid(fig, 111,        # as in plt.subplot(111)\n",
        "                  nrows_ncols=(1,3),\n",
        "                  axes_pad=0.5,\n",
        "                  cbar_location=\"right\",\n",
        "                  cbar_mode=\"single\",\n",
        "                  cbar_size=\"7%\",\n",
        "                  cbar_pad=0.5,\n",
        "                  )\n",
        "  \n",
        "  fig.subplots_adjust(wspace=0.1, hspace=0)\n",
        "  indices = [male_ind, female_ind, transgender_ind]\n",
        "  protected_class = ['Male','Female','Transgender']\n",
        "  for i, ax in enumerate(grid[:3]):\n",
        "      cm = confusion_matrix(Y_test[indices[i]], predictions[num][indices[i]],labels)\n",
        "      cm = cm/Y_test[indices[i]].shape[0]*100\n",
        "      im = ax.imshow(cm, vmin=10, vmax=50,interpolation='nearest',)\n",
        "      ax.set_title(\"{}\".format(protected_class[i]), fontsize=20)  # ax.___ instead of plt.___\n",
        "      tick_marks = np.arange(2)\n",
        "      ax.set_xticks(tick_marks,)  # Warning: different signature for [x|y]ticks in pyplot and OO interface\n",
        "      ax.set_xticklabels(classes, rotation=0, fontsize= 14)\n",
        "      ax.set_yticks(tick_marks)\n",
        "      ax.set_yticklabels(classes,rotation=90, fontsize= 14,va='center')\n",
        "\n",
        "      for i, j in itertools.product(range(cm.shape[0]), range(cm.shape[1])):\n",
        "          ax.text(j, i, format(cm[i, j],'.2f'),\n",
        "                  horizontalalignment=\"center\",\n",
        "                  color=\"white\", fontsize= 14)\n",
        "\n",
        "      ax.set_ylabel('True label')\n",
        "      ax.set_xlabel('Predicted label')\n",
        "  fig.suptitle('{} iterations'.format(num), fontsize=20, ha='center',x=0.4, y=.95,)\n",
        "\n",
        "  fig.tight_layout()\n",
        "  fig.subplots_adjust(right=0.8)\n",
        "  fig.colorbar(im, cax=ax.cax)\n",
        "  plt.savefig('/content/nullspace_projection/NullitOut/gender/conf_matrix/gender_confusion_matrix_{}.png'.format(num+1), format='png')\n",
        "  plt.show()"
      ],
      "execution_count": 285,
      "outputs": [
        {
          "output_type": "display_data",
          "data": {
            "image/png": "[encoded data removed]",
            "text/plain": [
              "<Figure size 864x360 with 6 Axes>"
            ]
          },
          "metadata": {
            "tags": [],
            "needs_background": "light"
          }
        },
        {
          "output_type": "display_data",
          "data": {
            "image/png": "[encoded data removed]",
            "text/plain": [
              "<Figure size 864x360 with 6 Axes>"
            ]
          },
          "metadata": {
            "tags": [],
            "needs_background": "light"
          }
        },
        {
          "output_type": "display_data",
          "data": {
            "image/png": "[encoded data removed]",
            "text/plain": [
              "<Figure size 864x360 with 6 Axes>"
            ]
          },
          "metadata": {
            "tags": [],
            "needs_background": "light"
          }
        },
        {
          "output_type": "display_data",
          "data": {
            "image/png": "[encoded data removed]",
            "text/plain": [
              "<Figure size 864x360 with 6 Axes>"
            ]
          },
          "metadata": {
            "tags": [],
            "needs_background": "light"
          }
        },
        {
          "output_type": "display_data",
          "data": {
            "image/png": "[encoded data removed]",
            "text/plain": [
              "<Figure size 864x360 with 6 Axes>"
            ]
          },
          "metadata": {
            "tags": [],
            "needs_background": "light"
          }
        },
        {
          "output_type": "display_data",
          "data": {
            "image/png": "[encoded data removed]",
            "text/plain": [
              "<Figure size 864x360 with 6 Axes>"
            ]
          },
          "metadata": {
            "tags": [],
            "needs_background": "light"
          }
        },
        {
          "output_type": "display_data",
          "data": {
            "image/png": "[encoded data removed]",
            "text/plain": [
              "<Figure size 864x360 with 6 Axes>"
            ]
          },
          "metadata": {
            "tags": [],
            "needs_background": "light"
          }
        },
        {
          "output_type": "display_data",
          "data": {
            "image/png": "[encoded data removed]",
            "text/plain": [
              "<Figure size 864x360 with 6 Axes>"
            ]
          },
          "metadata": {
            "tags": [],
            "needs_background": "light"
          }
        },
        {
          "output_type": "display_data",
          "data": {
            "image/png": "[encoded data removed]",
            "text/plain": [
              "<Figure size 864x360 with 6 Axes>"
            ]
          },
          "metadata": {
            "tags": [],
            "needs_background": "light"
          }
        },
        {
          "output_type": "display_data",
          "data": {
            "image/png": "[encoded data removed]",
            "text/plain": [
              "<Figure size 864x360 with 6 Axes>"
            ]
          },
          "metadata": {
            "tags": [],
            "needs_background": "light"
          }
        },
        {
          "output_type": "display_data",
          "data": {
            "image/png": "[encoded data removed]",
            "text/plain": [
              "<Figure size 864x360 with 6 Axes>"
            ]
          },
          "metadata": {
            "tags": [],
            "needs_background": "light"
          }
        },
        {
          "output_type": "display_data",
          "data": {
            "image/png": "[encoded data removed]",
            "text/plain": [
              "<Figure size 864x360 with 6 Axes>"
            ]
          },
          "metadata": {
            "tags": [],
            "needs_background": "light"
          }
        },
        {
          "output_type": "display_data",
          "data": {
            "image/png": "[encoded data removed]",
            "text/plain": [
              "<Figure size 864x360 with 6 Axes>"
            ]
          },
          "metadata": {
            "tags": [],
            "needs_background": "light"
          }
        },
        {
          "output_type": "display_data",
          "data": {
            "image/png": "[encoded data removed]",
            "text/plain": [
              "<Figure size 864x360 with 6 Axes>"
            ]
          },
          "metadata": {
            "tags": [],
            "needs_background": "light"
          }
        },
        {
          "output_type": "display_data",
          "data": {
            "image/png": "[encoded data removed]",
            "text/plain": [
              "<Figure size 864x360 with 6 Axes>"
            ]
          },
          "metadata": {
            "tags": [],
            "needs_background": "light"
          }
        }
      ]
    },
    {
      "cell_type": "code",
      "metadata": {
        "colab": {
          "base_uri": "https://localhost:8080/",
          "height": 297
        },
        "id": "qT21iRPl9mpV",
        "outputId": "3855e3f4-fe90-4e5c-c590-39b0b3f67efd"
      },
      "source": [
        "import matplotlib.pylab as plt\n",
        "\n",
        "# gen_output = sorted(accuracies.items()) # sorted by key, return a list of tuples\n",
        "tox_output = sorted(toxicity_accuracies.items()) # sorted by key, return a list of tuples\n",
        "\n",
        "x, y = zip(*tox_output) # unpack a list of pairs into two tuples\n",
        "plt.plot(x, tuple([z * 100 for z in y]), label='Toxicity classifier')\n",
        "x1, y1 = zip(*gen_output) # unpack a list of pairs into two tuples\n",
        "plt.plot(x1, tuple([z * 100 for z in y1]), label='Gender classifier')\n",
        "plt.tight_layout()\n",
        "plt.xticks(fontsize=14)\n",
        "plt.yticks(fontsize=14)\n",
        "plt.ylabel(\"Accuracy %\",fontsize=16)\n",
        "plt.xlabel(\"Number of iterations\",fontsize=14)\n",
        "plt.legend(fontsize=14)\n",
        "plt.tight_layout()\n",
        "plt.savefig('/content/nullspace_projection/NullitOut/gender/accuracy_plot.png', format='png', dpi=100)\n",
        "plt.show()"
      ],
      "execution_count": 246,
      "outputs": [
        {
          "output_type": "display_data",
          "data": {
            "image/png": "[encoded data removed]",
            "text/plain": [
              "<Figure size 432x288 with 1 Axes>"
            ]
          },
          "metadata": {
            "tags": [],
            "needs_background": "light"
          }
        }
      ]
    },
    {
      "cell_type": "code",
      "metadata": {
        "colab": {
          "base_uri": "https://localhost:8080/"
        },
        "id": "V1WImw0ZCDFn",
        "outputId": "57b27691-0585-496c-d483-ddd7ffb7c5e8"
      },
      "source": [
        "!zip -r /content/NullitOut.zip /content/nullspace_projection/NullitOut/gender/"
      ],
      "execution_count": 286,
      "outputs": [
        {
          "output_type": "stream",
          "text": [
            "  adding: content/nullspace_projection/NullitOut/gender/ (stored 0%)\n",
            "  adding: content/nullspace_projection/NullitOut/gender/conf_matrix/ (stored 0%)\n",
            "  adding: content/nullspace_projection/NullitOut/gender/conf_matrix/gender_confusion_matrix_10.png (deflated 8%)\n",
            "  adding: content/nullspace_projection/NullitOut/gender/conf_matrix/gender_confusion_matrix_2.png (deflated 8%)\n",
            "  adding: content/nullspace_projection/NullitOut/gender/conf_matrix/gender_confusion_matrix_15.png (deflated 8%)\n",
            "  adding: content/nullspace_projection/NullitOut/gender/conf_matrix/gender_confusion_matrix_4.png (deflated 8%)\n",
            "  adding: content/nullspace_projection/NullitOut/gender/conf_matrix/gender_confusion_matrix_3.png (deflated 8%)\n",
            "  adding: content/nullspace_projection/NullitOut/gender/conf_matrix/gender_confusion_matrix_5.png (deflated 8%)\n",
            "  adding: content/nullspace_projection/NullitOut/gender/conf_matrix/gender_confusion_matrix_7.png (deflated 8%)\n",
            "  adding: content/nullspace_projection/NullitOut/gender/conf_matrix/gender_confusion_matrix_9.png (deflated 8%)\n",
            "  adding: content/nullspace_projection/NullitOut/gender/conf_matrix/gender_confusion_matrix_6.png (deflated 8%)\n",
            "  adding: content/nullspace_projection/NullitOut/gender/conf_matrix/gender_confusion_matrix_8.png (deflated 8%)\n",
            "  adding: content/nullspace_projection/NullitOut/gender/conf_matrix/gender_confusion_matrix_12.png (deflated 8%)\n",
            "  adding: content/nullspace_projection/NullitOut/gender/conf_matrix/gender_confusion_matrix_1.png (deflated 8%)\n",
            "  adding: content/nullspace_projection/NullitOut/gender/conf_matrix/gender_confusion_matrix_11.png (deflated 8%)\n",
            "  adding: content/nullspace_projection/NullitOut/gender/conf_matrix/gender_confusion_matrix_14.png (deflated 8%)\n",
            "  adding: content/nullspace_projection/NullitOut/gender/conf_matrix/gender_confusion_matrix_0.png (deflated 8%)\n",
            "  adding: content/nullspace_projection/NullitOut/gender/conf_matrix/gender_confusion_matrix_13.png (deflated 8%)\n",
            "  adding: content/nullspace_projection/NullitOut/gender/.ipynb_checkpoints/ (stored 0%)\n",
            "  adding: content/nullspace_projection/NullitOut/gender/accuracy_plot.png (deflated 7%)\n",
            "  adding: content/nullspace_projection/NullitOut/gender/train_gender.csv (deflated 61%)\n"
          ],
          "name": "stdout"
        }
      ]
    },
    {
      "cell_type": "markdown",
      "metadata": {
        "id": "1t4yxtt7D2Jg"
      },
      "source": [
        "## Additional investigations"
      ]
    },
    {
      "cell_type": "code",
      "metadata": {
        "colab": {
          "base_uri": "https://localhost:8080/"
        },
        "id": "BkMz18CYFgxx",
        "outputId": "42df7e3f-4d19-4732-a7e6-a47cd4813e23"
      },
      "source": [
        "! pip install pickle-mixin"
      ],
      "execution_count": null,
      "outputs": [
        {
          "output_type": "stream",
          "text": [
            "Collecting pickle-mixin\n",
            "  Downloading https://files.pythonhosted.org/packages/02/77/9d5eb2201bbc130e2a5cc41fc949e4ab0da74b619107eac1c511be3af7a7/pickle-mixin-1.0.2.tar.gz\n",
            "Building wheels for collected packages: pickle-mixin\n",
            "  Building wheel for pickle-mixin (setup.py) ... \u001b[?25l\u001b[?25hdone\n",
            "  Created wheel for pickle-mixin: filename=pickle_mixin-1.0.2-cp37-none-any.whl size=6007 sha256=aaa87a636814f64bdb54e1856cc2e175d7313d8ad385ca39ac60aab0bf11fc64\n",
            "  Stored in directory: /root/.cache/pip/wheels/cd/05/42/71de70fa36b9cbb7657bb5793a16f8028c1cdc1bdd3b8e1ac3\n",
            "Successfully built pickle-mixin\n",
            "Installing collected packages: pickle-mixin\n",
            "Successfully installed pickle-mixin-1.0.2\n"
          ],
          "name": "stdout"
        }
      ]
    },
    {
      "cell_type": "code",
      "metadata": {
        "colab": {
          "base_uri": "https://localhost:8080/"
        },
        "id": "09wy9CrwE92M",
        "outputId": "37573a35-101c-4a6f-c931-fd7fa7c58be8"
      },
      "source": [
        "import pickle\n",
        "with open(\"P.bios.fasttext.{}.svm.pickle\".format(num_clfs), \"wb\") as f:\n",
        "    \n",
        "    pickle.dump(P, f)\n",
        "    \n",
        "np.linalg.norm(Ws[-1])"
      ],
      "execution_count": null,
      "outputs": [
        {
          "output_type": "execute_result",
          "data": {
            "text/plain": [
              "2.287310059187333e-13"
            ]
          },
          "metadata": {
            "tags": []
          },
          "execution_count": 29
        }
      ]
    },
    {
      "cell_type": "code",
      "metadata": {
        "colab": {
          "base_uri": "https://localhost:8080/"
        },
        "id": "t7P4Ky-5E92N",
        "outputId": "29d9b436-4d60-47ee-d027-c0821cb3c4fc"
      },
      "source": [
        "Ws[-50].dot(Ws[0].T)"
      ],
      "execution_count": null,
      "outputs": [
        {
          "output_type": "execute_result",
          "data": {
            "text/plain": [
              "array([[ 2.35663421e-17, -7.03946081e-16,  1.92891126e-15],\n",
              "       [-1.19935565e-18,  6.24728759e-16, -1.75027647e-15],\n",
              "       [-8.12871668e-17, -1.11003265e-15,  3.45808854e-15]])"
            ]
          },
          "metadata": {
            "tags": []
          },
          "execution_count": 30
        }
      ]
    },
    {
      "cell_type": "code",
      "metadata": {
        "colab": {
          "base_uri": "https://localhost:8080/"
        },
        "id": "-FjpiheoE92N",
        "outputId": "569c9d57-1e1c-4e2d-bf26-cd96dd1c7d1e"
      },
      "source": [
        "gender_clf = LogisticRegression(warm_start = True, penalty = 'l2',\n",
        "                         solver = \"sag\", multi_class = 'multinomial', fit_intercept = True,\n",
        "                         verbose = 10, max_iter = 7, n_jobs = 64, random_state = 1)\n",
        "\n",
        "gender_clf.fit(P.dot(X_train.T).T, Y_train_gender)\n",
        "gender_clf.score(P.dot(X_dev.T).T, Y_dev_gender)"
      ],
      "execution_count": null,
      "outputs": [
        {
          "output_type": "stream",
          "text": [
            "[Parallel(n_jobs=64)]: Using backend ThreadingBackend with 64 concurrent workers.\n"
          ],
          "name": "stderr"
        },
        {
          "output_type": "stream",
          "text": [
            "max_iter reached after 2 seconds\n"
          ],
          "name": "stdout"
        },
        {
          "output_type": "stream",
          "text": [
            "[Parallel(n_jobs=64)]: Done   1 tasks      | elapsed:    1.3s\n",
            "[Parallel(n_jobs=64)]: Done   1 out of   1 | elapsed:    1.3s finished\n"
          ],
          "name": "stderr"
        },
        {
          "output_type": "execute_result",
          "data": {
            "text/plain": [
              "0.7158418186123608"
            ]
          },
          "metadata": {
            "tags": []
          },
          "execution_count": 31
        }
      ]
    },
    {
      "cell_type": "code",
      "metadata": {
        "colab": {
          "base_uri": "https://localhost:8080/"
        },
        "id": "aiDA63hVE92N",
        "outputId": "6a91fe94-9cc0-4c44-fde0-554f4ae3ddd2"
      },
      "source": [
        "gender_clf.score(P.dot(X_train.T).T, Y_train_gender)"
      ],
      "execution_count": null,
      "outputs": [
        {
          "output_type": "execute_result",
          "data": {
            "text/plain": [
              "0.7150849564857025"
            ]
          },
          "metadata": {
            "tags": []
          },
          "execution_count": 32
        }
      ]
    },
    {
      "cell_type": "markdown",
      "metadata": {
        "id": "Dnp542NKE92O"
      },
      "source": [
        "### Perform finetuning"
      ]
    },
    {
      "cell_type": "code",
      "metadata": {
        "colab": {
          "base_uri": "https://localhost:8080/"
        },
        "id": "D2WOCy-vE92O",
        "outputId": "113bb4fe-2043-432f-fff1-a7284155e458"
      },
      "source": [
        "\n",
        "clf = LogisticRegression(warm_start = True, penalty = 'l2',\n",
        "                         solver = \"sag\", multi_class = 'multinomial', fit_intercept = True,\n",
        "                         verbose = 10, max_iter = 6, n_jobs = 64, random_state = 0, class_weight = None)\n",
        "# 5\n",
        "#clf = SGDClassifier(verbose=10, n_jobs = 32)\n",
        "clf.fit(P.dot(X_train.T).T, Y_train)\n",
        "#clf.fit(X_train, Y_train)\n"
      ],
      "execution_count": null,
      "outputs": [
        {
          "output_type": "stream",
          "text": [
            "[Parallel(n_jobs=64)]: Using backend ThreadingBackend with 64 concurrent workers.\n"
          ],
          "name": "stderr"
        },
        {
          "output_type": "stream",
          "text": [
            "max_iter reached after 1 seconds\n"
          ],
          "name": "stdout"
        },
        {
          "output_type": "stream",
          "text": [
            "[Parallel(n_jobs=64)]: Done   1 tasks      | elapsed:    0.9s\n",
            "[Parallel(n_jobs=64)]: Done   1 out of   1 | elapsed:    0.9s finished\n"
          ],
          "name": "stderr"
        },
        {
          "output_type": "execute_result",
          "data": {
            "text/plain": [
              "LogisticRegression(C=1.0, class_weight=None, dual=False, fit_intercept=True,\n",
              "                   intercept_scaling=1, l1_ratio=None, max_iter=6,\n",
              "                   multi_class='multinomial', n_jobs=64, penalty='l2',\n",
              "                   random_state=0, solver='sag', tol=0.0001, verbose=10,\n",
              "                   warm_start=True)"
            ]
          },
          "metadata": {
            "tags": []
          },
          "execution_count": 43
        }
      ]
    },
    {
      "cell_type": "code",
      "metadata": {
        "colab": {
          "base_uri": "https://localhost:8080/"
        },
        "id": "IlkgTeOnE92P",
        "outputId": "1950721e-c725-4915-f797-e61572d95e83"
      },
      "source": [
        "print(clf.score(P.dot(X_test.T).T, Y_test))"
      ],
      "execution_count": null,
      "outputs": [
        {
          "output_type": "stream",
          "text": [
            "0.549265750828991\n"
          ],
          "name": "stdout"
        }
      ]
    },
    {
      "cell_type": "markdown",
      "metadata": {
        "id": "d36bCagdE92P"
      },
      "source": [
        "#### test again"
      ]
    },
    {
      "cell_type": "code",
      "metadata": {
        "id": "VAHWWNHnE92P"
      },
      "source": [
        "def get_TPR(y_pred, y_true, p2i, i2p, gender):\n",
        "    \n",
        "    scores = defaultdict(Counter)\n",
        "    prof_count_total = defaultdict(Counter)\n",
        "    \n",
        "    assert len(y_pred) == len(y_true) == len(gender)\n",
        "               \n",
        "    for y_hat, y, g in zip(y_pred, y_true, gender):\n",
        "                \n",
        "        if y == y_hat:\n",
        "            \n",
        "            scores[i2p[y]][g] += 1\n",
        "        \n",
        "        prof_count_total[i2p[y]][g] += 1\n",
        "    \n",
        "    tprs = defaultdict(dict)\n",
        "    tprs_change = dict()\n",
        "    tprs_ratio = []\n",
        "    \n",
        "    for profession, scores_dict in scores.items():\n",
        "        \n",
        "        good_m, good_f = scores_dict[\"male\"], scores_dict[\"female\"]\n",
        "        prof_total_f = prof_count_total[profession][\"female\"]\n",
        "        prof_total_m = prof_count_total[profession][\"male\"]\n",
        "        tpr_m = (good_m) / prof_total_m\n",
        "        tpr_f = (good_f) / prof_total_f\n",
        "        \n",
        "        tprs[profession][\"male\"] = tpr_m\n",
        "        tprs[profession][\"female\"] = tpr_f\n",
        "        tprs_ratio.append(0)\n",
        "        tprs_change[profession] = tpr_f - tpr_m\n",
        "        \n",
        "    return tprs, tprs_change, np.mean(np.abs(tprs_ratio))\n",
        "\n",
        "def get_FPR(y_pred, y_true, p2i, i2p, gender):\n",
        "    \n",
        "    fp = defaultdict(Counter)\n",
        "    neg_count_total = defaultdict(Counter)\n",
        "    pos_count_total = defaultdict(Counter)\n",
        "    \n",
        "    \n",
        "               \n",
        "    for y_hat, y, g in zip(y_pred, y_true, gender):\n",
        "        \n",
        "        if y != y_hat:\n",
        "            \n",
        "            fp[i2p[y_hat]][g] += 1 # count false positives for y_hat\n",
        "        \n",
        "        neg_count_total[i2p[y_hat]][g] += 1 # count \"not y_hat\"\n",
        "                \n",
        "    fprs = defaultdict(dict)\n",
        "    fprs_change = dict()\n",
        "    fprs_ratio = []\n",
        "    \n",
        "    #print(prof_count_total)\n",
        "    \n",
        "    for profession, scores_dict in fp.items():\n",
        "        \n",
        "        good_m, good_f = scores_dict[\"male\"], scores_dict[\"female\"]\n",
        "        prof_total_f = neg_count_total[profession][\"female\"]\n",
        "        prof_total_m = neg_count_total[profession][\"male\"]\n",
        "        print(profession)\n",
        "        fpr_m = (good_m+good_f) / prof_total_m\n",
        "        fpr_f = (good_m+good_f) / prof_total_f\n",
        "        \n",
        "        fprs[profession][\"male\"] = fpr_m\n",
        "        fprs[profession][\"female\"] = fpr_f\n",
        "        fprs_ratio.append(0)\n",
        "        fprs_change[profession] = fpr_m - fpr_f\n",
        "        \n",
        "    return fprs, fprs_change, np.mean(np.abs(fprs_ratio))    \n",
        "    \n",
        "def similarity_vs_tpr(tprs, word2vec, title, measure, prof2fem):\n",
        "    \n",
        "    professions = list(tprs.keys())\n",
        "    #\n",
        "    \"\"\" \n",
        "    sims = dict()\n",
        "    gender_direction = word2vec[\"he\"] - word2vec[\"she\"]\n",
        "    \n",
        "    for p in professions:\n",
        "        sim = word2vec.cosine_similarities(word2vec[p], [gender_direction])[0]\n",
        "        sims[p] = sim\n",
        "    \"\"\"\n",
        "    tpr_lst = [tprs[p] for p in professions]\n",
        "    sim_lst = [prof2fem[p] for p in professions]\n",
        "\n",
        "    #professions = [p.replace(\"_\", \" \") for p in professions if p in word2vec]\n",
        "    \n",
        "    plt.plot(sim_lst, tpr_lst, marker = \"o\", linestyle = \"none\")\n",
        "    plt.xlabel(\"% women\", fontsize = 13)\n",
        "    plt.ylabel(r'$GAP_{female,y}^{TPR}$', fontsize = 13)\n",
        "    for p in professions:\n",
        "        x,y = prof2fem[p], tprs[p]\n",
        "        plt.annotate(p , (x,y), size = 7, color = \"red\")\n",
        "    \n",
        "    plt.ylim(-0.4,0.55)\n",
        "    z = np.polyfit(sim_lst, tpr_lst, 1)\n",
        "    p = np.poly1d(z)\n",
        "    plt.plot(sim_lst,p(sim_lst),\"b--\")\n",
        "\n",
        "    plt.savefig(\"{}_vs_bias_{}_fasttext\".format(measure, title), dpi = 600)\n",
        "    print(\"Correlation: {}; p-value: {}\".format(*pearsonr(sim_lst, tpr_lst)))\n",
        "    plt.show()\n",
        "    \n",
        "def rms_diff(tpr_diff):\n",
        "    \n",
        "    return np.sqrt(np.mean(tpr_diff**2))\n",
        "    \n",
        "def save_vecs_and_words(vecs, words):\n",
        "    def to_string(arr):\n",
        "        return \"\\t\".join([str(x) for x in arr])\n",
        "    \n",
        "    with open(\"vecs.txt\", \"w\") as f:\n",
        "        for v in vecs:\n",
        "            assert len(v) == 300\n",
        "            f.write(to_string(v) + \"\\n\")\n",
        "    \n",
        "    with open(\"labels.txt\", \"w\") as f:\n",
        "            f.write(\"Profession\\n\")\n",
        "            for w in words:\n",
        "                f.write(w + \"\\n\")"
      ],
      "execution_count": null,
      "outputs": []
    },
    {
      "cell_type": "code",
      "metadata": {
        "scrolled": true,
        "id": "uk2scG5PE92Q",
        "colab": {
          "base_uri": "https://localhost:8080/",
          "height": 374
        },
        "outputId": "7d0f4ca7-8bd3-41a1-91ea-de8d5346865b"
      },
      "source": [
        "\n",
        "\n",
        "y_pred_before = clf_original.predict(X_test)\n",
        "test_gender = [d[\"label_gender\"] for d in test]\n",
        "dev_gender = [d[\"label_gender\"] for d in dev]\n",
        "train_gender = [d[\"label_gender\"] for d in train]\n",
        "\n",
        "tprs_before, tprs_change_before, mean_ratio_before = get_TPR(y_pred_before, Y_test, g2i, i2g, test_gender)\n",
        "similarity_vs_tpr(tprs_change_before, word2vec, \"before\", \"TPR\", tox2fem)\n",
        "\n",
        "\n",
        "#y_pred_after = clf.predict(X_test.dot(P))\n",
        "y_pred_after = clf.predict(X_test.dot(P))\n",
        "tprs, tprs_change_after, mean_ratio_after = get_TPR(y_pred_after, Y_test, p2i, i2p, test_gender)\n",
        "similarity_vs_tpr(tprs_change_after, word2vec, \"after\", \"TPR\", tox2fem)\n",
        "\n",
        "change_vals_before = np.array(list((tprs_change_before.values())))\n",
        "change_vals_after = np.array(list(tprs_change_after.values()))\n",
        "\n",
        "print(\"rms-diff before: {}; rms-diff after: {}\".format(rms_diff(change_vals_before), rms_diff(change_vals_after)))"
      ],
      "execution_count": null,
      "outputs": [
        {
          "output_type": "error",
          "ename": "KeyError",
          "evalue": "ignored",
          "traceback": [
            "\u001b[0;31m---------------------------------------------------------------------------\u001b[0m",
            "\u001b[0;31mKeyError\u001b[0m                                  Traceback (most recent call last)",
            "\u001b[0;32m<ipython-input-42-3cf7c5ed064b>\u001b[0m in \u001b[0;36m<module>\u001b[0;34m()\u001b[0m\n\u001b[1;32m      7\u001b[0m \u001b[0;34m\u001b[0m\u001b[0m\n\u001b[1;32m      8\u001b[0m \u001b[0mtprs_before\u001b[0m\u001b[0;34m,\u001b[0m \u001b[0mtprs_change_before\u001b[0m\u001b[0;34m,\u001b[0m \u001b[0mmean_ratio_before\u001b[0m \u001b[0;34m=\u001b[0m \u001b[0mget_TPR\u001b[0m\u001b[0;34m(\u001b[0m\u001b[0my_pred_before\u001b[0m\u001b[0;34m,\u001b[0m \u001b[0mY_test\u001b[0m\u001b[0;34m,\u001b[0m \u001b[0mg2i\u001b[0m\u001b[0;34m,\u001b[0m \u001b[0mi2g\u001b[0m\u001b[0;34m,\u001b[0m \u001b[0mtest_gender\u001b[0m\u001b[0;34m)\u001b[0m\u001b[0;34m\u001b[0m\u001b[0;34m\u001b[0m\u001b[0m\n\u001b[0;32m----> 9\u001b[0;31m \u001b[0msimilarity_vs_tpr\u001b[0m\u001b[0;34m(\u001b[0m\u001b[0mtprs_change_before\u001b[0m\u001b[0;34m,\u001b[0m \u001b[0mword2vec\u001b[0m\u001b[0;34m,\u001b[0m \u001b[0;34m\"before\"\u001b[0m\u001b[0;34m,\u001b[0m \u001b[0;34m\"TPR\"\u001b[0m\u001b[0;34m,\u001b[0m \u001b[0mtox2fem\u001b[0m\u001b[0;34m)\u001b[0m\u001b[0;34m\u001b[0m\u001b[0;34m\u001b[0m\u001b[0m\n\u001b[0m\u001b[1;32m     10\u001b[0m \u001b[0;34m\u001b[0m\u001b[0m\n\u001b[1;32m     11\u001b[0m \u001b[0;34m\u001b[0m\u001b[0m\n",
            "\u001b[0;32m<ipython-input-35-ce1e9b9962c5>\u001b[0m in \u001b[0;36msimilarity_vs_tpr\u001b[0;34m(tprs, word2vec, title, measure, prof2fem)\u001b[0m\n\u001b[1;32m     84\u001b[0m     \"\"\"\n\u001b[1;32m     85\u001b[0m     \u001b[0mtpr_lst\u001b[0m \u001b[0;34m=\u001b[0m \u001b[0;34m[\u001b[0m\u001b[0mtprs\u001b[0m\u001b[0;34m[\u001b[0m\u001b[0mp\u001b[0m\u001b[0;34m]\u001b[0m \u001b[0;32mfor\u001b[0m \u001b[0mp\u001b[0m \u001b[0;32min\u001b[0m \u001b[0mprofessions\u001b[0m\u001b[0;34m]\u001b[0m\u001b[0;34m\u001b[0m\u001b[0;34m\u001b[0m\u001b[0m\n\u001b[0;32m---> 86\u001b[0;31m     \u001b[0msim_lst\u001b[0m \u001b[0;34m=\u001b[0m \u001b[0;34m[\u001b[0m\u001b[0mprof2fem\u001b[0m\u001b[0;34m[\u001b[0m\u001b[0mp\u001b[0m\u001b[0;34m]\u001b[0m \u001b[0;32mfor\u001b[0m \u001b[0mp\u001b[0m \u001b[0;32min\u001b[0m \u001b[0mprofessions\u001b[0m\u001b[0;34m]\u001b[0m\u001b[0;34m\u001b[0m\u001b[0;34m\u001b[0m\u001b[0m\n\u001b[0m\u001b[1;32m     87\u001b[0m \u001b[0;34m\u001b[0m\u001b[0m\n\u001b[1;32m     88\u001b[0m     \u001b[0;31m#professions = [p.replace(\"_\", \" \") for p in professions if p in word2vec]\u001b[0m\u001b[0;34m\u001b[0m\u001b[0;34m\u001b[0m\u001b[0;34m\u001b[0m\u001b[0m\n",
            "\u001b[0;32m<ipython-input-35-ce1e9b9962c5>\u001b[0m in \u001b[0;36m<listcomp>\u001b[0;34m(.0)\u001b[0m\n\u001b[1;32m     84\u001b[0m     \"\"\"\n\u001b[1;32m     85\u001b[0m     \u001b[0mtpr_lst\u001b[0m \u001b[0;34m=\u001b[0m \u001b[0;34m[\u001b[0m\u001b[0mtprs\u001b[0m\u001b[0;34m[\u001b[0m\u001b[0mp\u001b[0m\u001b[0;34m]\u001b[0m \u001b[0;32mfor\u001b[0m \u001b[0mp\u001b[0m \u001b[0;32min\u001b[0m \u001b[0mprofessions\u001b[0m\u001b[0;34m]\u001b[0m\u001b[0;34m\u001b[0m\u001b[0;34m\u001b[0m\u001b[0m\n\u001b[0;32m---> 86\u001b[0;31m     \u001b[0msim_lst\u001b[0m \u001b[0;34m=\u001b[0m \u001b[0;34m[\u001b[0m\u001b[0mprof2fem\u001b[0m\u001b[0;34m[\u001b[0m\u001b[0mp\u001b[0m\u001b[0;34m]\u001b[0m \u001b[0;32mfor\u001b[0m \u001b[0mp\u001b[0m \u001b[0;32min\u001b[0m \u001b[0mprofessions\u001b[0m\u001b[0;34m]\u001b[0m\u001b[0;34m\u001b[0m\u001b[0;34m\u001b[0m\u001b[0m\n\u001b[0m\u001b[1;32m     87\u001b[0m \u001b[0;34m\u001b[0m\u001b[0m\n\u001b[1;32m     88\u001b[0m     \u001b[0;31m#professions = [p.replace(\"_\", \" \") for p in professions if p in word2vec]\u001b[0m\u001b[0;34m\u001b[0m\u001b[0;34m\u001b[0m\u001b[0;34m\u001b[0m\u001b[0m\n",
            "\u001b[0;31mKeyError\u001b[0m: 'female'"
          ]
        }
      ]
    },
    {
      "cell_type": "code",
      "metadata": {
        "id": "eAdd251EE92R"
      },
      "source": [
        "def tsne_by_gender(vecs, labels, title, words = None):\n",
        "\n",
        "  tsne = TSNE(n_components=2, random_state=0)\n",
        "  vecs_2d = tsne.fit_transform(vecs)\n",
        "  num_labels = len(set(labels.tolist()))\n",
        "\n",
        "  names = [\"class {}\".format(i) for i in range(num_labels)]\n",
        "  plt.figure(figsize=(6, 5))\n",
        "  colors = 'r', 'b', 'orange'\n",
        "  for i, c, label in zip(set(labels.tolist()), colors, names):\n",
        "    print(len(vecs_2d[labels == i, 0]))\n",
        "    plt.scatter(vecs_2d[labels == i, 0], vecs_2d[labels == i, 1], c=c,\n",
        "                label=label, alpha = 0.6)\n",
        "  plt.legend(loc = \"upper right\")\n",
        "  plt.title(title)\n",
        "  \n",
        "  if words is not None:\n",
        "        k = 60\n",
        "        for i in range(k):\n",
        "            \n",
        "            j = np.random.choice(range(len(words)))\n",
        "            label = labels[i]\n",
        "            w = words[j]\n",
        "            x,y = vecs_2d[i]\n",
        "            plt.annotate(w , (x,y), size = 10, color = \"black\" if label == 1 else \"black\")\n",
        "            \n",
        "  plt.show()\n",
        "  return vecs_2d"
      ],
      "execution_count": null,
      "outputs": []
    },
    {
      "cell_type": "code",
      "metadata": {
        "id": "gIHLjzSTE92S"
      },
      "source": [
        "prof = \"professor\"\n",
        "idx = np.random.rand(X_dev.shape[0]) < 0.1\n",
        "prof_idx = Y_dev == p2i[prof]\n",
        "n = 800\n",
        "tsne_by_gender(X_dev[prof_idx][:n], np.array(dev_gender)[prof_idx][:n], \"tsne by gender, before, {}\".format(prof))\n",
        "tsne_by_gender((X_dev[prof_idx].dot(P))[:n], np.array(dev_gender)[prof_idx][:n], \"tsne by gender, after. {}\".format(prof))"
      ],
      "execution_count": null,
      "outputs": []
    },
    {
      "cell_type": "code",
      "metadata": {
        "id": "U24l_gEiE92S"
      },
      "source": [
        "def count_profs(data_y, i2p):\n",
        "    d = Counter()\n",
        "    for y in data_y:\n",
        "        d[i2p[y]] += 1\n",
        "    return d"
      ],
      "execution_count": null,
      "outputs": []
    },
    {
      "cell_type": "code",
      "metadata": {
        "id": "iBFjIDYaE92S"
      },
      "source": [
        "count_profs(Y_train, i2p)"
      ],
      "execution_count": null,
      "outputs": []
    },
    {
      "cell_type": "code",
      "metadata": {
        "id": "5zziFbK-E92T"
      },
      "source": [
        "count_profs(Y_dev, i2p)"
      ],
      "execution_count": null,
      "outputs": []
    },
    {
      "cell_type": "code",
      "metadata": {
        "id": "p9Ur7o2dE92T"
      },
      "source": [
        "p0 = all_Ps[0]\n",
        "p1 = all_Ps[1]\n",
        "p2 = all_Ps[2]"
      ],
      "execution_count": null,
      "outputs": []
    },
    {
      "cell_type": "code",
      "metadata": {
        "id": "fAsHKGL8E92T"
      },
      "source": [
        "p2.dot(p2.T)<"
      ],
      "execution_count": null,
      "outputs": []
    },
    {
      "cell_type": "code",
      "metadata": {
        "id": "av4_eP3wE92U"
      },
      "source": [
        "p0 = all_Ps[0]\n",
        "p1 = all_Ps[1]\n",
        "p2 = all_Ps[2]\n",
        "\n",
        "p2.dot(p2.T)"
      ],
      "execution_count": null,
      "outputs": []
    },
    {
      "cell_type": "code",
      "metadata": {
        "id": "_Jh88wZJE92U"
      },
      "source": [
        "def get_common_words(data: List[dict], word2vec_model):\n",
        "    \n",
        "    words_counter = Counter()\n",
        "    vecs = []\n",
        "    all_words = []\n",
        "    \n",
        "    \n",
        "    for entry in tqdm.tqdm(data, total = len(data)):\n",
        "        \n",
        "        y = p2i[entry[\"p\"]]\n",
        "        words = entry[\"hard_text\"].split(\" \")\n",
        "        all_words.extend(words)\n",
        "            \n",
        "    \n",
        "    words_counter = Counter(all_words)\n",
        "    common_words = [w for w in words_counter if words_counter[w] > 10 and (w in word2vec_model)]\n",
        "    common_vecs = [word2vec_model[w] for w in common_words]\n",
        "    \n",
        "    return common_words, common_vecs\n",
        "        \n",
        "        "
      ],
      "execution_count": null,
      "outputs": []
    },
    {
      "cell_type": "code",
      "metadata": {
        "scrolled": true,
        "id": "kxiyJQSmE92V"
      },
      "source": [
        "words, vecs = get_common_words(train,word2vec)\n",
        "\n",
        "vecs_normed = vecs / np.linalg.norm(vecs, keepdims = True)\n",
        "ws_normed = [w/np.linalg.norm(w) for w in all_ws]\n",
        "k = 1000\n",
        "groups, labels = [], []\n",
        "\n",
        "for i,w in enumerate(ws_normed):\n",
        "    print(\"INLP ITERATION: {}\".format(i))\n",
        "    sims_i = w.dot(vecs_normed.T).squeeze(0)\n",
        "    zipped = zip(words, vecs_normed, sims_i)\n",
        "    zipped = sorted(list(zipped), key = lambda tuple: -abs(tuple[2]))\n",
        "    ws,vs, sims = list(zip(*zipped))\n",
        "    print(ws[:k])\n",
        "    groups.append(vs[:k])\n",
        "    labels.append(i)\n",
        "    print(\"------------------------------------------------------------------\")"
      ],
      "execution_count": null,
      "outputs": []
    },
    {
      "cell_type": "code",
      "metadata": {
        "id": "tJgmSG4_E92W"
      },
      "source": [
        "def visualize_gender_subspace(vecs, labels):\n",
        "    \n",
        "        N = len(labels)\n",
        "        \n",
        "        all_vecs = []\n",
        "        all_labels = []\n",
        "        \n",
        "        for vecs_list,l in zip(vecs, labels):\n",
        "            \n",
        "            all_labels.append(np.ones(len(vecs_list)) * l)\n",
        "        \n",
        "        all_vecs_np = np.concatenate(vecs, axis = 0)\n",
        "        all_labels_np = np.concatenate(all_labels, axis = 0)\n",
        "        tsne = TSNE(n_components=2, random_state=0)\n",
        "        vecs_2d = tsne.fit_transform(all_vecs_np)\n",
        "    \n",
        "        fig, ax = plt.subplots()\n",
        "        # define the colormap\n",
        "        cmap = plt.cm.jet\n",
        "        # extract all colors from the .jet map\n",
        "        cmaplist = [cmap(i) for i in range(cmap.N)]\n",
        "        # create the new map\n",
        "        cmap = cmap.from_list('Custom cmap', cmaplist, cmap.N)\n",
        "        # define the bins and normalize\n",
        "        bounds = np.linspace(0, N, N + 1)\n",
        "        norm = matplotlib.colors.BoundaryNorm(bounds, cmap.N)\n",
        "        print(\"here\")\n",
        "        print(all_labels_np.shape)\n",
        "        scat = ax.scatter(vecs_2d[:,0], vecs_2d[:,1], c=all_labels_np, cmap=cmap, norm=norm, alpha=0.15)\n",
        "        cb = plt.colorbar(scat, spacing='proportional')#, ticks=bounds)\n",
        "        cb.set_label(\"INLP iteration number\")\n",
        "        plt.savefig(\"INLP progress\", dpi = 600)\n",
        "        plt.show()"
      ],
      "execution_count": null,
      "outputs": []
    },
    {
      "cell_type": "code",
      "metadata": {
        "id": "QFLeXfIqE92W"
      },
      "source": [
        "#visualize_gender_subspace(groups, labels)"
      ],
      "execution_count": null,
      "outputs": []
    },
    {
      "cell_type": "code",
      "metadata": {
        "id": "7Dkbi050E92X"
      },
      "source": [
        "word2vec"
      ],
      "execution_count": null,
      "outputs": []
    },
    {
      "cell_type": "code",
      "metadata": {
        "id": "RYyyODe2E92X"
      },
      "source": [
        "i = 0\n",
        "for w in Ws[:150]:\n",
        "    \n",
        "    #sims = word2vec.similar_by_vector(-w.squeeze(), topn = 60, restrict_vocab=None)\n",
        "    most_similar_f, _ =  list(zip(*word2vec_bios.similar_by_vector(w.squeeze(), topn = 20, restrict_vocab=None)))\n",
        "    most_similar_m, _ =  list(zip(*word2vec_bios.similar_by_vector(-w.squeeze(), topn = 20, restrict_vocab=None)))\n",
        "    print(\"gender direction {}.\\n most_similar male: {}\\n; most_similar female: {}\".format(i, most_similar_m, most_similar_f))\n",
        "    print(\"=====================================\")\n",
        "    i += 1"
      ],
      "execution_count": null,
      "outputs": []
    },
    {
      "cell_type": "code",
      "metadata": {
        "id": "fRgCl0G9E92X"
      },
      "source": [
        ""
      ],
      "execution_count": null,
      "outputs": []
    },
    {
      "cell_type": "code",
      "metadata": {
        "id": "UwN1JYonE92X"
      },
      "source": [
        "nurse_train = [r for r in train if r[\"p\"] == \"nurse\"]\n",
        "nurse_train[0]"
      ],
      "execution_count": null,
      "outputs": []
    },
    {
      "cell_type": "code",
      "metadata": {
        "id": "nV5pNZWFE92Y"
      },
      "source": [
        "profs_train_str = np.array([i2p[y] for y in Y_train[:]])"
      ],
      "execution_count": null,
      "outputs": []
    },
    {
      "cell_type": "code",
      "metadata": {
        "id": "zknaMzeHE92Y"
      },
      "source": [
        "X_train.shape, profs_train_str.shape"
      ],
      "execution_count": null,
      "outputs": []
    },
    {
      "cell_type": "code",
      "metadata": {
        "id": "g5Mty9ewE92Y"
      },
      "source": [
        "for p in p2i.keys():\n",
        "    x_train_nurse = X_train[profs_train_str == p]\n",
        "    y_train_nurse = Y_train[profs_train_str == p]\n",
        "    print(p,len(x_train_nurse)/len(X_train)*100,\"%\", clf_original.score(x_train_nurse, y_train_nurse), clf.score(P.dot(x_train_nurse.T).T, y_train_nurse))"
      ],
      "execution_count": null,
      "outputs": []
    },
    {
      "cell_type": "code",
      "metadata": {
        "id": "FnrdP0EBE92Y"
      },
      "source": [
        "x_train_nurse.shape, y_train_nurse.shape"
      ],
      "execution_count": null,
      "outputs": []
    },
    {
      "cell_type": "code",
      "metadata": {
        "id": "qlfrcww2E92Z"
      },
      "source": [
        ""
      ],
      "execution_count": null,
      "outputs": []
    },
    {
      "cell_type": "code",
      "metadata": {
        "id": "vD3J4xelE92Z"
      },
      "source": [
        ""
      ],
      "execution_count": null,
      "outputs": []
    },
    {
      "cell_type": "code",
      "metadata": {
        "id": "pvQKej89E92Z"
      },
      "source": [
        "{'professor': 0.45118956904580476, 'chiropractor': 0.26558891454965355, 'psychologist': 0.6223011751844766, 'architect': 0.23712053792148718, 'physician': 0.507688318423441, 'nurse': 0.9085446207369142, 'dentist': 0.35589474411216243, 'surgeon': 0.14857228961048746, 'rapper': 0.09665955934612651, 'model': 0.8283124500133298, 'photographer': 0.35721920736720936, 'composer': 0.16392857142857142, 'comedian': 0.21150410861021793, 'filmmaker': 0.3295762590954487, 'paralegal': 0.8483305036785512, 'journalist': 0.49488721804511276, 'personal_trainer': 0.45670391061452514, 'teacher': 0.603111879476414, 'painter': 0.4579886246122027, 'attorney': 0.38316925813475633, 'accountant': 0.36818825194621374, 'software_engineer': 0.1576889661164205, 'poet': 0.49080017115960634, 'dj': 0.1420875420875421, 'pastor': 0.24052132701421802, 'yoga_teacher': 0.8454600120264583, 'dietitian': 0.9273504273504274, 'interior_designer': 0.8086124401913876}"
      ],
      "execution_count": null,
      "outputs": []
    },
    {
      "cell_type": "code",
      "metadata": {
        "id": "4TnYvKvaE92a"
      },
      "source": [
        ""
      ],
      "execution_count": null,
      "outputs": []
    }
  ]
}