{
  "nbformat": 4,
  "nbformat_minor": 0,
  "metadata": {
    "kernelspec": {
      "display_name": "Python 3",
      "language": "python",
      "name": "python3"
    },
    "language_info": {
      "codemirror_mode": {
        "name": "ipython",
        "version": 3
      },
      "file_extension": ".py",
      "mimetype": "text/x-python",
      "name": "python",
      "nbconvert_exporter": "python",
      "pygments_lexer": "ipython3",
      "version": "3.7.6"
    },
    "colab": {
      "name": "toxicity_fasttext_race.ipynb",
      "provenance": [],
      "collapsed_sections": [
        "1t4yxtt7D2Jg",
        "d36bCagdE92P"
      ]
    },
    "widgets": {
      "application/vnd.jupyter.widget-state+json": {
        "604d147c7d0d44d2adbabf091c222f16": {
          "model_module": "@jupyter-widgets/controls",
          "model_name": "HBoxModel",
          "state": {
            "_view_name": "HBoxView",
            "_dom_classes": [],
            "_model_name": "HBoxModel",
            "_view_module": "@jupyter-widgets/controls",
            "_model_module_version": "1.5.0",
            "_view_count": null,
            "_view_module_version": "1.5.0",
            "box_style": "",
            "layout": "IPY_MODEL_7fed3b9f638f4b06b8c0e24d4e7d3cc0",
            "_model_module": "@jupyter-widgets/controls",
            "children": [
              "IPY_MODEL_191c87339e00429798bbc2e72302e064",
              "IPY_MODEL_3314b698d75f49b08e91f0d96de0a1ca"
            ]
          }
        },
        "7fed3b9f638f4b06b8c0e24d4e7d3cc0": {
          "model_module": "@jupyter-widgets/base",
          "model_name": "LayoutModel",
          "state": {
            "_view_name": "LayoutView",
            "grid_template_rows": null,
            "right": null,
            "justify_content": null,
            "_view_module": "@jupyter-widgets/base",
            "overflow": null,
            "_model_module_version": "1.2.0",
            "_view_count": null,
            "flex_flow": null,
            "width": null,
            "min_width": null,
            "border": null,
            "align_items": null,
            "bottom": null,
            "_model_module": "@jupyter-widgets/base",
            "top": null,
            "grid_column": null,
            "overflow_y": null,
            "overflow_x": null,
            "grid_auto_flow": null,
            "grid_area": null,
            "grid_template_columns": null,
            "flex": null,
            "_model_name": "LayoutModel",
            "justify_items": null,
            "grid_row": null,
            "max_height": null,
            "align_content": null,
            "visibility": null,
            "align_self": null,
            "height": null,
            "min_height": null,
            "padding": null,
            "grid_auto_rows": null,
            "grid_gap": null,
            "max_width": null,
            "order": null,
            "_view_module_version": "1.2.0",
            "grid_template_areas": null,
            "object_position": null,
            "object_fit": null,
            "grid_auto_columns": null,
            "margin": null,
            "display": null,
            "left": null
          }
        },
        "191c87339e00429798bbc2e72302e064": {
          "model_module": "@jupyter-widgets/controls",
          "model_name": "FloatProgressModel",
          "state": {
            "_view_name": "ProgressView",
            "style": "IPY_MODEL_ed87196ab8fa469794f3f80d51decf1a",
            "_dom_classes": [],
            "description": "100%",
            "_model_name": "FloatProgressModel",
            "bar_style": "success",
            "max": 15916,
            "_view_module": "@jupyter-widgets/controls",
            "_model_module_version": "1.5.0",
            "value": 15916,
            "_view_count": null,
            "_view_module_version": "1.5.0",
            "orientation": "horizontal",
            "min": 0,
            "description_tooltip": null,
            "_model_module": "@jupyter-widgets/controls",
            "layout": "IPY_MODEL_e38d094ab4f24aecb91c9eb972372d09"
          }
        },
        "3314b698d75f49b08e91f0d96de0a1ca": {
          "model_module": "@jupyter-widgets/controls",
          "model_name": "HTMLModel",
          "state": {
            "_view_name": "HTMLView",
            "style": "IPY_MODEL_93bcf7af95af4aac97be7f92529c2056",
            "_dom_classes": [],
            "description": "",
            "_model_name": "HTMLModel",
            "placeholder": "​",
            "_view_module": "@jupyter-widgets/controls",
            "_model_module_version": "1.5.0",
            "value": " 15916/15916 [01:35&lt;00:00, 166.13it/s]",
            "_view_count": null,
            "_view_module_version": "1.5.0",
            "description_tooltip": null,
            "_model_module": "@jupyter-widgets/controls",
            "layout": "IPY_MODEL_d79424ebe4ac4a2581ce2f8cde3f13e6"
          }
        },
        "ed87196ab8fa469794f3f80d51decf1a": {
          "model_module": "@jupyter-widgets/controls",
          "model_name": "ProgressStyleModel",
          "state": {
            "_view_name": "StyleView",
            "_model_name": "ProgressStyleModel",
            "description_width": "initial",
            "_view_module": "@jupyter-widgets/base",
            "_model_module_version": "1.5.0",
            "_view_count": null,
            "_view_module_version": "1.2.0",
            "bar_color": null,
            "_model_module": "@jupyter-widgets/controls"
          }
        },
        "e38d094ab4f24aecb91c9eb972372d09": {
          "model_module": "@jupyter-widgets/base",
          "model_name": "LayoutModel",
          "state": {
            "_view_name": "LayoutView",
            "grid_template_rows": null,
            "right": null,
            "justify_content": null,
            "_view_module": "@jupyter-widgets/base",
            "overflow": null,
            "_model_module_version": "1.2.0",
            "_view_count": null,
            "flex_flow": null,
            "width": null,
            "min_width": null,
            "border": null,
            "align_items": null,
            "bottom": null,
            "_model_module": "@jupyter-widgets/base",
            "top": null,
            "grid_column": null,
            "overflow_y": null,
            "overflow_x": null,
            "grid_auto_flow": null,
            "grid_area": null,
            "grid_template_columns": null,
            "flex": null,
            "_model_name": "LayoutModel",
            "justify_items": null,
            "grid_row": null,
            "max_height": null,
            "align_content": null,
            "visibility": null,
            "align_self": null,
            "height": null,
            "min_height": null,
            "padding": null,
            "grid_auto_rows": null,
            "grid_gap": null,
            "max_width": null,
            "order": null,
            "_view_module_version": "1.2.0",
            "grid_template_areas": null,
            "object_position": null,
            "object_fit": null,
            "grid_auto_columns": null,
            "margin": null,
            "display": null,
            "left": null
          }
        },
        "93bcf7af95af4aac97be7f92529c2056": {
          "model_module": "@jupyter-widgets/controls",
          "model_name": "DescriptionStyleModel",
          "state": {
            "_view_name": "StyleView",
            "_model_name": "DescriptionStyleModel",
            "description_width": "",
            "_view_module": "@jupyter-widgets/base",
            "_model_module_version": "1.5.0",
            "_view_count": null,
            "_view_module_version": "1.2.0",
            "_model_module": "@jupyter-widgets/controls"
          }
        },
        "d79424ebe4ac4a2581ce2f8cde3f13e6": {
          "model_module": "@jupyter-widgets/base",
          "model_name": "LayoutModel",
          "state": {
            "_view_name": "LayoutView",
            "grid_template_rows": null,
            "right": null,
            "justify_content": null,
            "_view_module": "@jupyter-widgets/base",
            "overflow": null,
            "_model_module_version": "1.2.0",
            "_view_count": null,
            "flex_flow": null,
            "width": null,
            "min_width": null,
            "border": null,
            "align_items": null,
            "bottom": null,
            "_model_module": "@jupyter-widgets/base",
            "top": null,
            "grid_column": null,
            "overflow_y": null,
            "overflow_x": null,
            "grid_auto_flow": null,
            "grid_area": null,
            "grid_template_columns": null,
            "flex": null,
            "_model_name": "LayoutModel",
            "justify_items": null,
            "grid_row": null,
            "max_height": null,
            "align_content": null,
            "visibility": null,
            "align_self": null,
            "height": null,
            "min_height": null,
            "padding": null,
            "grid_auto_rows": null,
            "grid_gap": null,
            "max_width": null,
            "order": null,
            "_view_module_version": "1.2.0",
            "grid_template_areas": null,
            "object_position": null,
            "object_fit": null,
            "grid_auto_columns": null,
            "margin": null,
            "display": null,
            "left": null
          }
        },
        "71d572bb3114434abdbb2e886024b013": {
          "model_module": "@jupyter-widgets/controls",
          "model_name": "HBoxModel",
          "state": {
            "_view_name": "HBoxView",
            "_dom_classes": [],
            "_model_name": "HBoxModel",
            "_view_module": "@jupyter-widgets/controls",
            "_model_module_version": "1.5.0",
            "_view_count": null,
            "_view_module_version": "1.5.0",
            "box_style": "",
            "layout": "IPY_MODEL_569dd92d40d14548a0537ff07f6218d7",
            "_model_module": "@jupyter-widgets/controls",
            "children": [
              "IPY_MODEL_043b43b70e0a48938208595dcfa67379",
              "IPY_MODEL_255d1163146e415dae672c4dd665231a"
            ]
          }
        },
        "569dd92d40d14548a0537ff07f6218d7": {
          "model_module": "@jupyter-widgets/base",
          "model_name": "LayoutModel",
          "state": {
            "_view_name": "LayoutView",
            "grid_template_rows": null,
            "right": null,
            "justify_content": null,
            "_view_module": "@jupyter-widgets/base",
            "overflow": null,
            "_model_module_version": "1.2.0",
            "_view_count": null,
            "flex_flow": null,
            "width": null,
            "min_width": null,
            "border": null,
            "align_items": null,
            "bottom": null,
            "_model_module": "@jupyter-widgets/base",
            "top": null,
            "grid_column": null,
            "overflow_y": null,
            "overflow_x": null,
            "grid_auto_flow": null,
            "grid_area": null,
            "grid_template_columns": null,
            "flex": null,
            "_model_name": "LayoutModel",
            "justify_items": null,
            "grid_row": null,
            "max_height": null,
            "align_content": null,
            "visibility": null,
            "align_self": null,
            "height": null,
            "min_height": null,
            "padding": null,
            "grid_auto_rows": null,
            "grid_gap": null,
            "max_width": null,
            "order": null,
            "_view_module_version": "1.2.0",
            "grid_template_areas": null,
            "object_position": null,
            "object_fit": null,
            "grid_auto_columns": null,
            "margin": null,
            "display": null,
            "left": null
          }
        },
        "043b43b70e0a48938208595dcfa67379": {
          "model_module": "@jupyter-widgets/controls",
          "model_name": "FloatProgressModel",
          "state": {
            "_view_name": "ProgressView",
            "style": "IPY_MODEL_dd73c75ed92e480db2f4c03721b4b0b6",
            "_dom_classes": [],
            "description": "100%",
            "_model_name": "FloatProgressModel",
            "bar_style": "success",
            "max": 1990,
            "_view_module": "@jupyter-widgets/controls",
            "_model_module_version": "1.5.0",
            "value": 1990,
            "_view_count": null,
            "_view_module_version": "1.5.0",
            "orientation": "horizontal",
            "min": 0,
            "description_tooltip": null,
            "_model_module": "@jupyter-widgets/controls",
            "layout": "IPY_MODEL_7045db3ed4804ee9a929011593327707"
          }
        },
        "255d1163146e415dae672c4dd665231a": {
          "model_module": "@jupyter-widgets/controls",
          "model_name": "HTMLModel",
          "state": {
            "_view_name": "HTMLView",
            "style": "IPY_MODEL_45715c956ed0406fa290d25f354a1f84",
            "_dom_classes": [],
            "description": "",
            "_model_name": "HTMLModel",
            "placeholder": "​",
            "_view_module": "@jupyter-widgets/controls",
            "_model_module_version": "1.5.0",
            "value": " 1990/1990 [00:00&lt;00:00, 2860.07it/s]",
            "_view_count": null,
            "_view_module_version": "1.5.0",
            "description_tooltip": null,
            "_model_module": "@jupyter-widgets/controls",
            "layout": "IPY_MODEL_fdd43e0c47db4861aa7ac3445e56a147"
          }
        },
        "dd73c75ed92e480db2f4c03721b4b0b6": {
          "model_module": "@jupyter-widgets/controls",
          "model_name": "ProgressStyleModel",
          "state": {
            "_view_name": "StyleView",
            "_model_name": "ProgressStyleModel",
            "description_width": "initial",
            "_view_module": "@jupyter-widgets/base",
            "_model_module_version": "1.5.0",
            "_view_count": null,
            "_view_module_version": "1.2.0",
            "bar_color": null,
            "_model_module": "@jupyter-widgets/controls"
          }
        },
        "7045db3ed4804ee9a929011593327707": {
          "model_module": "@jupyter-widgets/base",
          "model_name": "LayoutModel",
          "state": {
            "_view_name": "LayoutView",
            "grid_template_rows": null,
            "right": null,
            "justify_content": null,
            "_view_module": "@jupyter-widgets/base",
            "overflow": null,
            "_model_module_version": "1.2.0",
            "_view_count": null,
            "flex_flow": null,
            "width": null,
            "min_width": null,
            "border": null,
            "align_items": null,
            "bottom": null,
            "_model_module": "@jupyter-widgets/base",
            "top": null,
            "grid_column": null,
            "overflow_y": null,
            "overflow_x": null,
            "grid_auto_flow": null,
            "grid_area": null,
            "grid_template_columns": null,
            "flex": null,
            "_model_name": "LayoutModel",
            "justify_items": null,
            "grid_row": null,
            "max_height": null,
            "align_content": null,
            "visibility": null,
            "align_self": null,
            "height": null,
            "min_height": null,
            "padding": null,
            "grid_auto_rows": null,
            "grid_gap": null,
            "max_width": null,
            "order": null,
            "_view_module_version": "1.2.0",
            "grid_template_areas": null,
            "object_position": null,
            "object_fit": null,
            "grid_auto_columns": null,
            "margin": null,
            "display": null,
            "left": null
          }
        },
        "45715c956ed0406fa290d25f354a1f84": {
          "model_module": "@jupyter-widgets/controls",
          "model_name": "DescriptionStyleModel",
          "state": {
            "_view_name": "StyleView",
            "_model_name": "DescriptionStyleModel",
            "description_width": "",
            "_view_module": "@jupyter-widgets/base",
            "_model_module_version": "1.5.0",
            "_view_count": null,
            "_view_module_version": "1.2.0",
            "_model_module": "@jupyter-widgets/controls"
          }
        },
        "fdd43e0c47db4861aa7ac3445e56a147": {
          "model_module": "@jupyter-widgets/base",
          "model_name": "LayoutModel",
          "state": {
            "_view_name": "LayoutView",
            "grid_template_rows": null,
            "right": null,
            "justify_content": null,
            "_view_module": "@jupyter-widgets/base",
            "overflow": null,
            "_model_module_version": "1.2.0",
            "_view_count": null,
            "flex_flow": null,
            "width": null,
            "min_width": null,
            "border": null,
            "align_items": null,
            "bottom": null,
            "_model_module": "@jupyter-widgets/base",
            "top": null,
            "grid_column": null,
            "overflow_y": null,
            "overflow_x": null,
            "grid_auto_flow": null,
            "grid_area": null,
            "grid_template_columns": null,
            "flex": null,
            "_model_name": "LayoutModel",
            "justify_items": null,
            "grid_row": null,
            "max_height": null,
            "align_content": null,
            "visibility": null,
            "align_self": null,
            "height": null,
            "min_height": null,
            "padding": null,
            "grid_auto_rows": null,
            "grid_gap": null,
            "max_width": null,
            "order": null,
            "_view_module_version": "1.2.0",
            "grid_template_areas": null,
            "object_position": null,
            "object_fit": null,
            "grid_auto_columns": null,
            "margin": null,
            "display": null,
            "left": null
          }
        },
        "5a97e5f2a04743a883eb37e418f0c0b7": {
          "model_module": "@jupyter-widgets/controls",
          "model_name": "HBoxModel",
          "state": {
            "_view_name": "HBoxView",
            "_dom_classes": [],
            "_model_name": "HBoxModel",
            "_view_module": "@jupyter-widgets/controls",
            "_model_module_version": "1.5.0",
            "_view_count": null,
            "_view_module_version": "1.5.0",
            "box_style": "",
            "layout": "IPY_MODEL_e81426b91b44452eb9d597acf19d6ffd",
            "_model_module": "@jupyter-widgets/controls",
            "children": [
              "IPY_MODEL_56e718392d6247f0b1c67c518acab803",
              "IPY_MODEL_bb8b3f48c74044ceacab823d2d90826f"
            ]
          }
        },
        "e81426b91b44452eb9d597acf19d6ffd": {
          "model_module": "@jupyter-widgets/base",
          "model_name": "LayoutModel",
          "state": {
            "_view_name": "LayoutView",
            "grid_template_rows": null,
            "right": null,
            "justify_content": null,
            "_view_module": "@jupyter-widgets/base",
            "overflow": null,
            "_model_module_version": "1.2.0",
            "_view_count": null,
            "flex_flow": null,
            "width": null,
            "min_width": null,
            "border": null,
            "align_items": null,
            "bottom": null,
            "_model_module": "@jupyter-widgets/base",
            "top": null,
            "grid_column": null,
            "overflow_y": null,
            "overflow_x": null,
            "grid_auto_flow": null,
            "grid_area": null,
            "grid_template_columns": null,
            "flex": null,
            "_model_name": "LayoutModel",
            "justify_items": null,
            "grid_row": null,
            "max_height": null,
            "align_content": null,
            "visibility": null,
            "align_self": null,
            "height": null,
            "min_height": null,
            "padding": null,
            "grid_auto_rows": null,
            "grid_gap": null,
            "max_width": null,
            "order": null,
            "_view_module_version": "1.2.0",
            "grid_template_areas": null,
            "object_position": null,
            "object_fit": null,
            "grid_auto_columns": null,
            "margin": null,
            "display": null,
            "left": null
          }
        },
        "56e718392d6247f0b1c67c518acab803": {
          "model_module": "@jupyter-widgets/controls",
          "model_name": "FloatProgressModel",
          "state": {
            "_view_name": "ProgressView",
            "style": "IPY_MODEL_7b34089d724d4c1183338536979e4b0a",
            "_dom_classes": [],
            "description": "100%",
            "_model_name": "FloatProgressModel",
            "bar_style": "success",
            "max": 1989,
            "_view_module": "@jupyter-widgets/controls",
            "_model_module_version": "1.5.0",
            "value": 1989,
            "_view_count": null,
            "_view_module_version": "1.5.0",
            "orientation": "horizontal",
            "min": 0,
            "description_tooltip": null,
            "_model_module": "@jupyter-widgets/controls",
            "layout": "IPY_MODEL_063fec87f27a4bafb9790ad12eb3583c"
          }
        },
        "bb8b3f48c74044ceacab823d2d90826f": {
          "model_module": "@jupyter-widgets/controls",
          "model_name": "HTMLModel",
          "state": {
            "_view_name": "HTMLView",
            "style": "IPY_MODEL_6e57569b41f3475aaa32df9e4f59dece",
            "_dom_classes": [],
            "description": "",
            "_model_name": "HTMLModel",
            "placeholder": "​",
            "_view_module": "@jupyter-widgets/controls",
            "_model_module_version": "1.5.0",
            "value": " 1989/1989 [01:30&lt;00:00, 22.06it/s]",
            "_view_count": null,
            "_view_module_version": "1.5.0",
            "description_tooltip": null,
            "_model_module": "@jupyter-widgets/controls",
            "layout": "IPY_MODEL_86387fba54ad422c93547ded166692ba"
          }
        },
        "7b34089d724d4c1183338536979e4b0a": {
          "model_module": "@jupyter-widgets/controls",
          "model_name": "ProgressStyleModel",
          "state": {
            "_view_name": "StyleView",
            "_model_name": "ProgressStyleModel",
            "description_width": "initial",
            "_view_module": "@jupyter-widgets/base",
            "_model_module_version": "1.5.0",
            "_view_count": null,
            "_view_module_version": "1.2.0",
            "bar_color": null,
            "_model_module": "@jupyter-widgets/controls"
          }
        },
        "063fec87f27a4bafb9790ad12eb3583c": {
          "model_module": "@jupyter-widgets/base",
          "model_name": "LayoutModel",
          "state": {
            "_view_name": "LayoutView",
            "grid_template_rows": null,
            "right": null,
            "justify_content": null,
            "_view_module": "@jupyter-widgets/base",
            "overflow": null,
            "_model_module_version": "1.2.0",
            "_view_count": null,
            "flex_flow": null,
            "width": null,
            "min_width": null,
            "border": null,
            "align_items": null,
            "bottom": null,
            "_model_module": "@jupyter-widgets/base",
            "top": null,
            "grid_column": null,
            "overflow_y": null,
            "overflow_x": null,
            "grid_auto_flow": null,
            "grid_area": null,
            "grid_template_columns": null,
            "flex": null,
            "_model_name": "LayoutModel",
            "justify_items": null,
            "grid_row": null,
            "max_height": null,
            "align_content": null,
            "visibility": null,
            "align_self": null,
            "height": null,
            "min_height": null,
            "padding": null,
            "grid_auto_rows": null,
            "grid_gap": null,
            "max_width": null,
            "order": null,
            "_view_module_version": "1.2.0",
            "grid_template_areas": null,
            "object_position": null,
            "object_fit": null,
            "grid_auto_columns": null,
            "margin": null,
            "display": null,
            "left": null
          }
        },
        "6e57569b41f3475aaa32df9e4f59dece": {
          "model_module": "@jupyter-widgets/controls",
          "model_name": "DescriptionStyleModel",
          "state": {
            "_view_name": "StyleView",
            "_model_name": "DescriptionStyleModel",
            "description_width": "",
            "_view_module": "@jupyter-widgets/base",
            "_model_module_version": "1.5.0",
            "_view_count": null,
            "_view_module_version": "1.2.0",
            "_model_module": "@jupyter-widgets/controls"
          }
        },
        "86387fba54ad422c93547ded166692ba": {
          "model_module": "@jupyter-widgets/base",
          "model_name": "LayoutModel",
          "state": {
            "_view_name": "LayoutView",
            "grid_template_rows": null,
            "right": null,
            "justify_content": null,
            "_view_module": "@jupyter-widgets/base",
            "overflow": null,
            "_model_module_version": "1.2.0",
            "_view_count": null,
            "flex_flow": null,
            "width": null,
            "min_width": null,
            "border": null,
            "align_items": null,
            "bottom": null,
            "_model_module": "@jupyter-widgets/base",
            "top": null,
            "grid_column": null,
            "overflow_y": null,
            "overflow_x": null,
            "grid_auto_flow": null,
            "grid_area": null,
            "grid_template_columns": null,
            "flex": null,
            "_model_name": "LayoutModel",
            "justify_items": null,
            "grid_row": null,
            "max_height": null,
            "align_content": null,
            "visibility": null,
            "align_self": null,
            "height": null,
            "min_height": null,
            "padding": null,
            "grid_auto_rows": null,
            "grid_gap": null,
            "max_width": null,
            "order": null,
            "_view_module_version": "1.2.0",
            "grid_template_areas": null,
            "object_position": null,
            "object_fit": null,
            "grid_auto_columns": null,
            "margin": null,
            "display": null,
            "left": null
          }
        },
        "532db4d8b72d41c8b895c413710011b1": {
          "model_module": "@jupyter-widgets/controls",
          "model_name": "HBoxModel",
          "state": {
            "_view_name": "HBoxView",
            "_dom_classes": [],
            "_model_name": "HBoxModel",
            "_view_module": "@jupyter-widgets/controls",
            "_model_module_version": "1.5.0",
            "_view_count": null,
            "_view_module_version": "1.5.0",
            "box_style": "",
            "layout": "IPY_MODEL_5f35f6af13fc4e0a915f05a8bb026f37",
            "_model_module": "@jupyter-widgets/controls",
            "children": [
              "IPY_MODEL_7987f145aaa74d6caef59ee3b30efda6",
              "IPY_MODEL_44b568511aeb4416a8b5e48d2c50ccfd"
            ]
          }
        },
        "5f35f6af13fc4e0a915f05a8bb026f37": {
          "model_module": "@jupyter-widgets/base",
          "model_name": "LayoutModel",
          "state": {
            "_view_name": "LayoutView",
            "grid_template_rows": null,
            "right": null,
            "justify_content": null,
            "_view_module": "@jupyter-widgets/base",
            "overflow": null,
            "_model_module_version": "1.2.0",
            "_view_count": null,
            "flex_flow": null,
            "width": null,
            "min_width": null,
            "border": null,
            "align_items": null,
            "bottom": null,
            "_model_module": "@jupyter-widgets/base",
            "top": null,
            "grid_column": null,
            "overflow_y": null,
            "overflow_x": null,
            "grid_auto_flow": null,
            "grid_area": null,
            "grid_template_columns": null,
            "flex": null,
            "_model_name": "LayoutModel",
            "justify_items": null,
            "grid_row": null,
            "max_height": null,
            "align_content": null,
            "visibility": null,
            "align_self": null,
            "height": null,
            "min_height": null,
            "padding": null,
            "grid_auto_rows": null,
            "grid_gap": null,
            "max_width": null,
            "order": null,
            "_view_module_version": "1.2.0",
            "grid_template_areas": null,
            "object_position": null,
            "object_fit": null,
            "grid_auto_columns": null,
            "margin": null,
            "display": null,
            "left": null
          }
        },
        "7987f145aaa74d6caef59ee3b30efda6": {
          "model_module": "@jupyter-widgets/controls",
          "model_name": "FloatProgressModel",
          "state": {
            "_view_name": "ProgressView",
            "style": "IPY_MODEL_3cc7216284064e7cb825d29761a5c13a",
            "_dom_classes": [],
            "description": "100%",
            "_model_name": "FloatProgressModel",
            "bar_style": "success",
            "max": 93155,
            "_view_module": "@jupyter-widgets/controls",
            "_model_module_version": "1.5.0",
            "value": 93155,
            "_view_count": null,
            "_view_module_version": "1.5.0",
            "orientation": "horizontal",
            "min": 0,
            "description_tooltip": null,
            "_model_module": "@jupyter-widgets/controls",
            "layout": "IPY_MODEL_c5a470bc64d94c8d968b18be127a06fd"
          }
        },
        "44b568511aeb4416a8b5e48d2c50ccfd": {
          "model_module": "@jupyter-widgets/controls",
          "model_name": "HTMLModel",
          "state": {
            "_view_name": "HTMLView",
            "style": "IPY_MODEL_185084477f4d41bdb2c911dca0cff8ef",
            "_dom_classes": [],
            "description": "",
            "_model_name": "HTMLModel",
            "placeholder": "​",
            "_view_module": "@jupyter-widgets/controls",
            "_model_module_version": "1.5.0",
            "value": " 93155/93155 [00:01&lt;00:00, 56189.92it/s]",
            "_view_count": null,
            "_view_module_version": "1.5.0",
            "description_tooltip": null,
            "_model_module": "@jupyter-widgets/controls",
            "layout": "IPY_MODEL_d453ad7bc5aa42d792b923cee2fcd3ec"
          }
        },
        "3cc7216284064e7cb825d29761a5c13a": {
          "model_module": "@jupyter-widgets/controls",
          "model_name": "ProgressStyleModel",
          "state": {
            "_view_name": "StyleView",
            "_model_name": "ProgressStyleModel",
            "description_width": "initial",
            "_view_module": "@jupyter-widgets/base",
            "_model_module_version": "1.5.0",
            "_view_count": null,
            "_view_module_version": "1.2.0",
            "bar_color": null,
            "_model_module": "@jupyter-widgets/controls"
          }
        },
        "c5a470bc64d94c8d968b18be127a06fd": {
          "model_module": "@jupyter-widgets/base",
          "model_name": "LayoutModel",
          "state": {
            "_view_name": "LayoutView",
            "grid_template_rows": null,
            "right": null,
            "justify_content": null,
            "_view_module": "@jupyter-widgets/base",
            "overflow": null,
            "_model_module_version": "1.2.0",
            "_view_count": null,
            "flex_flow": null,
            "width": null,
            "min_width": null,
            "border": null,
            "align_items": null,
            "bottom": null,
            "_model_module": "@jupyter-widgets/base",
            "top": null,
            "grid_column": null,
            "overflow_y": null,
            "overflow_x": null,
            "grid_auto_flow": null,
            "grid_area": null,
            "grid_template_columns": null,
            "flex": null,
            "_model_name": "LayoutModel",
            "justify_items": null,
            "grid_row": null,
            "max_height": null,
            "align_content": null,
            "visibility": null,
            "align_self": null,
            "height": null,
            "min_height": null,
            "padding": null,
            "grid_auto_rows": null,
            "grid_gap": null,
            "max_width": null,
            "order": null,
            "_view_module_version": "1.2.0",
            "grid_template_areas": null,
            "object_position": null,
            "object_fit": null,
            "grid_auto_columns": null,
            "margin": null,
            "display": null,
            "left": null
          }
        },
        "185084477f4d41bdb2c911dca0cff8ef": {
          "model_module": "@jupyter-widgets/controls",
          "model_name": "DescriptionStyleModel",
          "state": {
            "_view_name": "StyleView",
            "_model_name": "DescriptionStyleModel",
            "description_width": "",
            "_view_module": "@jupyter-widgets/base",
            "_model_module_version": "1.5.0",
            "_view_count": null,
            "_view_module_version": "1.2.0",
            "_model_module": "@jupyter-widgets/controls"
          }
        },
        "d453ad7bc5aa42d792b923cee2fcd3ec": {
          "model_module": "@jupyter-widgets/base",
          "model_name": "LayoutModel",
          "state": {
            "_view_name": "LayoutView",
            "grid_template_rows": null,
            "right": null,
            "justify_content": null,
            "_view_module": "@jupyter-widgets/base",
            "overflow": null,
            "_model_module_version": "1.2.0",
            "_view_count": null,
            "flex_flow": null,
            "width": null,
            "min_width": null,
            "border": null,
            "align_items": null,
            "bottom": null,
            "_model_module": "@jupyter-widgets/base",
            "top": null,
            "grid_column": null,
            "overflow_y": null,
            "overflow_x": null,
            "grid_auto_flow": null,
            "grid_area": null,
            "grid_template_columns": null,
            "flex": null,
            "_model_name": "LayoutModel",
            "justify_items": null,
            "grid_row": null,
            "max_height": null,
            "align_content": null,
            "visibility": null,
            "align_self": null,
            "height": null,
            "min_height": null,
            "padding": null,
            "grid_auto_rows": null,
            "grid_gap": null,
            "max_width": null,
            "order": null,
            "_view_module_version": "1.2.0",
            "grid_template_areas": null,
            "object_position": null,
            "object_fit": null,
            "grid_auto_columns": null,
            "margin": null,
            "display": null,
            "left": null
          }
        },
        "40c8ab3a3ab34cfc97fee891415665b1": {
          "model_module": "@jupyter-widgets/controls",
          "model_name": "HBoxModel",
          "state": {
            "_view_name": "HBoxView",
            "_dom_classes": [],
            "_model_name": "HBoxModel",
            "_view_module": "@jupyter-widgets/controls",
            "_model_module_version": "1.5.0",
            "_view_count": null,
            "_view_module_version": "1.5.0",
            "box_style": "",
            "layout": "IPY_MODEL_1ed9bee56abf4f508782d30ac19ba4ef",
            "_model_module": "@jupyter-widgets/controls",
            "children": [
              "IPY_MODEL_57c467d5b04d47dd8297d17b9fa419aa",
              "IPY_MODEL_78bc328b265b41da9a8bf569b4ad8d32"
            ]
          }
        },
        "1ed9bee56abf4f508782d30ac19ba4ef": {
          "model_module": "@jupyter-widgets/base",
          "model_name": "LayoutModel",
          "state": {
            "_view_name": "LayoutView",
            "grid_template_rows": null,
            "right": null,
            "justify_content": null,
            "_view_module": "@jupyter-widgets/base",
            "overflow": null,
            "_model_module_version": "1.2.0",
            "_view_count": null,
            "flex_flow": null,
            "width": null,
            "min_width": null,
            "border": null,
            "align_items": null,
            "bottom": null,
            "_model_module": "@jupyter-widgets/base",
            "top": null,
            "grid_column": null,
            "overflow_y": null,
            "overflow_x": null,
            "grid_auto_flow": null,
            "grid_area": null,
            "grid_template_columns": null,
            "flex": null,
            "_model_name": "LayoutModel",
            "justify_items": null,
            "grid_row": null,
            "max_height": null,
            "align_content": null,
            "visibility": null,
            "align_self": null,
            "height": null,
            "min_height": null,
            "padding": null,
            "grid_auto_rows": null,
            "grid_gap": null,
            "max_width": null,
            "order": null,
            "_view_module_version": "1.2.0",
            "grid_template_areas": null,
            "object_position": null,
            "object_fit": null,
            "grid_auto_columns": null,
            "margin": null,
            "display": null,
            "left": null
          }
        },
        "57c467d5b04d47dd8297d17b9fa419aa": {
          "model_module": "@jupyter-widgets/controls",
          "model_name": "FloatProgressModel",
          "state": {
            "_view_name": "ProgressView",
            "style": "IPY_MODEL_359d9bd7a31b4a5dbf6d2fe9e159541c",
            "_dom_classes": [],
            "description": "100%",
            "_model_name": "FloatProgressModel",
            "bar_style": "success",
            "max": 40315,
            "_view_module": "@jupyter-widgets/controls",
            "_model_module_version": "1.5.0",
            "value": 40315,
            "_view_count": null,
            "_view_module_version": "1.5.0",
            "orientation": "horizontal",
            "min": 0,
            "description_tooltip": null,
            "_model_module": "@jupyter-widgets/controls",
            "layout": "IPY_MODEL_b8c6bdd7eab54068a757bcfd6f9d9554"
          }
        },
        "78bc328b265b41da9a8bf569b4ad8d32": {
          "model_module": "@jupyter-widgets/controls",
          "model_name": "HTMLModel",
          "state": {
            "_view_name": "HTMLView",
            "style": "IPY_MODEL_82543bda1c7e4fc09f2afd39effa9e65",
            "_dom_classes": [],
            "description": "",
            "_model_name": "HTMLModel",
            "placeholder": "​",
            "_view_module": "@jupyter-widgets/controls",
            "_model_module_version": "1.5.0",
            "value": " 40315/40315 [00:01&lt;00:00, 26431.92it/s]",
            "_view_count": null,
            "_view_module_version": "1.5.0",
            "description_tooltip": null,
            "_model_module": "@jupyter-widgets/controls",
            "layout": "IPY_MODEL_8772012cce404993ae80ad0fe770e7d9"
          }
        },
        "359d9bd7a31b4a5dbf6d2fe9e159541c": {
          "model_module": "@jupyter-widgets/controls",
          "model_name": "ProgressStyleModel",
          "state": {
            "_view_name": "StyleView",
            "_model_name": "ProgressStyleModel",
            "description_width": "initial",
            "_view_module": "@jupyter-widgets/base",
            "_model_module_version": "1.5.0",
            "_view_count": null,
            "_view_module_version": "1.2.0",
            "bar_color": null,
            "_model_module": "@jupyter-widgets/controls"
          }
        },
        "b8c6bdd7eab54068a757bcfd6f9d9554": {
          "model_module": "@jupyter-widgets/base",
          "model_name": "LayoutModel",
          "state": {
            "_view_name": "LayoutView",
            "grid_template_rows": null,
            "right": null,
            "justify_content": null,
            "_view_module": "@jupyter-widgets/base",
            "overflow": null,
            "_model_module_version": "1.2.0",
            "_view_count": null,
            "flex_flow": null,
            "width": null,
            "min_width": null,
            "border": null,
            "align_items": null,
            "bottom": null,
            "_model_module": "@jupyter-widgets/base",
            "top": null,
            "grid_column": null,
            "overflow_y": null,
            "overflow_x": null,
            "grid_auto_flow": null,
            "grid_area": null,
            "grid_template_columns": null,
            "flex": null,
            "_model_name": "LayoutModel",
            "justify_items": null,
            "grid_row": null,
            "max_height": null,
            "align_content": null,
            "visibility": null,
            "align_self": null,
            "height": null,
            "min_height": null,
            "padding": null,
            "grid_auto_rows": null,
            "grid_gap": null,
            "max_width": null,
            "order": null,
            "_view_module_version": "1.2.0",
            "grid_template_areas": null,
            "object_position": null,
            "object_fit": null,
            "grid_auto_columns": null,
            "margin": null,
            "display": null,
            "left": null
          }
        },
        "82543bda1c7e4fc09f2afd39effa9e65": {
          "model_module": "@jupyter-widgets/controls",
          "model_name": "DescriptionStyleModel",
          "state": {
            "_view_name": "StyleView",
            "_model_name": "DescriptionStyleModel",
            "description_width": "",
            "_view_module": "@jupyter-widgets/base",
            "_model_module_version": "1.5.0",
            "_view_count": null,
            "_view_module_version": "1.2.0",
            "_model_module": "@jupyter-widgets/controls"
          }
        },
        "8772012cce404993ae80ad0fe770e7d9": {
          "model_module": "@jupyter-widgets/base",
          "model_name": "LayoutModel",
          "state": {
            "_view_name": "LayoutView",
            "grid_template_rows": null,
            "right": null,
            "justify_content": null,
            "_view_module": "@jupyter-widgets/base",
            "overflow": null,
            "_model_module_version": "1.2.0",
            "_view_count": null,
            "flex_flow": null,
            "width": null,
            "min_width": null,
            "border": null,
            "align_items": null,
            "bottom": null,
            "_model_module": "@jupyter-widgets/base",
            "top": null,
            "grid_column": null,
            "overflow_y": null,
            "overflow_x": null,
            "grid_auto_flow": null,
            "grid_area": null,
            "grid_template_columns": null,
            "flex": null,
            "_model_name": "LayoutModel",
            "justify_items": null,
            "grid_row": null,
            "max_height": null,
            "align_content": null,
            "visibility": null,
            "align_self": null,
            "height": null,
            "min_height": null,
            "padding": null,
            "grid_auto_rows": null,
            "grid_gap": null,
            "max_width": null,
            "order": null,
            "_view_module_version": "1.2.0",
            "grid_template_areas": null,
            "object_position": null,
            "object_fit": null,
            "grid_auto_columns": null,
            "margin": null,
            "display": null,
            "left": null
          }
        },
        "f73d09d7c26e4d3fada38e236b1c4ea3": {
          "model_module": "@jupyter-widgets/controls",
          "model_name": "HBoxModel",
          "state": {
            "_view_name": "HBoxView",
            "_dom_classes": [],
            "_model_name": "HBoxModel",
            "_view_module": "@jupyter-widgets/controls",
            "_model_module_version": "1.5.0",
            "_view_count": null,
            "_view_module_version": "1.5.0",
            "box_style": "",
            "layout": "IPY_MODEL_ad5ac06287434b2d8a6d0809fbd4674a",
            "_model_module": "@jupyter-widgets/controls",
            "children": [
              "IPY_MODEL_75309cc7e1c0413a8a79126f35025134",
              "IPY_MODEL_d1319af495a54b0e970bad4f8a464740"
            ]
          }
        },
        "ad5ac06287434b2d8a6d0809fbd4674a": {
          "model_module": "@jupyter-widgets/base",
          "model_name": "LayoutModel",
          "state": {
            "_view_name": "LayoutView",
            "grid_template_rows": null,
            "right": null,
            "justify_content": null,
            "_view_module": "@jupyter-widgets/base",
            "overflow": null,
            "_model_module_version": "1.2.0",
            "_view_count": null,
            "flex_flow": null,
            "width": null,
            "min_width": null,
            "border": null,
            "align_items": null,
            "bottom": null,
            "_model_module": "@jupyter-widgets/base",
            "top": null,
            "grid_column": null,
            "overflow_y": null,
            "overflow_x": null,
            "grid_auto_flow": null,
            "grid_area": null,
            "grid_template_columns": null,
            "flex": null,
            "_model_name": "LayoutModel",
            "justify_items": null,
            "grid_row": null,
            "max_height": null,
            "align_content": null,
            "visibility": null,
            "align_self": null,
            "height": null,
            "min_height": null,
            "padding": null,
            "grid_auto_rows": null,
            "grid_gap": null,
            "max_width": null,
            "order": null,
            "_view_module_version": "1.2.0",
            "grid_template_areas": null,
            "object_position": null,
            "object_fit": null,
            "grid_auto_columns": null,
            "margin": null,
            "display": null,
            "left": null
          }
        },
        "75309cc7e1c0413a8a79126f35025134": {
          "model_module": "@jupyter-widgets/controls",
          "model_name": "FloatProgressModel",
          "state": {
            "_view_name": "ProgressView",
            "style": "IPY_MODEL_b3ab204047e94314a0480d1cbac58967",
            "_dom_classes": [],
            "description": "",
            "_model_name": "FloatProgressModel",
            "bar_style": "success",
            "max": 1,
            "_view_module": "@jupyter-widgets/controls",
            "_model_module_version": "1.5.0",
            "value": 1,
            "_view_count": null,
            "_view_module_version": "1.5.0",
            "orientation": "horizontal",
            "min": 0,
            "description_tooltip": null,
            "_model_module": "@jupyter-widgets/controls",
            "layout": "IPY_MODEL_64f778451626494a81bb2bfcac048647"
          }
        },
        "d1319af495a54b0e970bad4f8a464740": {
          "model_module": "@jupyter-widgets/controls",
          "model_name": "HTMLModel",
          "state": {
            "_view_name": "HTMLView",
            "style": "IPY_MODEL_c83554d8e9c243bf91c1c56c81fe31a7",
            "_dom_classes": [],
            "description": "",
            "_model_name": "HTMLModel",
            "placeholder": "​",
            "_view_module": "@jupyter-widgets/controls",
            "_model_module_version": "1.5.0",
            "value": " 40315/? [00:08&lt;00:00, 5010.05it/s]",
            "_view_count": null,
            "_view_module_version": "1.5.0",
            "description_tooltip": null,
            "_model_module": "@jupyter-widgets/controls",
            "layout": "IPY_MODEL_b0af494486774d2dabdc856cd20394e8"
          }
        },
        "b3ab204047e94314a0480d1cbac58967": {
          "model_module": "@jupyter-widgets/controls",
          "model_name": "ProgressStyleModel",
          "state": {
            "_view_name": "StyleView",
            "_model_name": "ProgressStyleModel",
            "description_width": "initial",
            "_view_module": "@jupyter-widgets/base",
            "_model_module_version": "1.5.0",
            "_view_count": null,
            "_view_module_version": "1.2.0",
            "bar_color": null,
            "_model_module": "@jupyter-widgets/controls"
          }
        },
        "64f778451626494a81bb2bfcac048647": {
          "model_module": "@jupyter-widgets/base",
          "model_name": "LayoutModel",
          "state": {
            "_view_name": "LayoutView",
            "grid_template_rows": null,
            "right": null,
            "justify_content": null,
            "_view_module": "@jupyter-widgets/base",
            "overflow": null,
            "_model_module_version": "1.2.0",
            "_view_count": null,
            "flex_flow": null,
            "width": null,
            "min_width": null,
            "border": null,
            "align_items": null,
            "bottom": null,
            "_model_module": "@jupyter-widgets/base",
            "top": null,
            "grid_column": null,
            "overflow_y": null,
            "overflow_x": null,
            "grid_auto_flow": null,
            "grid_area": null,
            "grid_template_columns": null,
            "flex": null,
            "_model_name": "LayoutModel",
            "justify_items": null,
            "grid_row": null,
            "max_height": null,
            "align_content": null,
            "visibility": null,
            "align_self": null,
            "height": null,
            "min_height": null,
            "padding": null,
            "grid_auto_rows": null,
            "grid_gap": null,
            "max_width": null,
            "order": null,
            "_view_module_version": "1.2.0",
            "grid_template_areas": null,
            "object_position": null,
            "object_fit": null,
            "grid_auto_columns": null,
            "margin": null,
            "display": null,
            "left": null
          }
        },
        "c83554d8e9c243bf91c1c56c81fe31a7": {
          "model_module": "@jupyter-widgets/controls",
          "model_name": "DescriptionStyleModel",
          "state": {
            "_view_name": "StyleView",
            "_model_name": "DescriptionStyleModel",
            "description_width": "",
            "_view_module": "@jupyter-widgets/base",
            "_model_module_version": "1.5.0",
            "_view_count": null,
            "_view_module_version": "1.2.0",
            "_model_module": "@jupyter-widgets/controls"
          }
        },
        "b0af494486774d2dabdc856cd20394e8": {
          "model_module": "@jupyter-widgets/base",
          "model_name": "LayoutModel",
          "state": {
            "_view_name": "LayoutView",
            "grid_template_rows": null,
            "right": null,
            "justify_content": null,
            "_view_module": "@jupyter-widgets/base",
            "overflow": null,
            "_model_module_version": "1.2.0",
            "_view_count": null,
            "flex_flow": null,
            "width": null,
            "min_width": null,
            "border": null,
            "align_items": null,
            "bottom": null,
            "_model_module": "@jupyter-widgets/base",
            "top": null,
            "grid_column": null,
            "overflow_y": null,
            "overflow_x": null,
            "grid_auto_flow": null,
            "grid_area": null,
            "grid_template_columns": null,
            "flex": null,
            "_model_name": "LayoutModel",
            "justify_items": null,
            "grid_row": null,
            "max_height": null,
            "align_content": null,
            "visibility": null,
            "align_self": null,
            "height": null,
            "min_height": null,
            "padding": null,
            "grid_auto_rows": null,
            "grid_gap": null,
            "max_width": null,
            "order": null,
            "_view_module_version": "1.2.0",
            "grid_template_areas": null,
            "object_position": null,
            "object_fit": null,
            "grid_auto_columns": null,
            "margin": null,
            "display": null,
            "left": null
          }
        }
      }
    }
  },
  "cells": [
    {
      "cell_type": "code",
      "metadata": {
        "id": "juR8oTrjFkRJ",
        "colab": {
          "base_uri": "https://localhost:8080/"
        },
        "outputId": "b94e1799-36c5-4b07-8da4-b60cd51bd309"
      },
      "source": [
        "!pip install pytorch-transformers\n",
        "!pip install pytorch_lightning"
      ],
      "execution_count": 1,
      "outputs": [
        {
          "output_type": "stream",
          "text": [
            "Collecting pytorch-transformers\n",
            "\u001b[?25l  Downloading https://files.pythonhosted.org/packages/a3/b7/d3d18008a67e0b968d1ab93ad444fc05699403fa662f634b2f2c318a508b/pytorch_transformers-1.2.0-py3-none-any.whl (176kB)\n",
            "\u001b[K     |████████████████████████████████| 184kB 8.6MB/s \n",
            "\u001b[?25hRequirement already satisfied: regex in /usr/local/lib/python3.7/dist-packages (from pytorch-transformers) (2019.12.20)\n",
            "Collecting sentencepiece\n",
            "\u001b[?25l  Downloading https://files.pythonhosted.org/packages/f5/99/e0808cb947ba10f575839c43e8fafc9cc44e4a7a2c8f79c60db48220a577/sentencepiece-0.1.95-cp37-cp37m-manylinux2014_x86_64.whl (1.2MB)\n",
            "\u001b[K     |████████████████████████████████| 1.2MB 38.1MB/s \n",
            "\u001b[?25hCollecting boto3\n",
            "\u001b[?25l  Downloading https://files.pythonhosted.org/packages/1e/c2/7091c0cbff9eeb4afb8ddf22ea2c5d6f27b0cfa5f207f5106b647b6614f4/boto3-1.17.88-py2.py3-none-any.whl (131kB)\n",
            "\u001b[K     |████████████████████████████████| 133kB 45.9MB/s \n",
            "\u001b[?25hCollecting sacremoses\n",
            "\u001b[?25l  Downloading https://files.pythonhosted.org/packages/75/ee/67241dc87f266093c533a2d4d3d69438e57d7a90abb216fa076e7d475d4a/sacremoses-0.0.45-py3-none-any.whl (895kB)\n",
            "\u001b[K     |████████████████████████████████| 901kB 28.6MB/s \n",
            "\u001b[?25hRequirement already satisfied: requests in /usr/local/lib/python3.7/dist-packages (from pytorch-transformers) (2.23.0)\n",
            "Requirement already satisfied: tqdm in /usr/local/lib/python3.7/dist-packages (from pytorch-transformers) (4.41.1)\n",
            "Requirement already satisfied: numpy in /usr/local/lib/python3.7/dist-packages (from pytorch-transformers) (1.19.5)\n",
            "Requirement already satisfied: torch>=1.0.0 in /usr/local/lib/python3.7/dist-packages (from pytorch-transformers) (1.8.1+cu101)\n",
            "Collecting jmespath<1.0.0,>=0.7.1\n",
            "  Downloading https://files.pythonhosted.org/packages/07/cb/5f001272b6faeb23c1c9e0acc04d48eaaf5c862c17709d20e3469c6e0139/jmespath-0.10.0-py2.py3-none-any.whl\n",
            "Collecting s3transfer<0.5.0,>=0.4.0\n",
            "\u001b[?25l  Downloading https://files.pythonhosted.org/packages/63/d0/693477c688348654ddc21dcdce0817653a294aa43f41771084c25e7ff9c7/s3transfer-0.4.2-py2.py3-none-any.whl (79kB)\n",
            "\u001b[K     |████████████████████████████████| 81kB 10.9MB/s \n",
            "\u001b[?25hCollecting botocore<1.21.0,>=1.20.88\n",
            "\u001b[?25l  Downloading https://files.pythonhosted.org/packages/d8/d9/a22d370aba7cc0b454614f440f38c592b806c1903a451c8665811b4f58ad/botocore-1.20.88-py2.py3-none-any.whl (7.6MB)\n",
            "\u001b[K     |████████████████████████████████| 7.6MB 27.6MB/s \n",
            "\u001b[?25hRequirement already satisfied: click in /usr/local/lib/python3.7/dist-packages (from sacremoses->pytorch-transformers) (7.1.2)\n",
            "Requirement already satisfied: joblib in /usr/local/lib/python3.7/dist-packages (from sacremoses->pytorch-transformers) (1.0.1)\n",
            "Requirement already satisfied: six in /usr/local/lib/python3.7/dist-packages (from sacremoses->pytorch-transformers) (1.15.0)\n",
            "Requirement already satisfied: urllib3!=1.25.0,!=1.25.1,<1.26,>=1.21.1 in /usr/local/lib/python3.7/dist-packages (from requests->pytorch-transformers) (1.24.3)\n",
            "Requirement already satisfied: chardet<4,>=3.0.2 in /usr/local/lib/python3.7/dist-packages (from requests->pytorch-transformers) (3.0.4)\n",
            "Requirement already satisfied: certifi>=2017.4.17 in /usr/local/lib/python3.7/dist-packages (from requests->pytorch-transformers) (2020.12.5)\n",
            "Requirement already satisfied: idna<3,>=2.5 in /usr/local/lib/python3.7/dist-packages (from requests->pytorch-transformers) (2.10)\n",
            "Requirement already satisfied: typing-extensions in /usr/local/lib/python3.7/dist-packages (from torch>=1.0.0->pytorch-transformers) (3.7.4.3)\n",
            "Requirement already satisfied: python-dateutil<3.0.0,>=2.1 in /usr/local/lib/python3.7/dist-packages (from botocore<1.21.0,>=1.20.88->boto3->pytorch-transformers) (2.8.1)\n",
            "\u001b[31mERROR: botocore 1.20.88 has requirement urllib3<1.27,>=1.25.4, but you'll have urllib3 1.24.3 which is incompatible.\u001b[0m\n",
            "Installing collected packages: sentencepiece, jmespath, botocore, s3transfer, boto3, sacremoses, pytorch-transformers\n",
            "Successfully installed boto3-1.17.88 botocore-1.20.88 jmespath-0.10.0 pytorch-transformers-1.2.0 s3transfer-0.4.2 sacremoses-0.0.45 sentencepiece-0.1.95\n",
            "Collecting pytorch_lightning\n",
            "\u001b[?25l  Downloading https://files.pythonhosted.org/packages/94/3d/af3ea8cbd7c3cbb2b50d667062e70980ff56b50b835caf2c80e5da33a1ef/pytorch_lightning-1.3.4-py3-none-any.whl (806kB)\n",
            "\u001b[K     |████████████████████████████████| 808kB 7.5MB/s \n",
            "\u001b[?25hRequirement already satisfied: tqdm>=4.41.0 in /usr/local/lib/python3.7/dist-packages (from pytorch_lightning) (4.41.1)\n",
            "Collecting pyDeprecate==0.3.0\n",
            "  Downloading https://files.pythonhosted.org/packages/14/52/aa227a0884df71ed1957649085adf2b8bc2a1816d037c2f18b3078854516/pyDeprecate-0.3.0-py3-none-any.whl\n",
            "Collecting torchmetrics>=0.2.0\n",
            "\u001b[?25l  Downloading https://files.pythonhosted.org/packages/3b/e8/513cd9d0b1c83dc14cd8f788d05cd6a34758d4fd7e4f9e5ecd5d7d599c95/torchmetrics-0.3.2-py3-none-any.whl (274kB)\n",
            "\u001b[K     |████████████████████████████████| 276kB 44.9MB/s \n",
            "\u001b[?25hRequirement already satisfied: numpy>=1.17.2 in /usr/local/lib/python3.7/dist-packages (from pytorch_lightning) (1.19.5)\n",
            "Requirement already satisfied: torch>=1.4 in /usr/local/lib/python3.7/dist-packages (from pytorch_lightning) (1.8.1+cu101)\n",
            "Collecting PyYAML<=5.4.1,>=5.1\n",
            "\u001b[?25l  Downloading https://files.pythonhosted.org/packages/7a/a5/393c087efdc78091afa2af9f1378762f9821c9c1d7a22c5753fb5ac5f97a/PyYAML-5.4.1-cp37-cp37m-manylinux1_x86_64.whl (636kB)\n",
            "\u001b[K     |████████████████████████████████| 645kB 45.1MB/s \n",
            "\u001b[?25hCollecting fsspec[http]>=2021.4.0\n",
            "\u001b[?25l  Downloading https://files.pythonhosted.org/packages/bc/52/816d1a3a599176057bf29dfacb1f8fadb61d35fbd96cb1bab4aaa7df83c0/fsspec-2021.5.0-py3-none-any.whl (111kB)\n",
            "\u001b[K     |████████████████████████████████| 112kB 55.9MB/s \n",
            "\u001b[?25hRequirement already satisfied: packaging in /usr/local/lib/python3.7/dist-packages (from pytorch_lightning) (20.9)\n",
            "Collecting future>=0.17.1\n",
            "\u001b[?25l  Downloading https://files.pythonhosted.org/packages/45/0b/38b06fd9b92dc2b68d58b75f900e97884c45bedd2ff83203d933cf5851c9/future-0.18.2.tar.gz (829kB)\n",
            "\u001b[K     |████████████████████████████████| 829kB 47.5MB/s \n",
            "\u001b[?25hCollecting tensorboard!=2.5.0,>=2.2.0\n",
            "\u001b[?25l  Downloading https://files.pythonhosted.org/packages/64/21/eebd23060763fedeefb78bc2b286e00fa1d8abda6f70efa2ee08c28af0d4/tensorboard-2.4.1-py3-none-any.whl (10.6MB)\n",
            "\u001b[K     |████████████████████████████████| 10.6MB 35.8MB/s \n",
            "\u001b[?25hRequirement already satisfied: typing-extensions in /usr/local/lib/python3.7/dist-packages (from torch>=1.4->pytorch_lightning) (3.7.4.3)\n",
            "Collecting aiohttp; extra == \"http\"\n",
            "\u001b[?25l  Downloading https://files.pythonhosted.org/packages/88/c0/5890b4c8b04a79b7360e8fe4490feb0bb3ab179743f199f0e6220cebd568/aiohttp-3.7.4.post0-cp37-cp37m-manylinux2014_x86_64.whl (1.3MB)\n",
            "\u001b[K     |████████████████████████████████| 1.3MB 36.9MB/s \n",
            "\u001b[?25hRequirement already satisfied: requests; extra == \"http\" in /usr/local/lib/python3.7/dist-packages (from fsspec[http]>=2021.4.0->pytorch_lightning) (2.23.0)\n",
            "Requirement already satisfied: pyparsing>=2.0.2 in /usr/local/lib/python3.7/dist-packages (from packaging->pytorch_lightning) (2.4.7)\n",
            "Requirement already satisfied: google-auth-oauthlib<0.5,>=0.4.1 in /usr/local/lib/python3.7/dist-packages (from tensorboard!=2.5.0,>=2.2.0->pytorch_lightning) (0.4.4)\n",
            "Requirement already satisfied: markdown>=2.6.8 in /usr/local/lib/python3.7/dist-packages (from tensorboard!=2.5.0,>=2.2.0->pytorch_lightning) (3.3.4)\n",
            "Requirement already satisfied: grpcio>=1.24.3 in /usr/local/lib/python3.7/dist-packages (from tensorboard!=2.5.0,>=2.2.0->pytorch_lightning) (1.34.1)\n",
            "Requirement already satisfied: tensorboard-plugin-wit>=1.6.0 in /usr/local/lib/python3.7/dist-packages (from tensorboard!=2.5.0,>=2.2.0->pytorch_lightning) (1.8.0)\n",
            "Requirement already satisfied: six>=1.10.0 in /usr/local/lib/python3.7/dist-packages (from tensorboard!=2.5.0,>=2.2.0->pytorch_lightning) (1.15.0)\n",
            "Requirement already satisfied: wheel>=0.26; python_version >= \"3\" in /usr/local/lib/python3.7/dist-packages (from tensorboard!=2.5.0,>=2.2.0->pytorch_lightning) (0.36.2)\n",
            "Requirement already satisfied: werkzeug>=0.11.15 in /usr/local/lib/python3.7/dist-packages (from tensorboard!=2.5.0,>=2.2.0->pytorch_lightning) (1.0.1)\n",
            "Requirement already satisfied: protobuf>=3.6.0 in /usr/local/lib/python3.7/dist-packages (from tensorboard!=2.5.0,>=2.2.0->pytorch_lightning) (3.12.4)\n",
            "Requirement already satisfied: setuptools>=41.0.0 in /usr/local/lib/python3.7/dist-packages (from tensorboard!=2.5.0,>=2.2.0->pytorch_lightning) (57.0.0)\n",
            "Requirement already satisfied: google-auth<2,>=1.6.3 in /usr/local/lib/python3.7/dist-packages (from tensorboard!=2.5.0,>=2.2.0->pytorch_lightning) (1.30.0)\n",
            "Requirement already satisfied: absl-py>=0.4 in /usr/local/lib/python3.7/dist-packages (from tensorboard!=2.5.0,>=2.2.0->pytorch_lightning) (0.12.0)\n",
            "Requirement already satisfied: attrs>=17.3.0 in /usr/local/lib/python3.7/dist-packages (from aiohttp; extra == \"http\"->fsspec[http]>=2021.4.0->pytorch_lightning) (21.2.0)\n",
            "Collecting async-timeout<4.0,>=3.0\n",
            "  Downloading https://files.pythonhosted.org/packages/e1/1e/5a4441be21b0726c4464f3f23c8b19628372f606755a9d2e46c187e65ec4/async_timeout-3.0.1-py3-none-any.whl\n",
            "Requirement already satisfied: chardet<5.0,>=2.0 in /usr/local/lib/python3.7/dist-packages (from aiohttp; extra == \"http\"->fsspec[http]>=2021.4.0->pytorch_lightning) (3.0.4)\n",
            "Collecting multidict<7.0,>=4.5\n",
            "\u001b[?25l  Downloading https://files.pythonhosted.org/packages/7c/a6/4123b8165acbe773d1a8dc8e3f0d1edea16d29f7de018eda769abb56bd30/multidict-5.1.0-cp37-cp37m-manylinux2014_x86_64.whl (142kB)\n",
            "\u001b[K     |████████████████████████████████| 143kB 56.1MB/s \n",
            "\u001b[?25hCollecting yarl<2.0,>=1.0\n",
            "\u001b[?25l  Downloading https://files.pythonhosted.org/packages/f1/62/046834c5fc998c88ab2ef722f5d42122230a632212c8afa76418324f53ff/yarl-1.6.3-cp37-cp37m-manylinux2014_x86_64.whl (294kB)\n",
            "\u001b[K     |████████████████████████████████| 296kB 52.1MB/s \n",
            "\u001b[?25hRequirement already satisfied: certifi>=2017.4.17 in /usr/local/lib/python3.7/dist-packages (from requests; extra == \"http\"->fsspec[http]>=2021.4.0->pytorch_lightning) (2020.12.5)\n",
            "Requirement already satisfied: idna<3,>=2.5 in /usr/local/lib/python3.7/dist-packages (from requests; extra == \"http\"->fsspec[http]>=2021.4.0->pytorch_lightning) (2.10)\n",
            "Requirement already satisfied: urllib3!=1.25.0,!=1.25.1,<1.26,>=1.21.1 in /usr/local/lib/python3.7/dist-packages (from requests; extra == \"http\"->fsspec[http]>=2021.4.0->pytorch_lightning) (1.24.3)\n",
            "Requirement already satisfied: requests-oauthlib>=0.7.0 in /usr/local/lib/python3.7/dist-packages (from google-auth-oauthlib<0.5,>=0.4.1->tensorboard!=2.5.0,>=2.2.0->pytorch_lightning) (1.3.0)\n",
            "Requirement already satisfied: importlib-metadata; python_version < \"3.8\" in /usr/local/lib/python3.7/dist-packages (from markdown>=2.6.8->tensorboard!=2.5.0,>=2.2.0->pytorch_lightning) (4.0.1)\n",
            "Requirement already satisfied: cachetools<5.0,>=2.0.0 in /usr/local/lib/python3.7/dist-packages (from google-auth<2,>=1.6.3->tensorboard!=2.5.0,>=2.2.0->pytorch_lightning) (4.2.2)\n",
            "Requirement already satisfied: pyasn1-modules>=0.2.1 in /usr/local/lib/python3.7/dist-packages (from google-auth<2,>=1.6.3->tensorboard!=2.5.0,>=2.2.0->pytorch_lightning) (0.2.8)\n",
            "Requirement already satisfied: rsa<5,>=3.1.4; python_version >= \"3.6\" in /usr/local/lib/python3.7/dist-packages (from google-auth<2,>=1.6.3->tensorboard!=2.5.0,>=2.2.0->pytorch_lightning) (4.7.2)\n",
            "Requirement already satisfied: oauthlib>=3.0.0 in /usr/local/lib/python3.7/dist-packages (from requests-oauthlib>=0.7.0->google-auth-oauthlib<0.5,>=0.4.1->tensorboard!=2.5.0,>=2.2.0->pytorch_lightning) (3.1.0)\n",
            "Requirement already satisfied: zipp>=0.5 in /usr/local/lib/python3.7/dist-packages (from importlib-metadata; python_version < \"3.8\"->markdown>=2.6.8->tensorboard!=2.5.0,>=2.2.0->pytorch_lightning) (3.4.1)\n",
            "Requirement already satisfied: pyasn1<0.5.0,>=0.4.6 in /usr/local/lib/python3.7/dist-packages (from pyasn1-modules>=0.2.1->google-auth<2,>=1.6.3->tensorboard!=2.5.0,>=2.2.0->pytorch_lightning) (0.4.8)\n",
            "Building wheels for collected packages: future\n",
            "  Building wheel for future (setup.py) ... \u001b[?25l\u001b[?25hdone\n",
            "  Created wheel for future: filename=future-0.18.2-cp37-none-any.whl size=491070 sha256=cbf57818f13c4c7974722575b49471ef2f880aa877387a75e01b5ee2027fe89f\n",
            "  Stored in directory: /root/.cache/pip/wheels/8b/99/a0/81daf51dcd359a9377b110a8a886b3895921802d2fc1b2397e\n",
            "Successfully built future\n",
            "\u001b[31mERROR: tensorflow 2.5.0 has requirement tensorboard~=2.5, but you'll have tensorboard 2.4.1 which is incompatible.\u001b[0m\n",
            "Installing collected packages: pyDeprecate, torchmetrics, PyYAML, async-timeout, multidict, yarl, aiohttp, fsspec, future, tensorboard, pytorch-lightning\n",
            "  Found existing installation: PyYAML 3.13\n",
            "    Uninstalling PyYAML-3.13:\n",
            "      Successfully uninstalled PyYAML-3.13\n",
            "  Found existing installation: future 0.16.0\n",
            "    Uninstalling future-0.16.0:\n",
            "      Successfully uninstalled future-0.16.0\n",
            "  Found existing installation: tensorboard 2.5.0\n",
            "    Uninstalling tensorboard-2.5.0:\n",
            "      Successfully uninstalled tensorboard-2.5.0\n",
            "Successfully installed PyYAML-5.4.1 aiohttp-3.7.4.post0 async-timeout-3.0.1 fsspec-2021.5.0 future-0.18.2 multidict-5.1.0 pyDeprecate-0.3.0 pytorch-lightning-1.3.4 tensorboard-2.4.1 torchmetrics-0.3.2 yarl-1.6.3\n"
          ],
          "name": "stdout"
        }
      ]
    },
    {
      "cell_type": "code",
      "metadata": {
        "id": "HciKEta5FICW",
        "colab": {
          "base_uri": "https://localhost:8080/"
        },
        "outputId": "e2760d92-da2d-4c93-843f-798885604702"
      },
      "source": [
        "!git clone https://github.com/shauli-ravfogel/nullspace_projection.git"
      ],
      "execution_count": 2,
      "outputs": [
        {
          "output_type": "stream",
          "text": [
            "Cloning into 'nullspace_projection'...\n",
            "remote: Enumerating objects: 1168, done.\u001b[K\n",
            "remote: Counting objects: 100% (252/252), done.\u001b[K\n",
            "remote: Compressing objects: 100% (225/225), done.\u001b[K\n",
            "remote: Total 1168 (delta 148), reused 54 (delta 27), pack-reused 916\u001b[K\n",
            "Receiving objects: 100% (1168/1168), 19.71 MiB | 18.95 MiB/s, done.\n",
            "Resolving deltas: 100% (654/654), done.\n"
          ],
          "name": "stdout"
        }
      ]
    },
    {
      "cell_type": "code",
      "metadata": {
        "id": "aaXGkVjgFOki",
        "colab": {
          "base_uri": "https://localhost:8080/"
        },
        "outputId": "6eb158e6-5452-4419-a455-73a8ab6f8674"
      },
      "source": [
        "cd nullspace_projection/notebooks/"
      ],
      "execution_count": 3,
      "outputs": [
        {
          "output_type": "stream",
          "text": [
            "/content/nullspace_projection/notebooks\n"
          ],
          "name": "stdout"
        }
      ]
    },
    {
      "cell_type": "code",
      "metadata": {
        "id": "SHhO-IHGFlo0",
        "colab": {
          "base_uri": "https://localhost:8080/"
        },
        "outputId": "01434b45-4df1-467d-e6e2-dcc815bf9cc7"
      },
      "source": [
        "cd /content/nullspace_projection"
      ],
      "execution_count": 4,
      "outputs": [
        {
          "output_type": "stream",
          "text": [
            "/content/nullspace_projection\n"
          ],
          "name": "stdout"
        }
      ]
    },
    {
      "cell_type": "code",
      "metadata": {
        "id": "Z7q94K9WKUBP",
        "colab": {
          "base_uri": "https://localhost:8080/"
        },
        "outputId": "a6ab20df-e31d-4e7e-e427-84d7f1543793"
      },
      "source": [
        "!git clone https://github.com/assemzh/NullitOut.git"
      ],
      "execution_count": 5,
      "outputs": [
        {
          "output_type": "stream",
          "text": [
            "Cloning into 'NullitOut'...\n",
            "remote: Enumerating objects: 58, done.\u001b[K\n",
            "remote: Counting objects: 100% (58/58), done.\u001b[K\n",
            "remote: Compressing objects: 100% (52/52), done.\u001b[K\n",
            "remote: Total 58 (delta 9), reused 37 (delta 3), pack-reused 0\u001b[K\n",
            "Unpacking objects: 100% (58/58), done.\n"
          ],
          "name": "stdout"
        }
      ]
    },
    {
      "cell_type": "code",
      "metadata": {
        "id": "QvqYh4U2s-Cr"
      },
      "source": [
        "mkdir data/toxicity"
      ],
      "execution_count": 6,
      "outputs": []
    },
    {
      "cell_type": "code",
      "metadata": {
        "id": "S2FfMR6qE910"
      },
      "source": [
        "%load_ext autoreload\n",
        "%autoreload 2\n",
        "# sys.path.append(\"../src\")\n",
        "# sys.path.append(\"../data/embeddings\")\n",
        "# sys.path.append(\"../data/biasbios\")\n",
        "# sys.path.append(\"../data/embeddings/biasbios\")\n",
        "import sys\n",
        "import src.classifier\n",
        "import NullitOut.debias\n",
        "import gensim\n",
        "import codecs\n",
        "import json\n",
        "from gensim.models.keyedvectors import Word2VecKeyedVectors\n",
        "from gensim.models import KeyedVectors\n",
        "import numpy as np\n",
        "import random\n",
        "import sklearn\n",
        "from sklearn import model_selection\n",
        "from sklearn import cluster\n",
        "from sklearn import metrics\n",
        "from sklearn.manifold import TSNE\n",
        "from sklearn.svm import LinearSVC, SVC\n",
        "from sklearn.neural_network import MLPClassifier\n",
        "from sklearn.metrics.pairwise import cosine_similarity\n",
        "from sklearn.feature_extraction import DictVectorizer\n",
        "from pytorch_transformers import BertTokenizer, BertModel, BertForMaskedLM\n",
        "\n",
        "import scipy\n",
        "from scipy import linalg\n",
        "from scipy import sparse\n",
        "from scipy.stats.stats import pearsonr\n",
        "import tqdm\n",
        "import matplotlib\n",
        "import matplotlib.pyplot as plt\n",
        "from sklearn.linear_model import SGDClassifier, SGDRegressor, Perceptron, LogisticRegression\n",
        "from sklearn.utils import shuffle\n",
        "\n",
        "%matplotlib inline\n",
        "matplotlib.rcParams['agg.path.chunksize'] = 10000\n",
        "\n",
        "import warnings\n",
        "warnings.filterwarnings(\"ignore\")\n",
        "\n",
        "import csv\n",
        "from collections import defaultdict, Counter\n",
        "from typing import List, Dict\n",
        "\n",
        "import torch\n",
        "from torch import utils\n",
        "\n",
        "import pytorch_lightning as pl\n",
        "from pytorch_lightning import Trainer\n",
        "import copy\n",
        "import pandas as pd\n",
        "from gensim.models import FastText\n",
        "import time\n",
        "from gensim.scripts.glove2word2vec import glove2word2vec\n",
        "\n",
        "STOPWORDS = set([\"i\", \"me\", \"my\", \"myself\", \"we\", \"our\", \"ours\", \"ourselves\", \"you\", \"your\", \"yours\", \"yourself\", \"yourselves\", \"he\", \"him\", \"his\", \"himself\", \"she\", \"her\", \"hers\", \"herself\", \"it\", \"its\", \"itself\", \"they\", \"them\", \"their\", \"theirs\", \"themselves\", \"what\", \"which\", \"who\", \"whom\", \"this\", \"that\", \"these\", \"those\", \"am\", \"is\", \"are\", \"was\", \"were\", \"be\", \"been\", \"being\", \"have\", \"has\", \"had\", \"having\", \"do\", \"does\", \"did\", \"doing\", \"a\", \"an\", \"the\", \"and\", \"but\", \"if\", \"or\", \"because\", \"as\", \"until\", \"while\", \"of\", \"at\", \"by\", \"for\", \"with\", \"about\", \"against\", \"between\", \"into\", \"through\", \"during\", \"before\", \"after\", \"above\", \"below\", \"to\", \"from\", \"up\", \"down\", \"in\", \"out\", \"on\", \"off\", \"over\", \"under\", \"again\", \"further\", \"then\", \"once\", \"here\", \"there\", \"when\", \"where\", \"why\", \"how\", \"all\", \"any\", \"both\", \"each\", \"few\", \"more\", \"most\", \"other\", \"some\", \"such\", \"no\", \"nor\", \"not\", \"only\", \"own\", \"same\", \"so\", \"than\", \"too\", \"very\", \"s\", \"t\", \"can\", \"will\", \"just\", \"don\", \"should\", \"now\"])"
      ],
      "execution_count": 7,
      "outputs": []
    },
    {
      "cell_type": "code",
      "metadata": {
        "id": "7RbFPe8UG5_O",
        "colab": {
          "base_uri": "https://localhost:8080/"
        },
        "outputId": "1022e127-2c31-4747-b97c-de57a1f1e43c"
      },
      "source": [
        "! wget https://dl.fbaipublicfiles.com/fasttext/vectors-english/crawl-300d-2M.vec.zip -P data/embeddings/\n",
        "# ! wget http://nlp.stanford.edu/data/glove.42B.300d.zip -P data/embeddings/                \n",
        "# ! unzip data/embeddings/glove.42B.300d.zip -d data/embeddings/ "
      ],
      "execution_count": 8,
      "outputs": [
        {
          "output_type": "stream",
          "text": [
            "--2021-06-06 04:18:25--  https://dl.fbaipublicfiles.com/fasttext/vectors-english/crawl-300d-2M.vec.zip\n",
            "Resolving dl.fbaipublicfiles.com (dl.fbaipublicfiles.com)... 172.67.9.4, 104.22.75.142, 104.22.74.142, ...\n",
            "Connecting to dl.fbaipublicfiles.com (dl.fbaipublicfiles.com)|172.67.9.4|:443... connected.\n",
            "HTTP request sent, awaiting response... 200 OK\n",
            "Length: 1523785255 (1.4G) [application/zip]\n",
            "Saving to: ‘data/embeddings/crawl-300d-2M.vec.zip’\n",
            "\n",
            "crawl-300d-2M.vec.z 100%[===================>]   1.42G  46.7MB/s    in 31s     \n",
            "\n",
            "2021-06-06 04:18:57 (46.8 MB/s) - ‘data/embeddings/crawl-300d-2M.vec.zip’ saved [1523785255/1523785255]\n",
            "\n"
          ],
          "name": "stdout"
        }
      ]
    },
    {
      "cell_type": "code",
      "metadata": {
        "id": "E_EOG1p4Pbij",
        "colab": {
          "base_uri": "https://localhost:8080/"
        },
        "outputId": "62be59d1-29ff-41d4-8fc9-36d85f10479c"
      },
      "source": [
        "!unzip data/embeddings/crawl-300d-2M.vec.zip -d data/embeddings/"
      ],
      "execution_count": 9,
      "outputs": [
        {
          "output_type": "stream",
          "text": [
            "Archive:  data/embeddings/crawl-300d-2M.vec.zip\n",
            "  inflating: data/embeddings/crawl-300d-2M.vec  \n"
          ],
          "name": "stdout"
        }
      ]
    },
    {
      "cell_type": "code",
      "metadata": {
        "id": "pAwfpuZlE91_"
      },
      "source": [
        "\n",
        "\n",
        "def load_dataset(path):\n",
        "    \n",
        "    with open(path, \"r\") as f:\n",
        "        reader = csv.DictReader(f)\n",
        "        data = list(reader)\n",
        "    return data\n",
        "\n",
        "def load_dictionary(path):\n",
        "    \n",
        "    with open(path, \"r\", encoding = \"utf-8\") as f:\n",
        "        \n",
        "        lines = f.readlines()\n",
        "        \n",
        "    k2v, v2k = {}, {}\n",
        "    for line in lines:\n",
        "        \n",
        "        k,v = line.strip().split(\"\\t\")\n",
        "        v = int(v)\n",
        "        k2v[k] = v\n",
        "        v2k[v] = k\n",
        "    \n",
        "    return k2v, v2k\n",
        "    \n",
        "def count_profs_and_gender(data: List[dict]):\n",
        "    \n",
        "    counter = defaultdict(Counter)\n",
        "    for entry in data:\n",
        "        gender, prof = entry[\"label_race\"], entry[\"toxicity\"]\n",
        "        counter[prof][gender] += 1\n",
        "        \n",
        "    return counter\n"
      ],
      "execution_count": 10,
      "outputs": []
    },
    {
      "cell_type": "markdown",
      "metadata": {
        "id": "Gkaq5hBvnL2J"
      },
      "source": [
        "# Train embeddings"
      ]
    },
    {
      "cell_type": "code",
      "metadata": {
        "id": "GFLZmAs7E92B"
      },
      "source": [
        "all_train = load_dataset(\"/content/nullspace_projection/NullitOut/race/train_race.csv\")"
      ],
      "execution_count": 13,
      "outputs": []
    },
    {
      "cell_type": "code",
      "metadata": {
        "colab": {
          "base_uri": "https://localhost:8080/"
        },
        "id": "tZgPF5nrfrUw",
        "outputId": "ad30e11a-4374-40a2-915f-cbe3d0e080fe"
      },
      "source": [
        "import math\n",
        "random.shuffle(all_train)\n",
        "train_len = math.ceil(len(all_train)*0.8)\n",
        "dev_len = math.ceil(len(all_train)*0.1)\n",
        "test_len = len(all_train) - train_len - dev_len\n",
        "print (train_len,dev_len,test_len)\n",
        "\n",
        "train = all_train[:train_len]\n",
        "dev = all_train[train_len:train_len+dev_len]\n",
        "test = all_train[train_len+dev_len:]\n",
        "print (len(train),len(dev),len(test))"
      ],
      "execution_count": 14,
      "outputs": [
        {
          "output_type": "stream",
          "text": [
            "15916 1990 1989\n",
            "15916 1990 1989\n"
          ],
          "name": "stdout"
        }
      ]
    },
    {
      "cell_type": "code",
      "metadata": {
        "colab": {
          "base_uri": "https://localhost:8080/"
        },
        "id": "z81lheBufp_4",
        "outputId": "4af56be1-5026-41a6-b1da-81d9b882b130"
      },
      "source": [
        "# p2i, i2p = load_dictionary(\"/content/nullspace_projection/data/biasbios/profession2index.txt\")\n",
        "# g2i, i2g = load_dictionary(\"/content/nullspace_projection/data/biasbios/gender2index.txt\")\n",
        "g2i = dict()\n",
        "g2i['white'] = 0\n",
        "g2i['black'] = 1\n",
        "g2i['asian'] = 2\n",
        "g2i['latino'] = 3\n",
        "g2i['other_race_or_ethnicity'] = 4\n",
        "i2g = dict()\n",
        "i2g[0] = 'white'\n",
        "i2g[1] = 'black'\n",
        "i2g[2] = 'asian'\n",
        "i2g[3] = 'latino'\n",
        "i2g[4] = 'other_race_or_ethnicity'\n",
        "print(g2i,i2g)\n",
        "\n",
        "t2i = dict()\n",
        "t2i['toxic'] = 1\n",
        "t2i['non-toxic'] = 0\n",
        "i2t = dict()\n",
        "i2t[0] = 'non-toxic'\n",
        "i2t[1] = 'toxic'\n",
        "print(t2i,i2t)\n"
      ],
      "execution_count": 15,
      "outputs": [
        {
          "output_type": "stream",
          "text": [
            "{'white': 0, 'black': 1, 'asian': 2, 'latino': 3, 'other_race_or_ethnicity': 4} {0: 'white', 1: 'black', 2: 'asian', 3: 'latino', 4: 'other_race_or_ethnicity'}\n",
            "{'toxic': 1, 'non-toxic': 0} {0: 'non-toxic', 1: 'toxic'}\n"
          ],
          "name": "stdout"
        }
      ]
    },
    {
      "cell_type": "code",
      "metadata": {
        "colab": {
          "base_uri": "https://localhost:8080/"
        },
        "id": "7I4G_jdPhbOz",
        "outputId": "55e36ed2-6008-4e47-cb79-b6c2644c0836"
      },
      "source": [
        "counter = count_profs_and_gender(train+dev+test)\n",
        "print(counter)"
      ],
      "execution_count": 16,
      "outputs": [
        {
          "output_type": "stream",
          "text": [
            "defaultdict(<class 'collections.Counter'>, {'toxic': Counter({'white': 10244, 'black': 4409, 'asian': 519, 'latino': 175, 'other_race_or_ethnicity': 7}), 'non-toxic': Counter({'white': 2842, 'black': 945, 'asian': 595, 'latino': 157, 'other_race_or_ethnicity': 2})})\n"
          ],
          "name": "stdout"
        }
      ]
    },
    {
      "cell_type": "code",
      "metadata": {
        "id": "49IYgCakE92F"
      },
      "source": [
        "# counter = count_profs_and_gender(train+dev+test)\n",
        "# f,m,t = 0., 0., 0.\n",
        "# tox2fem = dict()\n",
        "\n",
        "# for k, values in counter.items():\n",
        "#     print(k, values)\n",
        "#     f += values['female']\n",
        "#     m += values['male']\n",
        "#     t += values['transgender']\n",
        "#     divisor = (values['female'] + values['male'] + values['transgender'])\n",
        "#     if divisor != 0:\n",
        "#       tox2fem[k] = values['female']/divisor\n",
        "#     else:\n",
        "#       tox2fem[k] = 0\n",
        "# print(f / (f + m + t))\n",
        "# print(tox2fem)"
      ],
      "execution_count": 17,
      "outputs": []
    },
    {
      "cell_type": "markdown",
      "metadata": {
        "id": "hfZal5K9E92G"
      },
      "source": [
        "### Get input representatons "
      ]
    },
    {
      "cell_type": "code",
      "metadata": {
        "id": "lUNWgIcKE92H"
      },
      "source": [
        "\n",
        "def load_word_vectors(fname):\n",
        "    \n",
        "    model = KeyedVectors.load_word2vec_format(fname, binary=False)\n",
        "    vecs = model.vectors\n",
        "    words = list(model.vocab.keys())\n",
        "    return model, vecs, words\n",
        "\n",
        "\n",
        "def get_embeddings_based_dataset(data: List[dict], word2vec_model, t2i, filter_stopwords = False):\n",
        "    \n",
        "    X, Y = [], []\n",
        "    unk, total = 0., 0.\n",
        "    unknown = []\n",
        "    vocab_counter = Counter()\n",
        "    \n",
        "    for entry in tqdm.tqdm_notebook(data, total = len(data)):\n",
        "        \n",
        "        y = t2i[entry[\"toxicity\"]]\n",
        "        words = entry[\"comment_text\"].split(\" \")\n",
        "        if filter_stopwords:\n",
        "            words = [w for w in words if w.lower() not in STOPWORDS]\n",
        "            \n",
        "        vocab_counter.update(words) \n",
        "        bagofwords = np.sum([word2vec_model[w] if w in word2vec_model else word2vec_model[\"unk\"] for w in words], axis = 0)\n",
        "        #print(bagofwords.shape)\n",
        "        X.append(bagofwords)\n",
        "        Y.append(y)\n",
        "        total += len(words)\n",
        "        \n",
        "        unknown_entry = [w for w in words if w not in word2vec_model]\n",
        "        unknown.extend(unknown_entry)\n",
        "        unk += len(unknown_entry)\n",
        "    \n",
        "    X = np.array(X)\n",
        "    Y = np.array(Y)\n",
        "    print(\"% unknown: {}\".format(unk/total))\n",
        "    return X,Y,unknown,vocab_counter\n",
        "\n"
      ],
      "execution_count": 18,
      "outputs": []
    },
    {
      "cell_type": "code",
      "metadata": {
        "id": "fUB9pOEYE92H"
      },
      "source": [
        "word2vec, vecs, words = load_word_vectors(\"/content/nullspace_projection/data/embeddings/crawl-300d-2M.vec\")"
      ],
      "execution_count": 19,
      "outputs": []
    },
    {
      "cell_type": "code",
      "metadata": {
        "colab": {
          "base_uri": "https://localhost:8080/"
        },
        "id": "-MFWRDbtNdKB",
        "outputId": "8ad5e285-9faf-440a-bb06-3b1446ead07b"
      },
      "source": [
        "train[0]"
      ],
      "execution_count": 20,
      "outputs": [
        {
          "output_type": "execute_result",
          "data": {
            "text/plain": [
              "OrderedDict([('id', '5003877'),\n",
              "             ('comment_text',\n",
              "              'The melting pot never existed. It was a fantasy to make white people feel good about themselves. Black people have been here longer than most white families. We have never been allowed to melt in, by law and practice.'),\n",
              "             ('toxicity', 'toxic'),\n",
              "             ('label_race', 'white')])"
            ]
          },
          "metadata": {
            "tags": []
          },
          "execution_count": 20
        }
      ]
    },
    {
      "cell_type": "code",
      "metadata": {
        "colab": {
          "base_uri": "https://localhost:8080/",
          "height": 217,
          "referenced_widgets": [
            "604d147c7d0d44d2adbabf091c222f16",
            "7fed3b9f638f4b06b8c0e24d4e7d3cc0",
            "191c87339e00429798bbc2e72302e064",
            "3314b698d75f49b08e91f0d96de0a1ca",
            "ed87196ab8fa469794f3f80d51decf1a",
            "e38d094ab4f24aecb91c9eb972372d09",
            "93bcf7af95af4aac97be7f92529c2056",
            "d79424ebe4ac4a2581ce2f8cde3f13e6",
            "71d572bb3114434abdbb2e886024b013",
            "569dd92d40d14548a0537ff07f6218d7",
            "043b43b70e0a48938208595dcfa67379",
            "255d1163146e415dae672c4dd665231a",
            "dd73c75ed92e480db2f4c03721b4b0b6",
            "7045db3ed4804ee9a929011593327707",
            "45715c956ed0406fa290d25f354a1f84",
            "fdd43e0c47db4861aa7ac3445e56a147",
            "5a97e5f2a04743a883eb37e418f0c0b7",
            "e81426b91b44452eb9d597acf19d6ffd",
            "56e718392d6247f0b1c67c518acab803",
            "bb8b3f48c74044ceacab823d2d90826f",
            "7b34089d724d4c1183338536979e4b0a",
            "063fec87f27a4bafb9790ad12eb3583c",
            "6e57569b41f3475aaa32df9e4f59dece",
            "86387fba54ad422c93547ded166692ba"
          ]
        },
        "id": "usWGyzeQE92H",
        "outputId": "1f04cf63-0644-4cea-f2b0-275f4d8e10ae"
      },
      "source": [
        "X_train, Y_train, unknown_train, vocab_counter_train = get_embeddings_based_dataset(train, word2vec, t2i)\n",
        "X_dev, Y_dev, unknown_dev, vocab_counter_dev =  get_embeddings_based_dataset(dev, word2vec, t2i)\n",
        "X_test, Y_test, unknown_test, vocab_counter_test =  get_embeddings_based_dataset(test, word2vec, t2i)\n"
      ],
      "execution_count": 21,
      "outputs": [
        {
          "output_type": "display_data",
          "data": {
            "application/vnd.jupyter.widget-view+json": {
              "model_id": "604d147c7d0d44d2adbabf091c222f16",
              "version_minor": 0,
              "version_major": 2
            },
            "text/plain": [
              "HBox(children=(FloatProgress(value=0.0, max=15916.0), HTML(value='')))"
            ]
          },
          "metadata": {
            "tags": []
          }
        },
        {
          "output_type": "stream",
          "text": [
            "\n",
            "% unknown: 0.1171029058335154\n"
          ],
          "name": "stdout"
        },
        {
          "output_type": "display_data",
          "data": {
            "application/vnd.jupyter.widget-view+json": {
              "model_id": "71d572bb3114434abdbb2e886024b013",
              "version_minor": 0,
              "version_major": 2
            },
            "text/plain": [
              "HBox(children=(FloatProgress(value=0.0, max=1990.0), HTML(value='')))"
            ]
          },
          "metadata": {
            "tags": []
          }
        },
        {
          "output_type": "stream",
          "text": [
            "\n",
            "% unknown: 0.11615512628762824\n"
          ],
          "name": "stdout"
        },
        {
          "output_type": "display_data",
          "data": {
            "application/vnd.jupyter.widget-view+json": {
              "model_id": "5a97e5f2a04743a883eb37e418f0c0b7",
              "version_minor": 0,
              "version_major": 2
            },
            "text/plain": [
              "HBox(children=(FloatProgress(value=0.0, max=1989.0), HTML(value='')))"
            ]
          },
          "metadata": {
            "tags": []
          }
        },
        {
          "output_type": "stream",
          "text": [
            "\n",
            "% unknown: 0.11835354720465417\n"
          ],
          "name": "stdout"
        }
      ]
    },
    {
      "cell_type": "code",
      "metadata": {
        "id": "k2D63FlrW1x1"
      },
      "source": [
        "train_embeddings = np.array([X_train, Y_train, unknown_train, vocab_counter_train])\n",
        "np.save('/content/nullspace_projection/NullitOut/race/race_train_embeddings.npy', train_embeddings)\n",
        "dev_embeddings = np.array([X_dev, Y_dev, unknown_dev, vocab_counter_dev])\n",
        "np.save('/content/nullspace_projection/NullitOut/race/race_dev_embeddings.npy', dev_embeddings)\n",
        "test_embeddings = np.array([X_test, Y_test, unknown_test, vocab_counter_test])\n",
        "np.save('/content/nullspace_projection/NullitOut/race/race_test_embeddings.npy', test_embeddings)"
      ],
      "execution_count": 30,
      "outputs": []
    },
    {
      "cell_type": "markdown",
      "metadata": {
        "id": "H-3hNXyOX8AG"
      },
      "source": [
        "# Run with pre-trained Embeddings"
      ]
    },
    {
      "cell_type": "code",
      "metadata": {
        "id": "DqFCPqS4XSaj"
      },
      "source": [
        "train_arr = np.load('/content/nullspace_projection/NullitOut/race/race_train_embeddings.npy', allow_pickle=True)\n",
        "X_train, Y_train, unknown_train, vocab_counter_train = train_arr[0], train_arr[1], train_arr[2], train_arr[3]\n",
        "dev_arr = np.load('/content/nullspace_projection/NullitOut/race/race_dev_embeddings.npy',allow_pickle=True)\n",
        "X_dev, Y_dev, unknown_dev, vocab_counter_dev = dev_arr[0], dev_arr[1], dev_arr[2], dev_arr[3]\n",
        "test_arr = np.load('/content/nullspace_projection/NullitOut/race/race_test_embeddings.npy',allow_pickle=True)\n",
        "X_test, Y_test, unknown_test, vocab_counter_test = test_arr[0], test_arr[1], test_arr[2], test_arr[3]"
      ],
      "execution_count": 31,
      "outputs": []
    },
    {
      "cell_type": "code",
      "metadata": {
        "colab": {
          "base_uri": "https://localhost:8080/",
          "height": 183,
          "referenced_widgets": [
            "532db4d8b72d41c8b895c413710011b1",
            "5f35f6af13fc4e0a915f05a8bb026f37",
            "7987f145aaa74d6caef59ee3b30efda6",
            "44b568511aeb4416a8b5e48d2c50ccfd",
            "3cc7216284064e7cb825d29761a5c13a",
            "c5a470bc64d94c8d968b18be127a06fd",
            "185084477f4d41bdb2c911dca0cff8ef",
            "d453ad7bc5aa42d792b923cee2fcd3ec",
            "40c8ab3a3ab34cfc97fee891415665b1",
            "1ed9bee56abf4f508782d30ac19ba4ef",
            "57c467d5b04d47dd8297d17b9fa419aa",
            "78bc328b265b41da9a8bf569b4ad8d32",
            "359d9bd7a31b4a5dbf6d2fe9e159541c",
            "b8c6bdd7eab54068a757bcfd6f9d9554",
            "82543bda1c7e4fc09f2afd39effa9e65",
            "8772012cce404993ae80ad0fe770e7d9",
            "f73d09d7c26e4d3fada38e236b1c4ea3",
            "ad5ac06287434b2d8a6d0809fbd4674a",
            "75309cc7e1c0413a8a79126f35025134",
            "d1319af495a54b0e970bad4f8a464740",
            "b3ab204047e94314a0480d1cbac58967",
            "64f778451626494a81bb2bfcac048647",
            "c83554d8e9c243bf91c1c56c81fe31a7",
            "b0af494486774d2dabdc856cd20394e8"
          ]
        },
        "id": "tpUV5iDWE92I",
        "outputId": "2a485286-2862-45e2-a49a-88d6cc44f5cc"
      },
      "source": [
        "def save_in_word2vec_format(vecs: np.ndarray, words: np.ndarray, fname: str):\n",
        "\n",
        "\n",
        "    with open(fname, \"w\", encoding = \"utf-8\") as f:\n",
        "\n",
        "        f.write(str(len(vecs)) + \" \" + \"300\" + \"\\n\")\n",
        "        for i, (v,w) in tqdm.tqdm_notebook(enumerate(zip(vecs, words))):\n",
        "\n",
        "            vec_as_str = \" \".join([str(x) for x in v])\n",
        "            f.write(w + \" \" + vec_as_str + \"\\n\")\n",
        "\n",
        "\n",
        "vocab_bios, _ = list(zip(*vocab_counter_train.most_common(120000)))\n",
        "words_set = set(words)\n",
        "vocab_bios = [w for w in tqdm.tqdm_notebook(vocab_bios) if w in words_set]\n",
        "vecs_for_vocab = np.array([word2vec[w] for w in tqdm.tqdm_notebook(vocab_bios)])\n",
        "print(\"here\")\n",
        "save_in_word2vec_format(vecs_for_vocab, vocab_bios, \"vecs.vocab.bios.txt\")\n",
        "word2vec_bios, _, _ = load_word_vectors(\"vecs.vocab.bios.txt\")"
      ],
      "execution_count": 32,
      "outputs": [
        {
          "output_type": "display_data",
          "data": {
            "application/vnd.jupyter.widget-view+json": {
              "model_id": "532db4d8b72d41c8b895c413710011b1",
              "version_minor": 0,
              "version_major": 2
            },
            "text/plain": [
              "HBox(children=(FloatProgress(value=0.0, max=93155.0), HTML(value='')))"
            ]
          },
          "metadata": {
            "tags": []
          }
        },
        {
          "output_type": "stream",
          "text": [
            "\n"
          ],
          "name": "stdout"
        },
        {
          "output_type": "display_data",
          "data": {
            "application/vnd.jupyter.widget-view+json": {
              "model_id": "40c8ab3a3ab34cfc97fee891415665b1",
              "version_minor": 0,
              "version_major": 2
            },
            "text/plain": [
              "HBox(children=(FloatProgress(value=0.0, max=40315.0), HTML(value='')))"
            ]
          },
          "metadata": {
            "tags": []
          }
        },
        {
          "output_type": "stream",
          "text": [
            "\n",
            "here\n"
          ],
          "name": "stdout"
        },
        {
          "output_type": "display_data",
          "data": {
            "application/vnd.jupyter.widget-view+json": {
              "model_id": "f73d09d7c26e4d3fada38e236b1c4ea3",
              "version_minor": 0,
              "version_major": 2
            },
            "text/plain": [
              "HBox(children=(FloatProgress(value=1.0, bar_style='info', max=1.0), HTML(value='')))"
            ]
          },
          "metadata": {
            "tags": []
          }
        },
        {
          "output_type": "stream",
          "text": [
            "\n"
          ],
          "name": "stdout"
        }
      ]
    },
    {
      "cell_type": "code",
      "metadata": {
        "colab": {
          "base_uri": "https://localhost:8080/"
        },
        "id": "NHUhS5DqE92J",
        "outputId": "39eda0c9-08f1-482c-db60-223289c1873f"
      },
      "source": [
        "\n",
        "print(\"len train: {}; len dev: {}; len test: {}\".format(len(train), len(dev), len(test)))\n",
        "mean_train = np.mean(X_train, axis = 0, keepdims = True)\n",
        "mean_dev = np.mean(X_dev, axis = 0, keepdims = True)\n",
        "mean_test = np.mean(X_test, axis = 0, keepdims = True)\n",
        "\n",
        "#X_train -= mean_train\n",
        "#X_dev -= mean_dev\n",
        "#X_test -= mean_test"
      ],
      "execution_count": 33,
      "outputs": [
        {
          "output_type": "stream",
          "text": [
            "len train: 15916; len dev: 1990; len test: 1989\n"
          ],
          "name": "stdout"
        }
      ]
    },
    {
      "cell_type": "markdown",
      "metadata": {
        "id": "rjwU_prNE92J"
      },
      "source": [
        "## Classify by toxicity\n"
      ]
    },
    {
      "cell_type": "code",
      "metadata": {
        "scrolled": false,
        "colab": {
          "base_uri": "https://localhost:8080/"
        },
        "id": "Vkjqi0s6E92K",
        "outputId": "d6e0d3c8-5c2e-48d8-9db8-fe2b2aa7c982"
      },
      "source": [
        "#clf = LinearSVC(max_iter = 10) #LogisticRegression()\n",
        "#clf = SGDClassifier(warm_start = True, loss = 'log', n_jobs = 64, max_iter = 250, random_state = 0)\n",
        "\n",
        "clf = LogisticRegression(warm_start = True, penalty = 'l2',\n",
        "                         solver = \"sag\", fit_intercept = True,\n",
        "                         verbose = 10, max_iter = 5, n_jobs = 64, random_state = 1)\n",
        "# clf = SGDClassifier(loss= 'log', max_iter= 3000, fit_intercept= True, class_weight= None, n_jobs= 100)\n",
        "# clf = LinearSVC(max_iter = 50) #LogisticRegression()\n",
        "\n",
        "start = time.time()\n",
        "idx = np.random.rand(X_train.shape[0]) < 1.0\n",
        "clf.fit(X_train[idx], Y_train[idx])\n",
        "print(\"time: {}\".format(time.time() - start))\n",
        "print(clf.score(X_dev, Y_dev))\n",
        "print(clf.score(X_test, Y_test))\n",
        "clf_original = copy.deepcopy(clf)"
      ],
      "execution_count": 34,
      "outputs": [
        {
          "output_type": "stream",
          "text": [
            "[Parallel(n_jobs=64)]: Using backend ThreadingBackend with 64 concurrent workers.\n"
          ],
          "name": "stderr"
        },
        {
          "output_type": "stream",
          "text": [
            "max_iter reached after 0 seconds\n",
            "time: 0.36262059211730957\n",
            "0.7748743718592965\n",
            "0.7838109602815485\n"
          ],
          "name": "stdout"
        },
        {
          "output_type": "stream",
          "text": [
            "[Parallel(n_jobs=64)]: Done   1 tasks      | elapsed:    0.2s\n",
            "[Parallel(n_jobs=64)]: Done   1 out of   1 | elapsed:    0.2s finished\n"
          ],
          "name": "stderr"
        }
      ]
    },
    {
      "cell_type": "code",
      "metadata": {
        "colab": {
          "base_uri": "https://localhost:8080/"
        },
        "id": "StJvhqNXE92K",
        "outputId": "731eb822-5467-4472-a2ed-93ae62aca450"
      },
      "source": [
        "print(clf.score(X_test, Y_test))\n"
      ],
      "execution_count": 35,
      "outputs": [
        {
          "output_type": "stream",
          "text": [
            "0.7838109602815485\n"
          ],
          "name": "stdout"
        }
      ]
    },
    {
      "cell_type": "markdown",
      "metadata": {
        "id": "Ph8OyOKVE92L"
      },
      "source": [
        "### Perform debiasing"
      ]
    },
    {
      "cell_type": "code",
      "metadata": {
        "colab": {
          "base_uri": "https://localhost:8080/",
          "height": 35
        },
        "id": "omZmkz7bdUds",
        "outputId": "108f5a0e-dd29-4584-811b-37cdf9c6628b"
      },
      "source": [
        "pwd"
      ],
      "execution_count": 36,
      "outputs": [
        {
          "output_type": "execute_result",
          "data": {
            "application/vnd.google.colaboratory.intrinsic+json": {
              "type": "string"
            },
            "text/plain": [
              "'/content/nullspace_projection'"
            ]
          },
          "metadata": {
            "tags": []
          },
          "execution_count": 36
        }
      ]
    },
    {
      "cell_type": "code",
      "metadata": {
        "id": "Olc-1HajO459"
      },
      "source": [
        "import NullitOut.debias  as debias"
      ],
      "execution_count": 38,
      "outputs": []
    },
    {
      "cell_type": "code",
      "metadata": {
        "scrolled": true,
        "id": "4PALEgqKE92L",
        "colab": {
          "base_uri": "https://localhost:8080/"
        },
        "outputId": "cf4a79e0-fdcd-44f9-9a05-1345d1090842"
      },
      "source": [
        "def get_projection_matrix(num_clfs, X_train, Y_train, X_dev, Y_dev, Y_train_task, Y_dev_task, dim, all_data_prob, by_class = False):\n",
        "\n",
        "    is_autoregressive = True\n",
        "    min_acc = 0.\n",
        "    dim = 300\n",
        "    n = num_clfs\n",
        "    random_subset = 1\n",
        "    start = time.time()\n",
        "    TYPE= \"logistic\"\n",
        "    penalty = \"l2\"\n",
        "    MLP = False\n",
        "    \n",
        "    if MLP:\n",
        "        x_train_gender = np.matmul(X_train, clf.coefs_[0]) + clf.intercepts_[0]\n",
        "        x_dev_gender = np.matmul(X_dev, clf.coefs_[0]) + clf.intercepts_[0]\n",
        "    else:\n",
        "        x_train_gender = X_train.copy()\n",
        "        x_dev_gender = X_dev.copy()\n",
        "        \n",
        "    \n",
        "    if TYPE == \"sgd\":\n",
        "        print(\"using sgd\")\n",
        "        gender_clf = SGDClassifier\n",
        "        params = {'alpha': 0.01, 'penalty': penalty, 'loss': 'hinge', 'fit_intercept': True, 'class_weight': \"balanced\", 'n_jobs': 16}\n",
        "    elif TYPE == \"svm\":\n",
        "        gender_clf = LinearSVC\n",
        "        params = {'fit_intercept': True, 'C': 0.3, 'class_weight': None, \"dual\": False}\n",
        "    elif TYPE == \"perceptron\":\n",
        "        gender_clf = Perceptron\n",
        "        params = {'max_iter': 1000, 'fit_intercept': True, 'class_weight': None}\n",
        "    elif TYPE == \"logistic\":\n",
        "        gender_clf = LogisticRegression\n",
        "        params = {}\n",
        "        \n",
        "    result = debias.get_debiasing_projection(gender_clf, params, n, dim, is_autoregressive, min_acc,\n",
        "                                              x_train_gender, Y_train, x_dev_gender, Y_dev,\n",
        "                                       Y_train_main=Y_train_task, Y_dev_main=Y_dev_task, \n",
        "                                        by_class = by_class, X_test=X_test, Y_test=Y_test)\n",
        "    print(\"time: {}\".format(time.time() - start))\n",
        "    return result\n",
        "\n",
        "# was c=0.15, num_clfs=130\n",
        "num_clfs = 15\n",
        "Y_dev_gender = np.array([g2i[d[\"label_race\"]] for d in dev])\n",
        "Y_test_gender = np.array([g2i[d[\"label_race\"]] for d in test])\n",
        "Y_train_gender = np.array([g2i[d[\"label_race\"]] for d in train])\n",
        "P, rowspace_projs, Ws, accuracies, toxicity_accuracies, predictions = get_projection_matrix(num_clfs, X_train, Y_train_gender, X_dev, Y_dev_gender, Y_train, Y_dev, 300, 0.0, by_class= True)\n",
        "\n"
      ],
      "execution_count": 60,
      "outputs": [
        {
          "output_type": "stream",
          "text": [
            "iteration: 0, accuracy: 0.7894736842105263:   0%|          | 0/15 [00:00<?, ?it/s][Parallel(n_jobs=64)]: Using backend ThreadingBackend with 64 concurrent workers.\n",
            "[Parallel(n_jobs=64)]: Done   1 tasks      | elapsed:    0.5s\n",
            "[Parallel(n_jobs=64)]: Done   1 out of   1 | elapsed:    0.5s finished\n",
            "iteration: 0, accuracy: 0.7894736842105263:   7%|▋         | 1/15 [00:01<00:25,  1.79s/it]"
          ],
          "name": "stderr"
        },
        {
          "output_type": "stream",
          "text": [
            "max_iter reached after 1 seconds\n"
          ],
          "name": "stdout"
        },
        {
          "output_type": "stream",
          "text": [
            "iteration: 1, accuracy: 0.6425438596491229:   7%|▋         | 1/15 [00:02<00:25,  1.79s/it][Parallel(n_jobs=64)]: Using backend ThreadingBackend with 64 concurrent workers.\n",
            "[Parallel(n_jobs=64)]: Done   1 tasks      | elapsed:    0.5s\n",
            "[Parallel(n_jobs=64)]: Done   1 out of   1 | elapsed:    0.5s finished\n",
            "iteration: 1, accuracy: 0.6425438596491229:  13%|█▎        | 2/15 [00:03<00:23,  1.81s/it]"
          ],
          "name": "stderr"
        },
        {
          "output_type": "stream",
          "text": [
            "max_iter reached after 1 seconds\n"
          ],
          "name": "stdout"
        },
        {
          "output_type": "stream",
          "text": [
            "iteration: 2, accuracy: 0.6228070175438597:  13%|█▎        | 2/15 [00:04<00:23,  1.81s/it][Parallel(n_jobs=64)]: Using backend ThreadingBackend with 64 concurrent workers.\n",
            "[Parallel(n_jobs=64)]: Done   1 tasks      | elapsed:    0.5s\n",
            "[Parallel(n_jobs=64)]: Done   1 out of   1 | elapsed:    0.5s finished\n",
            "iteration: 2, accuracy: 0.6228070175438597:  20%|██        | 3/15 [00:05<00:21,  1.80s/it]"
          ],
          "name": "stderr"
        },
        {
          "output_type": "stream",
          "text": [
            "max_iter reached after 0 seconds\n"
          ],
          "name": "stdout"
        },
        {
          "output_type": "stream",
          "text": [
            "iteration: 3, accuracy: 0.6096491228070176:  20%|██        | 3/15 [00:06<00:21,  1.80s/it][Parallel(n_jobs=64)]: Using backend ThreadingBackend with 64 concurrent workers.\n",
            "[Parallel(n_jobs=64)]: Done   1 tasks      | elapsed:    0.5s\n",
            "[Parallel(n_jobs=64)]: Done   1 out of   1 | elapsed:    0.5s finished\n",
            "iteration: 3, accuracy: 0.6096491228070176:  27%|██▋       | 4/15 [00:07<00:19,  1.82s/it]"
          ],
          "name": "stderr"
        },
        {
          "output_type": "stream",
          "text": [
            "max_iter reached after 0 seconds\n"
          ],
          "name": "stdout"
        },
        {
          "output_type": "stream",
          "text": [
            "iteration: 4, accuracy: 0.618421052631579:  27%|██▋       | 4/15 [00:08<00:19,  1.82s/it] [Parallel(n_jobs=64)]: Using backend ThreadingBackend with 64 concurrent workers.\n",
            "[Parallel(n_jobs=64)]: Done   1 tasks      | elapsed:    0.5s\n",
            "[Parallel(n_jobs=64)]: Done   1 out of   1 | elapsed:    0.5s finished\n",
            "iteration: 4, accuracy: 0.618421052631579:  33%|███▎      | 5/15 [00:09<00:18,  1.82s/it]"
          ],
          "name": "stderr"
        },
        {
          "output_type": "stream",
          "text": [
            "max_iter reached after 0 seconds\n"
          ],
          "name": "stdout"
        },
        {
          "output_type": "stream",
          "text": [
            "iteration: 5, accuracy: 0.6779661016949152:  33%|███▎      | 5/15 [00:11<00:18,  1.82s/it][Parallel(n_jobs=64)]: Using backend ThreadingBackend with 64 concurrent workers.\n",
            "[Parallel(n_jobs=64)]: Done   1 tasks      | elapsed:    0.5s\n",
            "[Parallel(n_jobs=64)]: Done   1 out of   1 | elapsed:    0.5s finished\n",
            "iteration: 5, accuracy: 0.6779661016949152:  40%|████      | 6/15 [00:12<00:21,  2.33s/it]"
          ],
          "name": "stderr"
        },
        {
          "output_type": "stream",
          "text": [
            "max_iter reached after 1 seconds\n"
          ],
          "name": "stdout"
        },
        {
          "output_type": "stream",
          "text": [
            "iteration: 6, accuracy: 0.6030701754385965:  40%|████      | 6/15 [00:13<00:21,  2.33s/it][Parallel(n_jobs=64)]: Using backend ThreadingBackend with 64 concurrent workers.\n",
            "[Parallel(n_jobs=64)]: Done   1 tasks      | elapsed:    0.5s\n",
            "[Parallel(n_jobs=64)]: Done   1 out of   1 | elapsed:    0.5s finished\n",
            "iteration: 6, accuracy: 0.6030701754385965:  47%|████▋     | 7/15 [00:14<00:17,  2.20s/it]"
          ],
          "name": "stderr"
        },
        {
          "output_type": "stream",
          "text": [
            "max_iter reached after 1 seconds\n"
          ],
          "name": "stdout"
        },
        {
          "output_type": "stream",
          "text": [
            "iteration: 7, accuracy: 0.5942982456140351:  47%|████▋     | 7/15 [00:15<00:17,  2.20s/it][Parallel(n_jobs=64)]: Using backend ThreadingBackend with 64 concurrent workers.\n",
            "[Parallel(n_jobs=64)]: Done   1 tasks      | elapsed:    0.5s\n",
            "[Parallel(n_jobs=64)]: Done   1 out of   1 | elapsed:    0.5s finished\n",
            "iteration: 7, accuracy: 0.5942982456140351:  53%|█████▎    | 8/15 [00:16<00:14,  2.08s/it]"
          ],
          "name": "stderr"
        },
        {
          "output_type": "stream",
          "text": [
            "max_iter reached after 0 seconds\n"
          ],
          "name": "stdout"
        },
        {
          "output_type": "stream",
          "text": [
            "iteration: 8, accuracy: 0.6008771929824561:  53%|█████▎    | 8/15 [00:17<00:14,  2.08s/it][Parallel(n_jobs=64)]: Using backend ThreadingBackend with 64 concurrent workers.\n",
            "[Parallel(n_jobs=64)]: Done   1 tasks      | elapsed:    0.5s\n",
            "[Parallel(n_jobs=64)]: Done   1 out of   1 | elapsed:    0.5s finished\n",
            "iteration: 8, accuracy: 0.6008771929824561:  60%|██████    | 9/15 [00:18<00:11,  1.99s/it]"
          ],
          "name": "stderr"
        },
        {
          "output_type": "stream",
          "text": [
            "max_iter reached after 0 seconds\n"
          ],
          "name": "stdout"
        },
        {
          "output_type": "stream",
          "text": [
            "iteration: 9, accuracy: 0.6030701754385965:  60%|██████    | 9/15 [00:19<00:11,  1.99s/it][Parallel(n_jobs=64)]: Using backend ThreadingBackend with 64 concurrent workers.\n",
            "[Parallel(n_jobs=64)]: Done   1 tasks      | elapsed:    0.5s\n",
            "[Parallel(n_jobs=64)]: Done   1 out of   1 | elapsed:    0.5s finished\n",
            "iteration: 9, accuracy: 0.6030701754385965:  67%|██████▋   | 10/15 [00:19<00:09,  1.94s/it]"
          ],
          "name": "stderr"
        },
        {
          "output_type": "stream",
          "text": [
            "max_iter reached after 0 seconds\n"
          ],
          "name": "stdout"
        },
        {
          "output_type": "stream",
          "text": [
            "iteration: 10, accuracy: 0.6074561403508771:  67%|██████▋   | 10/15 [00:20<00:09,  1.94s/it][Parallel(n_jobs=64)]: Using backend ThreadingBackend with 64 concurrent workers.\n",
            "[Parallel(n_jobs=64)]: Done   1 tasks      | elapsed:    0.5s\n",
            "[Parallel(n_jobs=64)]: Done   1 out of   1 | elapsed:    0.5s finished\n",
            "iteration: 10, accuracy: 0.6074561403508771:  73%|███████▎  | 11/15 [00:21<00:07,  1.91s/it]"
          ],
          "name": "stderr"
        },
        {
          "output_type": "stream",
          "text": [
            "max_iter reached after 1 seconds\n"
          ],
          "name": "stdout"
        },
        {
          "output_type": "stream",
          "text": [
            "iteration: 11, accuracy: 0.6779661016949152:  73%|███████▎  | 11/15 [00:24<00:07,  1.91s/it][Parallel(n_jobs=64)]: Using backend ThreadingBackend with 64 concurrent workers.\n",
            "[Parallel(n_jobs=64)]: Done   1 tasks      | elapsed:    0.5s\n",
            "[Parallel(n_jobs=64)]: Done   1 out of   1 | elapsed:    0.5s finished\n",
            "iteration: 11, accuracy: 0.6779661016949152:  80%|████████  | 12/15 [00:25<00:07,  2.38s/it]"
          ],
          "name": "stderr"
        },
        {
          "output_type": "stream",
          "text": [
            "max_iter reached after 0 seconds\n"
          ],
          "name": "stdout"
        },
        {
          "output_type": "stream",
          "text": [
            "iteration: 12, accuracy: 0.6740547588005215:  80%|████████  | 12/15 [00:27<00:07,  2.38s/it][Parallel(n_jobs=64)]: Using backend ThreadingBackend with 64 concurrent workers.\n",
            "[Parallel(n_jobs=64)]: Done   1 tasks      | elapsed:    0.5s\n",
            "[Parallel(n_jobs=64)]: Done   1 out of   1 | elapsed:    0.5s finished\n",
            "iteration: 12, accuracy: 0.6740547588005215:  87%|████████▋ | 13/15 [00:28<00:05,  2.72s/it]"
          ],
          "name": "stderr"
        },
        {
          "output_type": "stream",
          "text": [
            "max_iter reached after 1 seconds\n"
          ],
          "name": "stdout"
        },
        {
          "output_type": "stream",
          "text": [
            "iteration: 13, accuracy: 0.6714471968709257:  87%|████████▋ | 13/15 [00:31<00:05,  2.72s/it][Parallel(n_jobs=64)]: Using backend ThreadingBackend with 64 concurrent workers.\n",
            "[Parallel(n_jobs=64)]: Done   1 tasks      | elapsed:    0.5s\n",
            "[Parallel(n_jobs=64)]: Done   1 out of   1 | elapsed:    0.5s finished\n",
            "iteration: 13, accuracy: 0.6714471968709257:  93%|█████████▎| 14/15 [00:32<00:02,  2.97s/it]"
          ],
          "name": "stderr"
        },
        {
          "output_type": "stream",
          "text": [
            "max_iter reached after 0 seconds\n"
          ],
          "name": "stdout"
        },
        {
          "output_type": "stream",
          "text": [
            "iteration: 14, accuracy: 0.5964912280701754:  93%|█████████▎| 14/15 [00:33<00:02,  2.97s/it][Parallel(n_jobs=64)]: Using backend ThreadingBackend with 64 concurrent workers.\n",
            "[Parallel(n_jobs=64)]: Done   1 tasks      | elapsed:    0.5s\n",
            "[Parallel(n_jobs=64)]: Done   1 out of   1 | elapsed:    0.5s finished\n",
            "iteration: 14, accuracy: 0.5964912280701754: 100%|██████████| 15/15 [00:34<00:00,  2.27s/it]"
          ],
          "name": "stderr"
        },
        {
          "output_type": "stream",
          "text": [
            "max_iter reached after 0 seconds\n",
            "time: 34.19874858856201\n"
          ],
          "name": "stdout"
        },
        {
          "output_type": "stream",
          "text": [
            "\n"
          ],
          "name": "stderr"
        }
      ]
    },
    {
      "cell_type": "markdown",
      "metadata": {
        "id": "lNi6OhOAEBrl"
      },
      "source": [
        "# Plot results"
      ]
    },
    {
      "cell_type": "code",
      "metadata": {
        "id": "mon5JEVid8IX"
      },
      "source": [
        "white_ind = np.where(Y_test_gender == 0)\n",
        "black_ind = np.where(Y_test_gender == 1)\n",
        "asian_ind = np.where(Y_test_gender == 2)\n",
        "latino_ind = np.where(Y_test_gender == 3)\n",
        "other_ind = np.where(Y_test_gender == 4)\n"
      ],
      "execution_count": 59,
      "outputs": []
    },
    {
      "cell_type": "code",
      "metadata": {
        "colab": {
          "base_uri": "https://localhost:8080/",
          "height": 1000
        },
        "id": "6n9xXzDHxsiG",
        "outputId": "73bd3ae4-a5e4-4138-f15e-f28506effaf7"
      },
      "source": [
        "import itertools\n",
        "from mpl_toolkits.axes_grid1 import ImageGrid\n",
        "import matplotlib.gridspec as gridspec\n",
        "from sklearn.metrics import confusion_matrix\n",
        "\n",
        "classes = [\"Non-toxic\", \"Toxic\"]\n",
        "for num in range(num_clfs):\n",
        "  fig = plt.figure(figsize=(12, 5))\n",
        "  grid = ImageGrid(fig, 111,        # as in plt.subplot(111)\n",
        "                  nrows_ncols=(1,4),\n",
        "                  axes_pad=0.5,\n",
        "                  cbar_location=\"right\",\n",
        "                  cbar_mode=\"single\",\n",
        "                  cbar_size=\"7%\",\n",
        "                  cbar_pad=0.5,\n",
        "                  )\n",
        "  \n",
        "  fig.subplots_adjust(wspace=0.1, hspace=0)\n",
        "  indices = [white_ind,black_ind,asian_ind,latino_ind,other_ind]\n",
        "  protected_class = ['White', 'Black', 'Asian', 'Latino']\n",
        "  for i, ax in enumerate(grid[:4]):\n",
        "      cm = confusion_matrix(Y_test[indices[i]], predictions[num][indices[i]])\n",
        "      cm = cm/Y_test[indices[i]].shape[0]*100\n",
        "      im = ax.imshow(cm, vmin=0, vmax=90,interpolation='nearest',)\n",
        "      ax.set_title(\"{}\".format(protected_class[i]), fontsize=20)  # ax.___ instead of plt.___\n",
        "      tick_marks = np.arange(2)\n",
        "      ax.set_xticks(tick_marks,)  # Warning: different signature for [x|y]ticks in pyplot and OO interface\n",
        "      ax.set_xticklabels(classes, rotation=0, fontsize= 14)\n",
        "      ax.set_yticks(tick_marks)\n",
        "      ax.set_yticklabels(classes,rotation=90, fontsize= 14,va='center')\n",
        "\n",
        "      for i, j in itertools.product(range(cm.shape[0]), range(cm.shape[1])):\n",
        "          ax.text(j, i, format(cm[i, j],'.2f'),\n",
        "                  horizontalalignment=\"center\",\n",
        "                  color=\"white\", fontsize= 14)\n",
        "\n",
        "      ax.set_ylabel('True label')\n",
        "      ax.set_xlabel('Predicted label')\n",
        "  fig.suptitle('{} iterations'.format(num+1), fontsize=20, ha='center',x=0.4, y=.95,)\n",
        "\n",
        "  fig.tight_layout()\n",
        "  fig.subplots_adjust(right=0.8)\n",
        "  fig.colorbar(im, cax=ax.cax)\n",
        "  plt.savefig('/content/nullspace_projection/NullitOut/race/conf_matrix/race_confusion_matrix_{}.png'.format(num+1), format='png')\n",
        "  plt.show()"
      ],
      "execution_count": 79,
      "outputs": [
        {
          "output_type": "display_data",
          "data": {
            "image/png": "[encoded data removed]",
            "text/plain": [
              "<Figure size 864x360 with 8 Axes>"
            ]
          },
          "metadata": {
            "tags": [],
            "needs_background": "light"
          }
        },
        {
          "output_type": "display_data",
          "data": {
            "image/png": "[encoded data removed]",
            "text/plain": [
              "<Figure size 864x360 with 8 Axes>"
            ]
          },
          "metadata": {
            "tags": [],
            "needs_background": "light"
          }
        },
        {
          "output_type": "display_data",
          "data": {
            "image/png": "[encoded data removed]",
            "text/plain": [
              "<Figure size 864x360 with 8 Axes>"
            ]
          },
          "metadata": {
            "tags": [],
            "needs_background": "light"
          }
        },
        {
          "output_type": "display_data",
          "data": {
            "image/png": "[encoded data removed]",
            "text/plain": [
              "<Figure size 864x360 with 8 Axes>"
            ]
          },
          "metadata": {
            "tags": [],
            "needs_background": "light"
          }
        },
        {
          "output_type": "display_data",
          "data": {
            "image/png": "[encoded data removed]",
            "text/plain": [
              "<Figure size 864x360 with 8 Axes>"
            ]
          },
          "metadata": {
            "tags": [],
            "needs_background": "light"
          }
        },
        {
          "output_type": "display_data",
          "data": {
            "image/png": "[encoded data removed]",
            "text/plain": [
              "<Figure size 864x360 with 8 Axes>"
            ]
          },
          "metadata": {
            "tags": [],
            "needs_background": "light"
          }
        },
        {
          "output_type": "display_data",
          "data": {
            "image/png": "[encoded data removed]",
            "text/plain": [
              "<Figure size 864x360 with 8 Axes>"
            ]
          },
          "metadata": {
            "tags": [],
            "needs_background": "light"
          }
        },
        {
          "output_type": "display_data",
          "data": {
            "image/png": "[encoded data removed]",
            "text/plain": [
              "<Figure size 864x360 with 8 Axes>"
            ]
          },
          "metadata": {
            "tags": [],
            "needs_background": "light"
          }
        },
        {
          "output_type": "display_data",
          "data": {
            "image/png": "[encoded data removed]",
            "text/plain": [
              "<Figure size 864x360 with 8 Axes>"
            ]
          },
          "metadata": {
            "tags": [],
            "needs_background": "light"
          }
        },
        {
          "output_type": "display_data",
          "data": {
            "image/png": "[encoded data removed]",
            "text/plain": [
              "<Figure size 864x360 with 8 Axes>"
            ]
          },
          "metadata": {
            "tags": [],
            "needs_background": "light"
          }
        },
        {
          "output_type": "display_data",
          "data": {
            "image/png": "[encoded data removed]",
            "text/plain": [
              "<Figure size 864x360 with 8 Axes>"
            ]
          },
          "metadata": {
            "tags": [],
            "needs_background": "light"
          }
        },
        {
          "output_type": "display_data",
          "data": {
            "image/png": "[encoded data removed]",
            "text/plain": [
              "<Figure size 864x360 with 8 Axes>"
            ]
          },
          "metadata": {
            "tags": [],
            "needs_background": "light"
          }
        },
        {
          "output_type": "display_data",
          "data": {
            "image/png": "[encoded data removed]",
            "text/plain": [
              "<Figure size 864x360 with 8 Axes>"
            ]
          },
          "metadata": {
            "tags": [],
            "needs_background": "light"
          }
        },
        {
          "output_type": "display_data",
          "data": {
            "image/png": "[encoded data removed]",
            "text/plain": [
              "<Figure size 864x360 with 8 Axes>"
            ]
          },
          "metadata": {
            "tags": [],
            "needs_background": "light"
          }
        },
        {
          "output_type": "display_data",
          "data": {
            "image/png": "[encoded data removed]",
            "text/plain": [
              "<Figure size 864x360 with 8 Axes>"
            ]
          },
          "metadata": {
            "tags": [],
            "needs_background": "light"
          }
        }
      ]
    },
    {
      "cell_type": "code",
      "metadata": {
        "colab": {
          "base_uri": "https://localhost:8080/",
          "height": 297
        },
        "id": "qT21iRPl9mpV",
        "outputId": "75edcbd6-da44-40e1-f1f1-c12a7346fd4c"
      },
      "source": [
        "import matplotlib.pylab as plt\n",
        "\n",
        "gen_output = sorted(accuracies.items()) # sorted by key, return a list of tuples\n",
        "tox_output = sorted(toxicity_accuracies.items()) # sorted by key, return a list of tuples\n",
        "\n",
        "x, y = zip(*tox_output) # unpack a list of pairs into two tuples\n",
        "plt.plot(x, tuple([z * 100 for z in y]), label='Toxicity classifier')\n",
        "x1, y1 = zip(*gen_output) # unpack a list of pairs into two tuples\n",
        "plt.plot(x1, tuple([z * 100 for z in y1]), label='Gender classifier')\n",
        "plt.tight_layout()\n",
        "plt.xticks(fontsize=14)\n",
        "plt.yticks(fontsize=14)\n",
        "plt.ylabel(\"Accuracy %\",fontsize=16)\n",
        "plt.xlabel(\"Number of iterations\",fontsize=14)\n",
        "plt.legend(fontsize=14)\n",
        "plt.tight_layout()\n",
        "plt.savefig('/content/nullspace_projection/NullitOut/race/accuracy_plot.png', format='png', dpi=100)\n",
        "plt.show()"
      ],
      "execution_count": 63,
      "outputs": [
        {
          "output_type": "display_data",
          "data": {
            "image/png": "[encoded data removed]",
            "text/plain": [
              "<Figure size 432x288 with 1 Axes>"
            ]
          },
          "metadata": {
            "tags": [],
            "needs_background": "light"
          }
        }
      ]
    },
    {
      "cell_type": "code",
      "metadata": {
        "colab": {
          "base_uri": "https://localhost:8080/"
        },
        "id": "V1WImw0ZCDFn",
        "outputId": "57b27691-0585-496c-d483-ddd7ffb7c5e8"
      },
      "source": [
        "!zip -r /content/NullitOut.zip /content/nullspace_projection/NullitOut/race/"
      ],
      "execution_count": null,
      "outputs": [
        {
          "output_type": "stream",
          "text": [
            "  adding: content/nullspace_projection/NullitOut/gender/ (stored 0%)\n",
            "  adding: content/nullspace_projection/NullitOut/gender/conf_matrix/ (stored 0%)\n",
            "  adding: content/nullspace_projection/NullitOut/gender/conf_matrix/gender_confusion_matrix_10.png (deflated 8%)\n",
            "  adding: content/nullspace_projection/NullitOut/gender/conf_matrix/gender_confusion_matrix_2.png (deflated 8%)\n",
            "  adding: content/nullspace_projection/NullitOut/gender/conf_matrix/gender_confusion_matrix_15.png (deflated 8%)\n",
            "  adding: content/nullspace_projection/NullitOut/gender/conf_matrix/gender_confusion_matrix_4.png (deflated 8%)\n",
            "  adding: content/nullspace_projection/NullitOut/gender/conf_matrix/gender_confusion_matrix_3.png (deflated 8%)\n",
            "  adding: content/nullspace_projection/NullitOut/gender/conf_matrix/gender_confusion_matrix_5.png (deflated 8%)\n",
            "  adding: content/nullspace_projection/NullitOut/gender/conf_matrix/gender_confusion_matrix_7.png (deflated 8%)\n",
            "  adding: content/nullspace_projection/NullitOut/gender/conf_matrix/gender_confusion_matrix_9.png (deflated 8%)\n",
            "  adding: content/nullspace_projection/NullitOut/gender/conf_matrix/gender_confusion_matrix_6.png (deflated 8%)\n",
            "  adding: content/nullspace_projection/NullitOut/gender/conf_matrix/gender_confusion_matrix_8.png (deflated 8%)\n",
            "  adding: content/nullspace_projection/NullitOut/gender/conf_matrix/gender_confusion_matrix_12.png (deflated 8%)\n",
            "  adding: content/nullspace_projection/NullitOut/gender/conf_matrix/gender_confusion_matrix_1.png (deflated 8%)\n",
            "  adding: content/nullspace_projection/NullitOut/gender/conf_matrix/gender_confusion_matrix_11.png (deflated 8%)\n",
            "  adding: content/nullspace_projection/NullitOut/gender/conf_matrix/gender_confusion_matrix_14.png (deflated 8%)\n",
            "  adding: content/nullspace_projection/NullitOut/gender/conf_matrix/gender_confusion_matrix_0.png (deflated 8%)\n",
            "  adding: content/nullspace_projection/NullitOut/gender/conf_matrix/gender_confusion_matrix_13.png (deflated 8%)\n",
            "  adding: content/nullspace_projection/NullitOut/gender/.ipynb_checkpoints/ (stored 0%)\n",
            "  adding: content/nullspace_projection/NullitOut/gender/accuracy_plot.png (deflated 7%)\n",
            "  adding: content/nullspace_projection/NullitOut/gender/train_gender.csv (deflated 61%)\n"
          ],
          "name": "stdout"
        }
      ]
    },
    {
      "cell_type": "markdown",
      "metadata": {
        "id": "1t4yxtt7D2Jg"
      },
      "source": [
        "## Additional investigations"
      ]
    },
    {
      "cell_type": "code",
      "metadata": {
        "colab": {
          "base_uri": "https://localhost:8080/"
        },
        "id": "BkMz18CYFgxx",
        "outputId": "42df7e3f-4d19-4732-a7e6-a47cd4813e23"
      },
      "source": [
        "! pip install pickle-mixin"
      ],
      "execution_count": null,
      "outputs": [
        {
          "output_type": "stream",
          "text": [
            "Collecting pickle-mixin\n",
            "  Downloading https://files.pythonhosted.org/packages/02/77/9d5eb2201bbc130e2a5cc41fc949e4ab0da74b619107eac1c511be3af7a7/pickle-mixin-1.0.2.tar.gz\n",
            "Building wheels for collected packages: pickle-mixin\n",
            "  Building wheel for pickle-mixin (setup.py) ... \u001b[?25l\u001b[?25hdone\n",
            "  Created wheel for pickle-mixin: filename=pickle_mixin-1.0.2-cp37-none-any.whl size=6007 sha256=aaa87a636814f64bdb54e1856cc2e175d7313d8ad385ca39ac60aab0bf11fc64\n",
            "  Stored in directory: /root/.cache/pip/wheels/cd/05/42/71de70fa36b9cbb7657bb5793a16f8028c1cdc1bdd3b8e1ac3\n",
            "Successfully built pickle-mixin\n",
            "Installing collected packages: pickle-mixin\n",
            "Successfully installed pickle-mixin-1.0.2\n"
          ],
          "name": "stdout"
        }
      ]
    },
    {
      "cell_type": "code",
      "metadata": {
        "colab": {
          "base_uri": "https://localhost:8080/"
        },
        "id": "09wy9CrwE92M",
        "outputId": "37573a35-101c-4a6f-c931-fd7fa7c58be8"
      },
      "source": [
        "import pickle\n",
        "with open(\"P.bios.fasttext.{}.svm.pickle\".format(num_clfs), \"wb\") as f:\n",
        "    \n",
        "    pickle.dump(P, f)\n",
        "    \n",
        "np.linalg.norm(Ws[-1])"
      ],
      "execution_count": null,
      "outputs": [
        {
          "output_type": "execute_result",
          "data": {
            "text/plain": [
              "2.287310059187333e-13"
            ]
          },
          "metadata": {
            "tags": []
          },
          "execution_count": 29
        }
      ]
    },
    {
      "cell_type": "code",
      "metadata": {
        "colab": {
          "base_uri": "https://localhost:8080/"
        },
        "id": "t7P4Ky-5E92N",
        "outputId": "29d9b436-4d60-47ee-d027-c0821cb3c4fc"
      },
      "source": [
        "Ws[-50].dot(Ws[0].T)"
      ],
      "execution_count": null,
      "outputs": [
        {
          "output_type": "execute_result",
          "data": {
            "text/plain": [
              "array([[ 2.35663421e-17, -7.03946081e-16,  1.92891126e-15],\n",
              "       [-1.19935565e-18,  6.24728759e-16, -1.75027647e-15],\n",
              "       [-8.12871668e-17, -1.11003265e-15,  3.45808854e-15]])"
            ]
          },
          "metadata": {
            "tags": []
          },
          "execution_count": 30
        }
      ]
    },
    {
      "cell_type": "code",
      "metadata": {
        "colab": {
          "base_uri": "https://localhost:8080/"
        },
        "id": "-FjpiheoE92N",
        "outputId": "569c9d57-1e1c-4e2d-bf26-cd96dd1c7d1e"
      },
      "source": [
        "gender_clf = LogisticRegression(warm_start = True, penalty = 'l2',\n",
        "                         solver = \"sag\", multi_class = 'multinomial', fit_intercept = True,\n",
        "                         verbose = 10, max_iter = 7, n_jobs = 64, random_state = 1)\n",
        "\n",
        "gender_clf.fit(P.dot(X_train.T).T, Y_train_gender)\n",
        "gender_clf.score(P.dot(X_dev.T).T, Y_dev_gender)"
      ],
      "execution_count": null,
      "outputs": [
        {
          "output_type": "stream",
          "text": [
            "[Parallel(n_jobs=64)]: Using backend ThreadingBackend with 64 concurrent workers.\n"
          ],
          "name": "stderr"
        },
        {
          "output_type": "stream",
          "text": [
            "max_iter reached after 2 seconds\n"
          ],
          "name": "stdout"
        },
        {
          "output_type": "stream",
          "text": [
            "[Parallel(n_jobs=64)]: Done   1 tasks      | elapsed:    1.3s\n",
            "[Parallel(n_jobs=64)]: Done   1 out of   1 | elapsed:    1.3s finished\n"
          ],
          "name": "stderr"
        },
        {
          "output_type": "execute_result",
          "data": {
            "text/plain": [
              "0.7158418186123608"
            ]
          },
          "metadata": {
            "tags": []
          },
          "execution_count": 31
        }
      ]
    },
    {
      "cell_type": "code",
      "metadata": {
        "colab": {
          "base_uri": "https://localhost:8080/"
        },
        "id": "aiDA63hVE92N",
        "outputId": "6a91fe94-9cc0-4c44-fde0-554f4ae3ddd2"
      },
      "source": [
        "gender_clf.score(P.dot(X_train.T).T, Y_train_gender)"
      ],
      "execution_count": null,
      "outputs": [
        {
          "output_type": "execute_result",
          "data": {
            "text/plain": [
              "0.7150849564857025"
            ]
          },
          "metadata": {
            "tags": []
          },
          "execution_count": 32
        }
      ]
    },
    {
      "cell_type": "markdown",
      "metadata": {
        "id": "Dnp542NKE92O"
      },
      "source": [
        "### Perform finetuning"
      ]
    },
    {
      "cell_type": "code",
      "metadata": {
        "colab": {
          "base_uri": "https://localhost:8080/"
        },
        "id": "D2WOCy-vE92O",
        "outputId": "113bb4fe-2043-432f-fff1-a7284155e458"
      },
      "source": [
        "\n",
        "clf = LogisticRegression(warm_start = True, penalty = 'l2',\n",
        "                         solver = \"sag\", multi_class = 'multinomial', fit_intercept = True,\n",
        "                         verbose = 10, max_iter = 6, n_jobs = 64, random_state = 0, class_weight = None)\n",
        "# 5\n",
        "#clf = SGDClassifier(verbose=10, n_jobs = 32)\n",
        "clf.fit(P.dot(X_train.T).T, Y_train)\n",
        "#clf.fit(X_train, Y_train)\n"
      ],
      "execution_count": null,
      "outputs": [
        {
          "output_type": "stream",
          "text": [
            "[Parallel(n_jobs=64)]: Using backend ThreadingBackend with 64 concurrent workers.\n"
          ],
          "name": "stderr"
        },
        {
          "output_type": "stream",
          "text": [
            "max_iter reached after 1 seconds\n"
          ],
          "name": "stdout"
        },
        {
          "output_type": "stream",
          "text": [
            "[Parallel(n_jobs=64)]: Done   1 tasks      | elapsed:    0.9s\n",
            "[Parallel(n_jobs=64)]: Done   1 out of   1 | elapsed:    0.9s finished\n"
          ],
          "name": "stderr"
        },
        {
          "output_type": "execute_result",
          "data": {
            "text/plain": [
              "LogisticRegression(C=1.0, class_weight=None, dual=False, fit_intercept=True,\n",
              "                   intercept_scaling=1, l1_ratio=None, max_iter=6,\n",
              "                   multi_class='multinomial', n_jobs=64, penalty='l2',\n",
              "                   random_state=0, solver='sag', tol=0.0001, verbose=10,\n",
              "                   warm_start=True)"
            ]
          },
          "metadata": {
            "tags": []
          },
          "execution_count": 43
        }
      ]
    },
    {
      "cell_type": "code",
      "metadata": {
        "colab": {
          "base_uri": "https://localhost:8080/"
        },
        "id": "IlkgTeOnE92P",
        "outputId": "1950721e-c725-4915-f797-e61572d95e83"
      },
      "source": [
        "print(clf.score(P.dot(X_test.T).T, Y_test))"
      ],
      "execution_count": null,
      "outputs": [
        {
          "output_type": "stream",
          "text": [
            "0.549265750828991\n"
          ],
          "name": "stdout"
        }
      ]
    },
    {
      "cell_type": "markdown",
      "metadata": {
        "id": "d36bCagdE92P"
      },
      "source": [
        "#### test again"
      ]
    },
    {
      "cell_type": "code",
      "metadata": {
        "id": "VAHWWNHnE92P"
      },
      "source": [
        "def get_TPR(y_pred, y_true, p2i, i2p, gender):\n",
        "    \n",
        "    scores = defaultdict(Counter)\n",
        "    prof_count_total = defaultdict(Counter)\n",
        "    \n",
        "    assert len(y_pred) == len(y_true) == len(gender)\n",
        "               \n",
        "    for y_hat, y, g in zip(y_pred, y_true, gender):\n",
        "                \n",
        "        if y == y_hat:\n",
        "            \n",
        "            scores[i2p[y]][g] += 1\n",
        "        \n",
        "        prof_count_total[i2p[y]][g] += 1\n",
        "    \n",
        "    tprs = defaultdict(dict)\n",
        "    tprs_change = dict()\n",
        "    tprs_ratio = []\n",
        "    \n",
        "    for profession, scores_dict in scores.items():\n",
        "        \n",
        "        good_m, good_f = scores_dict[\"male\"], scores_dict[\"female\"]\n",
        "        prof_total_f = prof_count_total[profession][\"female\"]\n",
        "        prof_total_m = prof_count_total[profession][\"male\"]\n",
        "        tpr_m = (good_m) / prof_total_m\n",
        "        tpr_f = (good_f) / prof_total_f\n",
        "        \n",
        "        tprs[profession][\"male\"] = tpr_m\n",
        "        tprs[profession][\"female\"] = tpr_f\n",
        "        tprs_ratio.append(0)\n",
        "        tprs_change[profession] = tpr_f - tpr_m\n",
        "        \n",
        "    return tprs, tprs_change, np.mean(np.abs(tprs_ratio))\n",
        "\n",
        "def get_FPR(y_pred, y_true, p2i, i2p, gender):\n",
        "    \n",
        "    fp = defaultdict(Counter)\n",
        "    neg_count_total = defaultdict(Counter)\n",
        "    pos_count_total = defaultdict(Counter)\n",
        "    \n",
        "    \n",
        "               \n",
        "    for y_hat, y, g in zip(y_pred, y_true, gender):\n",
        "        \n",
        "        if y != y_hat:\n",
        "            \n",
        "            fp[i2p[y_hat]][g] += 1 # count false positives for y_hat\n",
        "        \n",
        "        neg_count_total[i2p[y_hat]][g] += 1 # count \"not y_hat\"\n",
        "                \n",
        "    fprs = defaultdict(dict)\n",
        "    fprs_change = dict()\n",
        "    fprs_ratio = []\n",
        "    \n",
        "    #print(prof_count_total)\n",
        "    \n",
        "    for profession, scores_dict in fp.items():\n",
        "        \n",
        "        good_m, good_f = scores_dict[\"male\"], scores_dict[\"female\"]\n",
        "        prof_total_f = neg_count_total[profession][\"female\"]\n",
        "        prof_total_m = neg_count_total[profession][\"male\"]\n",
        "        print(profession)\n",
        "        fpr_m = (good_m+good_f) / prof_total_m\n",
        "        fpr_f = (good_m+good_f) / prof_total_f\n",
        "        \n",
        "        fprs[profession][\"male\"] = fpr_m\n",
        "        fprs[profession][\"female\"] = fpr_f\n",
        "        fprs_ratio.append(0)\n",
        "        fprs_change[profession] = fpr_m - fpr_f\n",
        "        \n",
        "    return fprs, fprs_change, np.mean(np.abs(fprs_ratio))    \n",
        "    \n",
        "def similarity_vs_tpr(tprs, word2vec, title, measure, prof2fem):\n",
        "    \n",
        "    professions = list(tprs.keys())\n",
        "    #\n",
        "    \"\"\" \n",
        "    sims = dict()\n",
        "    gender_direction = word2vec[\"he\"] - word2vec[\"she\"]\n",
        "    \n",
        "    for p in professions:\n",
        "        sim = word2vec.cosine_similarities(word2vec[p], [gender_direction])[0]\n",
        "        sims[p] = sim\n",
        "    \"\"\"\n",
        "    tpr_lst = [tprs[p] for p in professions]\n",
        "    sim_lst = [prof2fem[p] for p in professions]\n",
        "\n",
        "    #professions = [p.replace(\"_\", \" \") for p in professions if p in word2vec]\n",
        "    \n",
        "    plt.plot(sim_lst, tpr_lst, marker = \"o\", linestyle = \"none\")\n",
        "    plt.xlabel(\"% women\", fontsize = 13)\n",
        "    plt.ylabel(r'$GAP_{female,y}^{TPR}$', fontsize = 13)\n",
        "    for p in professions:\n",
        "        x,y = prof2fem[p], tprs[p]\n",
        "        plt.annotate(p , (x,y), size = 7, color = \"red\")\n",
        "    \n",
        "    plt.ylim(-0.4,0.55)\n",
        "    z = np.polyfit(sim_lst, tpr_lst, 1)\n",
        "    p = np.poly1d(z)\n",
        "    plt.plot(sim_lst,p(sim_lst),\"b--\")\n",
        "\n",
        "    plt.savefig(\"{}_vs_bias_{}_fasttext\".format(measure, title), dpi = 600)\n",
        "    print(\"Correlation: {}; p-value: {}\".format(*pearsonr(sim_lst, tpr_lst)))\n",
        "    plt.show()\n",
        "    \n",
        "def rms_diff(tpr_diff):\n",
        "    \n",
        "    return np.sqrt(np.mean(tpr_diff**2))\n",
        "    \n",
        "def save_vecs_and_words(vecs, words):\n",
        "    def to_string(arr):\n",
        "        return \"\\t\".join([str(x) for x in arr])\n",
        "    \n",
        "    with open(\"vecs.txt\", \"w\") as f:\n",
        "        for v in vecs:\n",
        "            assert len(v) == 300\n",
        "            f.write(to_string(v) + \"\\n\")\n",
        "    \n",
        "    with open(\"labels.txt\", \"w\") as f:\n",
        "            f.write(\"Profession\\n\")\n",
        "            for w in words:\n",
        "                f.write(w + \"\\n\")"
      ],
      "execution_count": null,
      "outputs": []
    },
    {
      "cell_type": "code",
      "metadata": {
        "scrolled": true,
        "id": "uk2scG5PE92Q",
        "colab": {
          "base_uri": "https://localhost:8080/",
          "height": 374
        },
        "outputId": "7d0f4ca7-8bd3-41a1-91ea-de8d5346865b"
      },
      "source": [
        "\n",
        "\n",
        "y_pred_before = clf_original.predict(X_test)\n",
        "test_gender = [d[\"label_gender\"] for d in test]\n",
        "dev_gender = [d[\"label_gender\"] for d in dev]\n",
        "train_gender = [d[\"label_gender\"] for d in train]\n",
        "\n",
        "tprs_before, tprs_change_before, mean_ratio_before = get_TPR(y_pred_before, Y_test, g2i, i2g, test_gender)\n",
        "similarity_vs_tpr(tprs_change_before, word2vec, \"before\", \"TPR\", tox2fem)\n",
        "\n",
        "\n",
        "#y_pred_after = clf.predict(X_test.dot(P))\n",
        "y_pred_after = clf.predict(X_test.dot(P))\n",
        "tprs, tprs_change_after, mean_ratio_after = get_TPR(y_pred_after, Y_test, p2i, i2p, test_gender)\n",
        "similarity_vs_tpr(tprs_change_after, word2vec, \"after\", \"TPR\", tox2fem)\n",
        "\n",
        "change_vals_before = np.array(list((tprs_change_before.values())))\n",
        "change_vals_after = np.array(list(tprs_change_after.values()))\n",
        "\n",
        "print(\"rms-diff before: {}; rms-diff after: {}\".format(rms_diff(change_vals_before), rms_diff(change_vals_after)))"
      ],
      "execution_count": null,
      "outputs": [
        {
          "output_type": "error",
          "ename": "KeyError",
          "evalue": "ignored",
          "traceback": [
            "\u001b[0;31m---------------------------------------------------------------------------\u001b[0m",
            "\u001b[0;31mKeyError\u001b[0m                                  Traceback (most recent call last)",
            "\u001b[0;32m<ipython-input-42-3cf7c5ed064b>\u001b[0m in \u001b[0;36m<module>\u001b[0;34m()\u001b[0m\n\u001b[1;32m      7\u001b[0m \u001b[0;34m\u001b[0m\u001b[0m\n\u001b[1;32m      8\u001b[0m \u001b[0mtprs_before\u001b[0m\u001b[0;34m,\u001b[0m \u001b[0mtprs_change_before\u001b[0m\u001b[0;34m,\u001b[0m \u001b[0mmean_ratio_before\u001b[0m \u001b[0;34m=\u001b[0m \u001b[0mget_TPR\u001b[0m\u001b[0;34m(\u001b[0m\u001b[0my_pred_before\u001b[0m\u001b[0;34m,\u001b[0m \u001b[0mY_test\u001b[0m\u001b[0;34m,\u001b[0m \u001b[0mg2i\u001b[0m\u001b[0;34m,\u001b[0m \u001b[0mi2g\u001b[0m\u001b[0;34m,\u001b[0m \u001b[0mtest_gender\u001b[0m\u001b[0;34m)\u001b[0m\u001b[0;34m\u001b[0m\u001b[0;34m\u001b[0m\u001b[0m\n\u001b[0;32m----> 9\u001b[0;31m \u001b[0msimilarity_vs_tpr\u001b[0m\u001b[0;34m(\u001b[0m\u001b[0mtprs_change_before\u001b[0m\u001b[0;34m,\u001b[0m \u001b[0mword2vec\u001b[0m\u001b[0;34m,\u001b[0m \u001b[0;34m\"before\"\u001b[0m\u001b[0;34m,\u001b[0m \u001b[0;34m\"TPR\"\u001b[0m\u001b[0;34m,\u001b[0m \u001b[0mtox2fem\u001b[0m\u001b[0;34m)\u001b[0m\u001b[0;34m\u001b[0m\u001b[0;34m\u001b[0m\u001b[0m\n\u001b[0m\u001b[1;32m     10\u001b[0m \u001b[0;34m\u001b[0m\u001b[0m\n\u001b[1;32m     11\u001b[0m \u001b[0;34m\u001b[0m\u001b[0m\n",
            "\u001b[0;32m<ipython-input-35-ce1e9b9962c5>\u001b[0m in \u001b[0;36msimilarity_vs_tpr\u001b[0;34m(tprs, word2vec, title, measure, prof2fem)\u001b[0m\n\u001b[1;32m     84\u001b[0m     \"\"\"\n\u001b[1;32m     85\u001b[0m     \u001b[0mtpr_lst\u001b[0m \u001b[0;34m=\u001b[0m \u001b[0;34m[\u001b[0m\u001b[0mtprs\u001b[0m\u001b[0;34m[\u001b[0m\u001b[0mp\u001b[0m\u001b[0;34m]\u001b[0m \u001b[0;32mfor\u001b[0m \u001b[0mp\u001b[0m \u001b[0;32min\u001b[0m \u001b[0mprofessions\u001b[0m\u001b[0;34m]\u001b[0m\u001b[0;34m\u001b[0m\u001b[0;34m\u001b[0m\u001b[0m\n\u001b[0;32m---> 86\u001b[0;31m     \u001b[0msim_lst\u001b[0m \u001b[0;34m=\u001b[0m \u001b[0;34m[\u001b[0m\u001b[0mprof2fem\u001b[0m\u001b[0;34m[\u001b[0m\u001b[0mp\u001b[0m\u001b[0;34m]\u001b[0m \u001b[0;32mfor\u001b[0m \u001b[0mp\u001b[0m \u001b[0;32min\u001b[0m \u001b[0mprofessions\u001b[0m\u001b[0;34m]\u001b[0m\u001b[0;34m\u001b[0m\u001b[0;34m\u001b[0m\u001b[0m\n\u001b[0m\u001b[1;32m     87\u001b[0m \u001b[0;34m\u001b[0m\u001b[0m\n\u001b[1;32m     88\u001b[0m     \u001b[0;31m#professions = [p.replace(\"_\", \" \") for p in professions if p in word2vec]\u001b[0m\u001b[0;34m\u001b[0m\u001b[0;34m\u001b[0m\u001b[0;34m\u001b[0m\u001b[0m\n",
            "\u001b[0;32m<ipython-input-35-ce1e9b9962c5>\u001b[0m in \u001b[0;36m<listcomp>\u001b[0;34m(.0)\u001b[0m\n\u001b[1;32m     84\u001b[0m     \"\"\"\n\u001b[1;32m     85\u001b[0m     \u001b[0mtpr_lst\u001b[0m \u001b[0;34m=\u001b[0m \u001b[0;34m[\u001b[0m\u001b[0mtprs\u001b[0m\u001b[0;34m[\u001b[0m\u001b[0mp\u001b[0m\u001b[0;34m]\u001b[0m \u001b[0;32mfor\u001b[0m \u001b[0mp\u001b[0m \u001b[0;32min\u001b[0m \u001b[0mprofessions\u001b[0m\u001b[0;34m]\u001b[0m\u001b[0;34m\u001b[0m\u001b[0;34m\u001b[0m\u001b[0m\n\u001b[0;32m---> 86\u001b[0;31m     \u001b[0msim_lst\u001b[0m \u001b[0;34m=\u001b[0m \u001b[0;34m[\u001b[0m\u001b[0mprof2fem\u001b[0m\u001b[0;34m[\u001b[0m\u001b[0mp\u001b[0m\u001b[0;34m]\u001b[0m \u001b[0;32mfor\u001b[0m \u001b[0mp\u001b[0m \u001b[0;32min\u001b[0m \u001b[0mprofessions\u001b[0m\u001b[0;34m]\u001b[0m\u001b[0;34m\u001b[0m\u001b[0;34m\u001b[0m\u001b[0m\n\u001b[0m\u001b[1;32m     87\u001b[0m \u001b[0;34m\u001b[0m\u001b[0m\n\u001b[1;32m     88\u001b[0m     \u001b[0;31m#professions = [p.replace(\"_\", \" \") for p in professions if p in word2vec]\u001b[0m\u001b[0;34m\u001b[0m\u001b[0;34m\u001b[0m\u001b[0;34m\u001b[0m\u001b[0m\n",
            "\u001b[0;31mKeyError\u001b[0m: 'female'"
          ]
        }
      ]
    },
    {
      "cell_type": "code",
      "metadata": {
        "id": "eAdd251EE92R"
      },
      "source": [
        "def tsne_by_gender(vecs, labels, title, words = None):\n",
        "\n",
        "  tsne = TSNE(n_components=2, random_state=0)\n",
        "  vecs_2d = tsne.fit_transform(vecs)\n",
        "  num_labels = len(set(labels.tolist()))\n",
        "\n",
        "  names = [\"class {}\".format(i) for i in range(num_labels)]\n",
        "  plt.figure(figsize=(6, 5))\n",
        "  colors = 'r', 'b', 'orange'\n",
        "  for i, c, label in zip(set(labels.tolist()), colors, names):\n",
        "    print(len(vecs_2d[labels == i, 0]))\n",
        "    plt.scatter(vecs_2d[labels == i, 0], vecs_2d[labels == i, 1], c=c,\n",
        "                label=label, alpha = 0.6)\n",
        "  plt.legend(loc = \"upper right\")\n",
        "  plt.title(title)\n",
        "  \n",
        "  if words is not None:\n",
        "        k = 60\n",
        "        for i in range(k):\n",
        "            \n",
        "            j = np.random.choice(range(len(words)))\n",
        "            label = labels[i]\n",
        "            w = words[j]\n",
        "            x,y = vecs_2d[i]\n",
        "            plt.annotate(w , (x,y), size = 10, color = \"black\" if label == 1 else \"black\")\n",
        "            \n",
        "  plt.show()\n",
        "  return vecs_2d"
      ],
      "execution_count": null,
      "outputs": []
    },
    {
      "cell_type": "code",
      "metadata": {
        "id": "gIHLjzSTE92S"
      },
      "source": [
        "prof = \"professor\"\n",
        "idx = np.random.rand(X_dev.shape[0]) < 0.1\n",
        "prof_idx = Y_dev == p2i[prof]\n",
        "n = 800\n",
        "tsne_by_gender(X_dev[prof_idx][:n], np.array(dev_gender)[prof_idx][:n], \"tsne by gender, before, {}\".format(prof))\n",
        "tsne_by_gender((X_dev[prof_idx].dot(P))[:n], np.array(dev_gender)[prof_idx][:n], \"tsne by gender, after. {}\".format(prof))"
      ],
      "execution_count": null,
      "outputs": []
    },
    {
      "cell_type": "code",
      "metadata": {
        "id": "U24l_gEiE92S"
      },
      "source": [
        "def count_profs(data_y, i2p):\n",
        "    d = Counter()\n",
        "    for y in data_y:\n",
        "        d[i2p[y]] += 1\n",
        "    return d"
      ],
      "execution_count": null,
      "outputs": []
    },
    {
      "cell_type": "code",
      "metadata": {
        "id": "iBFjIDYaE92S"
      },
      "source": [
        "count_profs(Y_train, i2p)"
      ],
      "execution_count": null,
      "outputs": []
    },
    {
      "cell_type": "code",
      "metadata": {
        "id": "5zziFbK-E92T"
      },
      "source": [
        "count_profs(Y_dev, i2p)"
      ],
      "execution_count": null,
      "outputs": []
    },
    {
      "cell_type": "code",
      "metadata": {
        "id": "p9Ur7o2dE92T"
      },
      "source": [
        "p0 = all_Ps[0]\n",
        "p1 = all_Ps[1]\n",
        "p2 = all_Ps[2]"
      ],
      "execution_count": null,
      "outputs": []
    },
    {
      "cell_type": "code",
      "metadata": {
        "id": "fAsHKGL8E92T"
      },
      "source": [
        "p2.dot(p2.T)<"
      ],
      "execution_count": null,
      "outputs": []
    },
    {
      "cell_type": "code",
      "metadata": {
        "id": "av4_eP3wE92U"
      },
      "source": [
        "p0 = all_Ps[0]\n",
        "p1 = all_Ps[1]\n",
        "p2 = all_Ps[2]\n",
        "\n",
        "p2.dot(p2.T)"
      ],
      "execution_count": null,
      "outputs": []
    },
    {
      "cell_type": "code",
      "metadata": {
        "id": "_Jh88wZJE92U"
      },
      "source": [
        "def get_common_words(data: List[dict], word2vec_model):\n",
        "    \n",
        "    words_counter = Counter()\n",
        "    vecs = []\n",
        "    all_words = []\n",
        "    \n",
        "    \n",
        "    for entry in tqdm.tqdm(data, total = len(data)):\n",
        "        \n",
        "        y = p2i[entry[\"p\"]]\n",
        "        words = entry[\"hard_text\"].split(\" \")\n",
        "        all_words.extend(words)\n",
        "            \n",
        "    \n",
        "    words_counter = Counter(all_words)\n",
        "    common_words = [w for w in words_counter if words_counter[w] > 10 and (w in word2vec_model)]\n",
        "    common_vecs = [word2vec_model[w] for w in common_words]\n",
        "    \n",
        "    return common_words, common_vecs\n",
        "        \n",
        "        "
      ],
      "execution_count": null,
      "outputs": []
    },
    {
      "cell_type": "code",
      "metadata": {
        "scrolled": true,
        "id": "kxiyJQSmE92V"
      },
      "source": [
        "words, vecs = get_common_words(train,word2vec)\n",
        "\n",
        "vecs_normed = vecs / np.linalg.norm(vecs, keepdims = True)\n",
        "ws_normed = [w/np.linalg.norm(w) for w in all_ws]\n",
        "k = 1000\n",
        "groups, labels = [], []\n",
        "\n",
        "for i,w in enumerate(ws_normed):\n",
        "    print(\"INLP ITERATION: {}\".format(i))\n",
        "    sims_i = w.dot(vecs_normed.T).squeeze(0)\n",
        "    zipped = zip(words, vecs_normed, sims_i)\n",
        "    zipped = sorted(list(zipped), key = lambda tuple: -abs(tuple[2]))\n",
        "    ws,vs, sims = list(zip(*zipped))\n",
        "    print(ws[:k])\n",
        "    groups.append(vs[:k])\n",
        "    labels.append(i)\n",
        "    print(\"------------------------------------------------------------------\")"
      ],
      "execution_count": null,
      "outputs": []
    },
    {
      "cell_type": "code",
      "metadata": {
        "id": "tJgmSG4_E92W"
      },
      "source": [
        "def visualize_gender_subspace(vecs, labels):\n",
        "    \n",
        "        N = len(labels)\n",
        "        \n",
        "        all_vecs = []\n",
        "        all_labels = []\n",
        "        \n",
        "        for vecs_list,l in zip(vecs, labels):\n",
        "            \n",
        "            all_labels.append(np.ones(len(vecs_list)) * l)\n",
        "        \n",
        "        all_vecs_np = np.concatenate(vecs, axis = 0)\n",
        "        all_labels_np = np.concatenate(all_labels, axis = 0)\n",
        "        tsne = TSNE(n_components=2, random_state=0)\n",
        "        vecs_2d = tsne.fit_transform(all_vecs_np)\n",
        "    \n",
        "        fig, ax = plt.subplots()\n",
        "        # define the colormap\n",
        "        cmap = plt.cm.jet\n",
        "        # extract all colors from the .jet map\n",
        "        cmaplist = [cmap(i) for i in range(cmap.N)]\n",
        "        # create the new map\n",
        "        cmap = cmap.from_list('Custom cmap', cmaplist, cmap.N)\n",
        "        # define the bins and normalize\n",
        "        bounds = np.linspace(0, N, N + 1)\n",
        "        norm = matplotlib.colors.BoundaryNorm(bounds, cmap.N)\n",
        "        print(\"here\")\n",
        "        print(all_labels_np.shape)\n",
        "        scat = ax.scatter(vecs_2d[:,0], vecs_2d[:,1], c=all_labels_np, cmap=cmap, norm=norm, alpha=0.15)\n",
        "        cb = plt.colorbar(scat, spacing='proportional')#, ticks=bounds)\n",
        "        cb.set_label(\"INLP iteration number\")\n",
        "        plt.savefig(\"INLP progress\", dpi = 600)\n",
        "        plt.show()"
      ],
      "execution_count": null,
      "outputs": []
    },
    {
      "cell_type": "code",
      "metadata": {
        "id": "QFLeXfIqE92W"
      },
      "source": [
        "#visualize_gender_subspace(groups, labels)"
      ],
      "execution_count": null,
      "outputs": []
    },
    {
      "cell_type": "code",
      "metadata": {
        "id": "7Dkbi050E92X"
      },
      "source": [
        "word2vec"
      ],
      "execution_count": null,
      "outputs": []
    },
    {
      "cell_type": "code",
      "metadata": {
        "id": "RYyyODe2E92X"
      },
      "source": [
        "i = 0\n",
        "for w in Ws[:150]:\n",
        "    \n",
        "    #sims = word2vec.similar_by_vector(-w.squeeze(), topn = 60, restrict_vocab=None)\n",
        "    most_similar_f, _ =  list(zip(*word2vec_bios.similar_by_vector(w.squeeze(), topn = 20, restrict_vocab=None)))\n",
        "    most_similar_m, _ =  list(zip(*word2vec_bios.similar_by_vector(-w.squeeze(), topn = 20, restrict_vocab=None)))\n",
        "    print(\"gender direction {}.\\n most_similar male: {}\\n; most_similar female: {}\".format(i, most_similar_m, most_similar_f))\n",
        "    print(\"=====================================\")\n",
        "    i += 1"
      ],
      "execution_count": null,
      "outputs": []
    },
    {
      "cell_type": "code",
      "metadata": {
        "id": "fRgCl0G9E92X"
      },
      "source": [
        ""
      ],
      "execution_count": null,
      "outputs": []
    },
    {
      "cell_type": "code",
      "metadata": {
        "id": "UwN1JYonE92X"
      },
      "source": [
        "nurse_train = [r for r in train if r[\"p\"] == \"nurse\"]\n",
        "nurse_train[0]"
      ],
      "execution_count": null,
      "outputs": []
    },
    {
      "cell_type": "code",
      "metadata": {
        "id": "nV5pNZWFE92Y"
      },
      "source": [
        "profs_train_str = np.array([i2p[y] for y in Y_train[:]])"
      ],
      "execution_count": null,
      "outputs": []
    },
    {
      "cell_type": "code",
      "metadata": {
        "id": "zknaMzeHE92Y"
      },
      "source": [
        "X_train.shape, profs_train_str.shape"
      ],
      "execution_count": null,
      "outputs": []
    },
    {
      "cell_type": "code",
      "metadata": {
        "id": "g5Mty9ewE92Y"
      },
      "source": [
        "for p in p2i.keys():\n",
        "    x_train_nurse = X_train[profs_train_str == p]\n",
        "    y_train_nurse = Y_train[profs_train_str == p]\n",
        "    print(p,len(x_train_nurse)/len(X_train)*100,\"%\", clf_original.score(x_train_nurse, y_train_nurse), clf.score(P.dot(x_train_nurse.T).T, y_train_nurse))"
      ],
      "execution_count": null,
      "outputs": []
    },
    {
      "cell_type": "code",
      "metadata": {
        "id": "FnrdP0EBE92Y"
      },
      "source": [
        "x_train_nurse.shape, y_train_nurse.shape"
      ],
      "execution_count": null,
      "outputs": []
    },
    {
      "cell_type": "code",
      "metadata": {
        "id": "qlfrcww2E92Z"
      },
      "source": [
        ""
      ],
      "execution_count": null,
      "outputs": []
    },
    {
      "cell_type": "code",
      "metadata": {
        "id": "vD3J4xelE92Z"
      },
      "source": [
        ""
      ],
      "execution_count": null,
      "outputs": []
    },
    {
      "cell_type": "code",
      "metadata": {
        "id": "pvQKej89E92Z"
      },
      "source": [
        "{'professor': 0.45118956904580476, 'chiropractor': 0.26558891454965355, 'psychologist': 0.6223011751844766, 'architect': 0.23712053792148718, 'physician': 0.507688318423441, 'nurse': 0.9085446207369142, 'dentist': 0.35589474411216243, 'surgeon': 0.14857228961048746, 'rapper': 0.09665955934612651, 'model': 0.8283124500133298, 'photographer': 0.35721920736720936, 'composer': 0.16392857142857142, 'comedian': 0.21150410861021793, 'filmmaker': 0.3295762590954487, 'paralegal': 0.8483305036785512, 'journalist': 0.49488721804511276, 'personal_trainer': 0.45670391061452514, 'teacher': 0.603111879476414, 'painter': 0.4579886246122027, 'attorney': 0.38316925813475633, 'accountant': 0.36818825194621374, 'software_engineer': 0.1576889661164205, 'poet': 0.49080017115960634, 'dj': 0.1420875420875421, 'pastor': 0.24052132701421802, 'yoga_teacher': 0.8454600120264583, 'dietitian': 0.9273504273504274, 'interior_designer': 0.8086124401913876}"
      ],
      "execution_count": null,
      "outputs": []
    },
    {
      "cell_type": "code",
      "metadata": {
        "id": "4TnYvKvaE92a"
      },
      "source": [
        ""
      ],
      "execution_count": null,
      "outputs": []
    }
  ]
}